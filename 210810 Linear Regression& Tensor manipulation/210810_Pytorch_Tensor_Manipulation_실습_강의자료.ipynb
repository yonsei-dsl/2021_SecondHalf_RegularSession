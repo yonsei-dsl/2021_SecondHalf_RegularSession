{
 "cells": [
  {
   "cell_type": "markdown",
   "metadata": {
    "id": "s5-iMDAUbpgs"
   },
   "source": [
    "# Pytorch Tensor Manipulation\n",
    "\n",
    "### **강의자: DSL 5기 허유진**"
   ]
  },
  {
   "cell_type": "markdown",
   "metadata": {
    "id": "t_sniUB0bpgs"
   },
   "source": [
    "First Author: Seungjae Ryan Lee (seungjaeryanlee at gmail dot com)\n",
    "Second Author: Ki Hyun Kim (nlp.with.deep.learning at gmail dot com)"
   ]
  },
  {
   "cell_type": "markdown",
   "metadata": {
    "id": "TJiKuuFmbpgt"
   },
   "source": [
    "<div class=\"alert alert-warning\">\n",
    "    NOTE: This corresponds to <a href=\"https://www.youtube.com/watch?v=ZYX0FaqUeN4&t=23s&list=PLlMkM4tgfjnLSOjrEJN31gZATbcj_MpUm&index=25\">Lab 8 of Deep Learning Zero to All Season 1 for TensorFlow</a>.\n",
    "</div>"
   ]
  },
  {
   "cell_type": "markdown",
   "metadata": {
    "id": "CeeE0pMPevI2"
   },
   "source": [
    "#### **Pytorch란?**\n",
    "\n",
    "- 딥러닝 프레임워크\n",
    "- 최대한의 유연성과 속도를 제공하는 딥러닝 연구 플랫폼\n",
    "- 개발자들과 연구자들이 쉽게 GPU를 활용하여 인공 신경망 모델을 만들고 학습시킬 수 있게 도와준다.\n",
    "\n",
    "\n",
    "#### **Pytorch로 다루게 될 데이터의 형태**\n",
    "\n",
    "- Vector: 1차원 데이터 배열\n",
    "\n",
    "- Matrix: 2차원 데이터 배열\n",
    "\n",
    "- 3D Tensor: 3차원 데이터 배열\n",
    "\n",
    "#### **2차원 matrix의 크기 계산**\n",
    "batch size * dimension\n",
    "\n",
    "\n",
    "#### **3차원 tensor의 크기 계산 (Computer Vision)**\n",
    "batch size * width * height\n",
    "\n",
    "\n",
    "#### **3차원 tensor의 크기 계산 (시계열 데이터, Natural Language Processing)**\n",
    "batch size * length * dimension\n",
    "\n",
    "(이때 dimension * length는 한 문장을 의미한다.)\n",
    "\n"
   ]
  },
  {
   "cell_type": "markdown",
   "metadata": {
    "id": "OLj8ikcvbpgu"
   },
   "source": [
    "## Imports"
   ]
  },
  {
   "cell_type": "code",
   "execution_count": 1,
   "metadata": {},
   "outputs": [
    {
     "name": "stderr",
     "output_type": "stream",
     "text": [
      "WARNING: Ignoring invalid distribution - (c:\\anaconda\\lib\\site-packages)\n",
      "ERROR: Could not open requirements file: [Errno 2] No such file or directory: 'requirements.txt'\n",
      "WARNING: Ignoring invalid distribution - (c:\\anaconda\\lib\\site-packages)\n",
      "WARNING: Ignoring invalid distribution - (c:\\anaconda\\lib\\site-packages)\n",
      "WARNING: Ignoring invalid distribution - (c:\\anaconda\\lib\\site-packages)\n",
      "WARNING: You are using pip version 21.1.3; however, version 21.2.4 is available.\n",
      "You should consider upgrading via the 'c:\\anaconda\\python.exe -m pip install --upgrade pip' command.\n"
     ]
    }
   ],
   "source": [
    "!pip install -r requirements.txt"
   ]
  },
  {
   "cell_type": "markdown",
   "metadata": {
    "id": "GdqvUEu4bpgv"
   },
   "source": [
    "Run `pip install -r requirements.txt` in terminal to install all required Python packages."
   ]
  },
  {
   "cell_type": "code",
   "execution_count": 2,
   "metadata": {
    "id": "mrh5TB0Cbpgv"
   },
   "outputs": [
    {
     "ename": "ModuleNotFoundError",
     "evalue": "No module named 'torch'",
     "output_type": "error",
     "traceback": [
      "\u001b[1;31m---------------------------------------------------------------------------\u001b[0m",
      "\u001b[1;31mModuleNotFoundError\u001b[0m                       Traceback (most recent call last)",
      "\u001b[1;32m<ipython-input-2-466bbead58b5>\u001b[0m in \u001b[0;36m<module>\u001b[1;34m\u001b[0m\n\u001b[0;32m      1\u001b[0m \u001b[1;32mimport\u001b[0m \u001b[0mnumpy\u001b[0m \u001b[1;32mas\u001b[0m \u001b[0mnp\u001b[0m\u001b[1;33m\u001b[0m\u001b[1;33m\u001b[0m\u001b[0m\n\u001b[1;32m----> 2\u001b[1;33m \u001b[1;32mimport\u001b[0m \u001b[0mtorch\u001b[0m\u001b[1;33m\u001b[0m\u001b[1;33m\u001b[0m\u001b[0m\n\u001b[0m",
      "\u001b[1;31mModuleNotFoundError\u001b[0m: No module named 'torch'"
     ]
    }
   ],
   "source": [
    "import numpy as np\n",
    "import torch"
   ]
  },
  {
   "cell_type": "markdown",
   "metadata": {
    "id": "6wTWOYwkbpgv"
   },
   "source": [
    "## NumPy Review"
   ]
  },
  {
   "cell_type": "markdown",
   "metadata": {
    "id": "m_wSIMJNbpgw"
   },
   "source": [
    "We hope that you are familiar with `numpy` and basic linear algebra.\n",
    "\n",
    "Pytorch 자체는 numpy와 굉장히 유사하다. 또는 더 나은 기능을 제공한다."
   ]
  },
  {
   "cell_type": "markdown",
   "metadata": {
    "id": "kM37VgPDbpgx"
   },
   "source": [
    "### 1D Array with NumPy"
   ]
  },
  {
   "cell_type": "code",
   "execution_count": 2,
   "metadata": {
    "colab": {
     "base_uri": "https://localhost:8080/"
    },
    "id": "YXhohpr2bpgx",
    "outputId": "4a501c1e-9b1b-4729-9382-b4eb22dc893f"
   },
   "outputs": [
    {
     "name": "stdout",
     "output_type": "stream",
     "text": [
      "[0. 1. 2. 3. 4. 5. 6.]\n"
     ]
    }
   ],
   "source": [
    "# 1D array 선언\n",
    "# list에 넣고 np.array 함수에 넣기\n",
    "\n",
    "t = np.array([0., 1., 2., 3., 4., 5., 6.])\n",
    "print(t)"
   ]
  },
  {
   "cell_type": "code",
   "execution_count": 3,
   "metadata": {
    "colab": {
     "base_uri": "https://localhost:8080/"
    },
    "id": "cO8arwmYbpgz",
    "outputId": "42a23250-818d-474f-ff85-afa70f3f3185"
   },
   "outputs": [
    {
     "name": "stdout",
     "output_type": "stream",
     "text": [
      "Rank  of t:  1\n",
      "Shape of t:  (7,)\n"
     ]
    }
   ],
   "source": [
    "print('Rank  of t: ', t.ndim) # t의 차원이 궁금하다 -> 1차원 벡터\n",
    "print('Shape of t: ', t.shape) # t의 shape이 궁금하다 -> 하나의 차원에 대해 7개의 element가 들어있다"
   ]
  },
  {
   "cell_type": "code",
   "execution_count": 4,
   "metadata": {
    "colab": {
     "base_uri": "https://localhost:8080/"
    },
    "id": "mkYmdKe7bpgz",
    "outputId": "4c6911a5-9c19-4970-b690-7f79111fce00"
   },
   "outputs": [
    {
     "name": "stdout",
     "output_type": "stream",
     "text": [
      "t[0] t[1] t[-1] =  0.0 1.0 6.0\n",
      "t[2:5] t[4:-1]  =  [2. 3. 4.] [4. 5.]\n",
      "t[:2] t[3:]     =  [0. 1.] [3. 4. 5. 6.]\n"
     ]
    }
   ],
   "source": [
    "print('t[0] t[1] t[-1] = ', t[0], t[1], t[-1]) # Element\n",
    "print('t[2:5] t[4:-1]  = ', t[2:5], t[4:-1])   # Slicing\n",
    "print('t[:2] t[3:]     = ', t[:2], t[3:])      # Slicing"
   ]
  },
  {
   "cell_type": "markdown",
   "metadata": {
    "id": "wau_IKiRbpg0"
   },
   "source": [
    "### 2D Array with NumPy"
   ]
  },
  {
   "cell_type": "code",
   "execution_count": 5,
   "metadata": {
    "colab": {
     "base_uri": "https://localhost:8080/"
    },
    "id": "ZSSUjXhpbpg0",
    "outputId": "8505438a-fb46-4905-c2cb-06c54acf2d33"
   },
   "outputs": [
    {
     "name": "stdout",
     "output_type": "stream",
     "text": [
      "[[ 1.  2.  3.]\n",
      " [ 4.  5.  6.]\n",
      " [ 7.  8.  9.]\n",
      " [10. 11. 12.]]\n"
     ]
    }
   ],
   "source": [
    "# 2D array 선언\n",
    "\n",
    "t = np.array([[1., 2., 3.], [4., 5., 6.], [7., 8., 9.], [10., 11., 12.]])\n",
    "print(t)"
   ]
  },
  {
   "cell_type": "markdown",
   "metadata": {
    "id": "MtRN6mtm7IEn"
   },
   "source": []
  },
  {
   "cell_type": "code",
   "execution_count": 6,
   "metadata": {
    "colab": {
     "base_uri": "https://localhost:8080/"
    },
    "id": "gF4AtDlYbpg1",
    "outputId": "dec7bde8-0b47-4c7b-9b54-f2e1108ce2f9"
   },
   "outputs": [
    {
     "name": "stdout",
     "output_type": "stream",
     "text": [
      "Rank  of t:  2\n",
      "Shape of t:  (4, 3)\n"
     ]
    }
   ],
   "source": [
    "print('Rank  of t: ', t.ndim) # t의 차원이 궁금하다 -> 2차원 행렬\n",
    "print('Shape of t: ', t.shape) # t의 shape이 궁금하다 -> 두 개의 차원에 각각 4개, 3개의 element가 들어있다. 4 X 3 matrix인 것."
   ]
  },
  {
   "cell_type": "markdown",
   "metadata": {
    "id": "QDC8oRUUbpg1"
   },
   "source": [
    "## PyTorch is like NumPy (but better)"
   ]
  },
  {
   "cell_type": "markdown",
   "metadata": {
    "id": "tGRTotSbbpg2"
   },
   "source": [
    "### 1D Array with PyTorch"
   ]
  },
  {
   "cell_type": "code",
   "execution_count": 7,
   "metadata": {
    "colab": {
     "base_uri": "https://localhost:8080/"
    },
    "id": "LkHXOMfxbpg2",
    "outputId": "880e192c-107b-4e90-e64b-df9781b95c99"
   },
   "outputs": [
    {
     "name": "stdout",
     "output_type": "stream",
     "text": [
      "tensor([0., 1., 2., 3., 4., 5., 6.])\n"
     ]
    }
   ],
   "source": [
    "# Pytorch에서의 1D array 선언\n",
    "# Python list로 값을 넣어준 후에, torch.FloatTensor 함수 이용\n",
    "# torch에 float 형태로 값을 넣어줘라.\n",
    "\n",
    "t = torch.FloatTensor([0., 1., 2., 3., 4., 5., 6.])\n",
    "print(t)"
   ]
  },
  {
   "cell_type": "code",
   "execution_count": 8,
   "metadata": {
    "colab": {
     "base_uri": "https://localhost:8080/"
    },
    "id": "mdk2e1sxbpg2",
    "outputId": "5cae2bf7-210d-4637-fbdf-dfa6cda4505d",
    "scrolled": true
   },
   "outputs": [
    {
     "name": "stdout",
     "output_type": "stream",
     "text": [
      "1\n",
      "torch.Size([7])\n",
      "torch.Size([7])\n",
      "tensor(0.) tensor(1.) tensor(6.)\n",
      "tensor([2., 3., 4.]) tensor([4., 5.])\n",
      "tensor([0., 1.]) tensor([3., 4., 5., 6.])\n"
     ]
    }
   ],
   "source": [
    "print(t.dim())  # rank  # 차원의 개수: 1개\n",
    "print(t.shape)  # shape # 모양은: 7개의 element가 있다\n",
    "print(t.size()) # shape # 위와 같은 값\n",
    "print(t[0], t[1], t[-1])  # Element\n",
    "print(t[2:5], t[4:-1])    # Slicing\n",
    "print(t[:2], t[3:])       # Slicing"
   ]
  },
  {
   "cell_type": "markdown",
   "metadata": {
    "id": "sz9vgKl9bpg2"
   },
   "source": [
    "### 2D Array with PyTorch"
   ]
  },
  {
   "cell_type": "code",
   "execution_count": 9,
   "metadata": {
    "colab": {
     "base_uri": "https://localhost:8080/"
    },
    "id": "hIZFh9N5bpg3",
    "outputId": "fc12c868-4438-4674-ec95-875ce8af1696"
   },
   "outputs": [
    {
     "name": "stdout",
     "output_type": "stream",
     "text": [
      "tensor([[ 1.,  2.,  3.],\n",
      "        [ 4.,  5.,  6.],\n",
      "        [ 7.,  8.,  9.],\n",
      "        [10., 11., 12.]])\n"
     ]
    }
   ],
   "source": [
    "# Pytorch에서의 2D array 선언\n",
    "# Python list로 값을 넣어준 후에, torch.FloatTensor 함수 이용\n",
    "# torch에 float 형태로 값을 넣어줘라.\n",
    "\n",
    "t = torch.FloatTensor([[1., 2., 3.],\n",
    "                       [4., 5., 6.],\n",
    "                       [7., 8., 9.],\n",
    "                       [10., 11., 12.]\n",
    "                      ])\n",
    "print(t) # 4 X 3 matrix"
   ]
  },
  {
   "cell_type": "code",
   "execution_count": 10,
   "metadata": {
    "colab": {
     "base_uri": "https://localhost:8080/"
    },
    "id": "TGsGK5-Kbpg3",
    "outputId": "eed4e039-2175-40d5-85f9-c0127c2c92d0"
   },
   "outputs": [
    {
     "name": "stdout",
     "output_type": "stream",
     "text": [
      "2\n",
      "torch.Size([4, 3])\n",
      "tensor([ 2.,  5.,  8., 11.])\n",
      "torch.Size([4])\n",
      "tensor([[ 1.,  2.],\n",
      "        [ 4.,  5.],\n",
      "        [ 7.,  8.],\n",
      "        [10., 11.]])\n"
     ]
    }
   ],
   "source": [
    "print(t.dim())  # rank  # 차원: 2차원\n",
    "print(t.size()) # shape # 각 차원에 4개, 3개의 element가 있다\n",
    "print(t[:, 1])\n",
    "print(t[:, 1].size())   # 4개의 element를 가진 vector이다.\n",
    "print(t[:, :-1])"
   ]
  },
  {
   "cell_type": "markdown",
   "metadata": {
    "id": "9GwD8BTAbpg5"
   },
   "source": [
    "### Broadcasting"
   ]
  },
  {
   "cell_type": "markdown",
   "metadata": {
    "id": "rA87EwUpbpg5"
   },
   "source": [
    "<div class=\"alert alert-warning\">\n",
    "    Carelessly using broadcasting can lead to code hard to debug.\n",
    "</div>\n",
    "\n",
    "Pytorch에서는 broadcasting이라는 기능을 제공한다.\n",
    "\n",
    "matrix 연산법칙\n",
    "- 합/차 연산에서는 두 행렬의 크기가 같아야 한다.\n",
    "- 행렬곱 연산에서는 첫 행렬의 마지막 차원과 두 번째 행렬의 첫 번째 차원이 일치해야 한다.\n",
    "\n",
    "but! 불가피하게 다른 크기의 행렬을 더하거나 빼는 사칙연산을 수행해야하는 상황이 발생할 수 있다.\n",
    "\n",
    "이때 pytorch에서 제공하는 broadcasting 기능을 통해 자동적으로 size를 맞추어 연산을 수행할 수 있다."
   ]
  },
  {
   "cell_type": "code",
   "execution_count": 11,
   "metadata": {
    "colab": {
     "base_uri": "https://localhost:8080/"
    },
    "id": "toSTUQb5bpg5",
    "outputId": "090c97bb-c747-4834-f4b6-db56c831331e"
   },
   "outputs": [
    {
     "name": "stdout",
     "output_type": "stream",
     "text": [
      "tensor([[5., 5.]])\n"
     ]
    }
   ],
   "source": [
    "# Same shape\n",
    "# 같은 크기. 1X2로 size가 같다. 쉽게 더할 수 있다.\n",
    "\n",
    "m1 = torch.FloatTensor([[3, 3]])\n",
    "m2 = torch.FloatTensor([[2, 2]])\n",
    "print(m1 + m2)"
   ]
  },
  {
   "cell_type": "code",
   "execution_count": 12,
   "metadata": {
    "colab": {
     "base_uri": "https://localhost:8080/"
    },
    "id": "cPDSp1vfbpg5",
    "outputId": "62d2c78e-b416-4565-d48e-5217ee46b09b"
   },
   "outputs": [
    {
     "name": "stdout",
     "output_type": "stream",
     "text": [
      "tensor([[4., 5.]])\n"
     ]
    }
   ],
   "source": [
    "# Vector + scalar\n",
    "# 원래는 연산을 수행할 수 없지만, pytorch가 자동으로 같은 size의 matrix 또는 tensor로 변환하여 연산을 수행할 수 있도록 해준다.\n",
    "\n",
    "m1 = torch.FloatTensor([[1, 2]])\n",
    "m2 = torch.FloatTensor([3]) # 3 -> [[3, 3]]\n",
    "print(m1 + m2)"
   ]
  },
  {
   "cell_type": "code",
   "execution_count": 13,
   "metadata": {
    "colab": {
     "base_uri": "https://localhost:8080/"
    },
    "id": "IJ6Z7B_ubpg6",
    "outputId": "e171b10d-a0ea-4728-a15a-811633db39fc"
   },
   "outputs": [
    {
     "name": "stdout",
     "output_type": "stream",
     "text": [
      "tensor([[4., 5.],\n",
      "        [5., 6.]])\n"
     ]
    }
   ],
   "source": [
    "# 2 x 1 Vector + 1 x 2 Vector\n",
    "# 두 벡터의 크기를 2 x 2로 바꾸어 연산한다. (차원을 늘려주는 것)\n",
    "m1 = torch.FloatTensor([[1, 2]])\n",
    "m2 = torch.FloatTensor([[3], [4]])\n",
    "print(m1 + m2)"
   ]
  },
  {
   "cell_type": "markdown",
   "metadata": {
    "id": "ZpBzksNXC0uW"
   },
   "source": [
    "broadcasting은 편리하지만, 자동으로 실행되는 기능이므로 사용자 입장에서 굉장히 주의해서 사용해야 한다.\n",
    "\n",
    "실수를 해도 오류가 나지 않기 때문에 어디에서 틀렸는지 찾기가 어렵다!"
   ]
  },
  {
   "cell_type": "markdown",
   "metadata": {
    "id": "VAGsEliyCrUF"
   },
   "source": [
    "## Frequently Used Operations in PyTorch"
   ]
  },
  {
   "cell_type": "markdown",
   "metadata": {
    "id": "X6h_U56NCvVS"
   },
   "source": [
    "### Multiplication vs Matrix Multiplication\n",
    "\n",
    "딥러닝은 행렬곱 연산을 아주 많이 사용하는 알고리즘이다.\n",
    "\n",
    "따라서 행렬곱을 이해하고 구현하는 것이 매우 중요!\n",
    "\n",
    "일반적인 곱셈: 두 matrix의 size가 같아야한다.\n",
    "\n"
   ]
  },
  {
   "cell_type": "code",
   "execution_count": 14,
   "metadata": {
    "colab": {
     "base_uri": "https://localhost:8080/"
    },
    "id": "Q5wxQ7JgCvAB",
    "outputId": "2b6ed8d5-b20d-4b1f-e4c9-0b612645abae"
   },
   "outputs": [
    {
     "name": "stdout",
     "output_type": "stream",
     "text": [
      "\n",
      "-------------\n",
      "Multiplication vs Matrix Multiplication\n",
      "-------------\n",
      "Shape of Matrix 1:  torch.Size([2, 2])\n",
      "Shape of Matrix 2:  torch.Size([2, 1])\n",
      "tensor([[ 5.],\n",
      "        [11.]])\n",
      "Shape of Matrix 1:  torch.Size([2, 2])\n",
      "Shape of Matrix 2:  torch.Size([2, 1])\n",
      "tensor([[1., 2.],\n",
      "        [6., 8.]])\n",
      "tensor([[1., 2.],\n",
      "        [6., 8.]])\n"
     ]
    }
   ],
   "source": [
    "print()\n",
    "print('-------------')\n",
    "print('Multiplication vs Matrix Multiplication')\n",
    "print('-------------')\n",
    "\n",
    "# 행렬곱 \n",
    "m1 = torch.FloatTensor([[1, 2], [3, 4]])\n",
    "m2 = torch.FloatTensor([[1], [2]])\n",
    "print('Shape of Matrix 1: ', m1.shape) # 2 x 2\n",
    "print('Shape of Matrix 2: ', m2.shape) # 2 x 1\n",
    "print(m1.matmul(m2)) # 2 x 1\n",
    "\n",
    "\n",
    "# 일반적인 곱셈\n",
    "m1 = torch.FloatTensor([[1, 2], [3, 4]])\n",
    "m2 = torch.FloatTensor([[1], [2]])\n",
    "print('Shape of Matrix 1: ', m1.shape) # 2 x 2\n",
    "print('Shape of Matrix 2: ', m2.shape) # 2 x 1  # 이것이 2 x 2로 broadcasting되어 계산됨\n",
    "print(m1 * m2) # 2 x 2\n",
    "print(m1.mul(m2))"
   ]
  },
  {
   "cell_type": "markdown",
   "metadata": {
    "id": "8lTBJQC2bpg6"
   },
   "source": [
    "### Mean"
   ]
  },
  {
   "cell_type": "code",
   "execution_count": 15,
   "metadata": {
    "colab": {
     "base_uri": "https://localhost:8080/"
    },
    "id": "I9UfMypgbpg6",
    "outputId": "6ddc880b-d034-46ea-cfc8-cbebefe088a6"
   },
   "outputs": [
    {
     "name": "stdout",
     "output_type": "stream",
     "text": [
      "tensor(1.5000)\n"
     ]
    }
   ],
   "source": [
    "t = torch.FloatTensor([1, 2]) # [1,2]값을 가진 float tensor를 선언한다.\n",
    "print(t.mean()) # mean을 구해라."
   ]
  },
  {
   "cell_type": "code",
   "execution_count": 16,
   "metadata": {
    "colab": {
     "base_uri": "https://localhost:8080/"
    },
    "id": "AfpiQo3obpg7",
    "outputId": "d19cc3f7-7617-439e-aa18-0cb02c3dfa54"
   },
   "outputs": [
    {
     "name": "stdout",
     "output_type": "stream",
     "text": [
      "tensor([[1., 2.],\n",
      "        [3., 4.]])\n"
     ]
    }
   ],
   "source": [
    "t = torch.FloatTensor([[1, 2], [3, 4]])\n",
    "print(t)"
   ]
  },
  {
   "cell_type": "code",
   "execution_count": 17,
   "metadata": {
    "colab": {
     "base_uri": "https://localhost:8080/"
    },
    "id": "ctllESDBbpg7",
    "outputId": "56474a1d-9398-4147-d7c8-3e3fdc0266c5"
   },
   "outputs": [
    {
     "name": "stdout",
     "output_type": "stream",
     "text": [
      "tensor(2.5000)\n",
      "tensor([2., 3.])\n",
      "tensor([1.5000, 3.5000])\n",
      "tensor([1.5000, 3.5000])\n"
     ]
    }
   ],
   "source": [
    "print(t.mean())         # 전체 4개 element에 대한 mean\n",
    "print(t.mean(dim=0))    # numpy의 axis가 torch의 dim을 의미. 열 끼리의 mean을 구한 것\n",
    "print(t.mean(dim=1))    # 행 끼리의 mean을 구한 것\n",
    "print(t.mean(dim=-1))   # 행 끼리의 mean을 구한 것"
   ]
  },
  {
   "cell_type": "markdown",
   "metadata": {
    "id": "df8KmOR9bpg7"
   },
   "source": [
    "### Sum"
   ]
  },
  {
   "cell_type": "code",
   "execution_count": 18,
   "metadata": {
    "colab": {
     "base_uri": "https://localhost:8080/"
    },
    "id": "AUVdPbULbpg7",
    "outputId": "92140117-8c53-4318-8ed9-b13c4bc96046"
   },
   "outputs": [
    {
     "name": "stdout",
     "output_type": "stream",
     "text": [
      "tensor([[1., 2.],\n",
      "        [3., 4.]])\n"
     ]
    }
   ],
   "source": [
    "t = torch.FloatTensor([[1, 2], [3, 4]])  # 2 x 2의 행렬을 선언\n",
    "print(t)"
   ]
  },
  {
   "cell_type": "code",
   "execution_count": 19,
   "metadata": {
    "colab": {
     "base_uri": "https://localhost:8080/"
    },
    "id": "GWmmVjEkbpg7",
    "outputId": "ebcf892c-2c03-4782-875a-8d758b7d2d20"
   },
   "outputs": [
    {
     "name": "stdout",
     "output_type": "stream",
     "text": [
      "tensor(10.)\n",
      "tensor([4., 6.])\n",
      "tensor([3., 7.])\n",
      "tensor([3., 7.])\n"
     ]
    }
   ],
   "source": [
    "print(t.sum())\n",
    "print(t.sum(dim=0))    # 열의 sum을 구한 것\n",
    "print(t.sum(dim=1))    # 행의 sum을 구한 것\n",
    "print(t.sum(dim=-1))   # 행의 sum을 구한 것"
   ]
  },
  {
   "cell_type": "markdown",
   "metadata": {
    "id": "exKXN2fEbpg7"
   },
   "source": [
    "### Max and Argmax"
   ]
  },
  {
   "cell_type": "code",
   "execution_count": 20,
   "metadata": {
    "colab": {
     "base_uri": "https://localhost:8080/"
    },
    "id": "ib4KKg2wbpg8",
    "outputId": "64f0d479-4aba-4b6d-aaeb-7b944a9ffc06"
   },
   "outputs": [
    {
     "name": "stdout",
     "output_type": "stream",
     "text": [
      "tensor([[1., 2.],\n",
      "        [3., 4.]])\n"
     ]
    }
   ],
   "source": [
    "t = torch.FloatTensor([[1, 2], [3, 4]])\n",
    "print(t)"
   ]
  },
  {
   "cell_type": "markdown",
   "metadata": {
    "id": "eHIDxC5Ibpg8"
   },
   "source": [
    "The `max` operator returns one value if it is called without an argument."
   ]
  },
  {
   "cell_type": "code",
   "execution_count": 21,
   "metadata": {
    "colab": {
     "base_uri": "https://localhost:8080/"
    },
    "id": "u_KGNs5mbpg8",
    "outputId": "39b16c79-53db-463b-b39d-cc90e0adbc2c"
   },
   "outputs": [
    {
     "name": "stdout",
     "output_type": "stream",
     "text": [
      "tensor(4.)\n"
     ]
    }
   ],
   "source": [
    "print(t.max()) # max: 가장 큰 값을 반환한다."
   ]
  },
  {
   "cell_type": "markdown",
   "metadata": {
    "id": "uRycRyCtbpg8"
   },
   "source": [
    "The `max` operator returns 2 values when called with dimension specified. The first value is the maximum value, and the second value is the argmax: the index of the element with maximum value."
   ]
  },
  {
   "cell_type": "code",
   "execution_count": 22,
   "metadata": {
    "colab": {
     "base_uri": "https://localhost:8080/"
    },
    "id": "pk05C35Fbpg8",
    "outputId": "09c8ee5a-fb3b-4614-db32-9f9096dbe959"
   },
   "outputs": [
    {
     "name": "stdout",
     "output_type": "stream",
     "text": [
      "torch.return_types.max(\n",
      "values=tensor([3., 4.]),\n",
      "indices=tensor([1, 1]))\n",
      "Max:  tensor([3., 4.])\n",
      "Argmax:  tensor([1, 1])\n"
     ]
    }
   ],
   "source": [
    "print(t.max(dim=0)) # Returns two values: max and argmax\n",
    "# 각 열에서 가장 큰 value 반환, 각 열에서 가장 큰 값의 index를 반환\n",
    "\n",
    "print('Max: ', t.max(dim=0)[0])\n",
    "print('Argmax: ', t.max(dim=0)[1])  # argmax: 가장 큰 값의 index를 반환한다."
   ]
  },
  {
   "cell_type": "code",
   "execution_count": 23,
   "metadata": {
    "colab": {
     "base_uri": "https://localhost:8080/"
    },
    "id": "T8LzkPuLbpg8",
    "outputId": "5828b475-039a-4601-827d-50e383022210"
   },
   "outputs": [
    {
     "name": "stdout",
     "output_type": "stream",
     "text": [
      "torch.return_types.max(\n",
      "values=tensor([2., 4.]),\n",
      "indices=tensor([1, 1]))\n",
      "torch.return_types.max(\n",
      "values=tensor([2., 4.]),\n",
      "indices=tensor([1, 1]))\n"
     ]
    }
   ],
   "source": [
    "# 각 행에서 가장 큰 value 반환, 각 행에서 가장 큰 값의 index를 반환\n",
    "print(t.max(dim=1))\n",
    "print(t.max(dim=-1))"
   ]
  },
  {
   "cell_type": "markdown",
   "metadata": {
    "id": "5z2YFMhqbpg8"
   },
   "source": [
    "### View"
   ]
  },
  {
   "cell_type": "markdown",
   "metadata": {
    "id": "uPlYIOVYbpg8"
   },
   "source": [
    "<div class=\"alert alert-warning\">\n",
    "    This is a function hard to master, but is very useful!\n",
    "</div>\n",
    "\n",
    "numpy의 reshape와 같은 역할을 한다.\n",
    "\n",
    "shape을 다시 만드는 것."
   ]
  },
  {
   "cell_type": "code",
   "execution_count": 24,
   "metadata": {
    "colab": {
     "base_uri": "https://localhost:8080/"
    },
    "id": "_Oi5r9pdbpg8",
    "outputId": "32d1d416-50bb-48e8-8a9c-55975a0f4114"
   },
   "outputs": [
    {
     "name": "stdout",
     "output_type": "stream",
     "text": [
      "torch.Size([2, 2, 3])\n"
     ]
    }
   ],
   "source": [
    "t = np.array([[[0, 1, 2],\n",
    "               [3, 4, 5]],\n",
    "\n",
    "              [[6, 7, 8],\n",
    "               [9, 10, 11]]])\n",
    "ft = torch.FloatTensor(t)\n",
    "print(ft.shape)\n",
    "\n",
    "# 2 x 2 x 3 의 tensor 선언"
   ]
  },
  {
   "cell_type": "code",
   "execution_count": 25,
   "metadata": {
    "colab": {
     "base_uri": "https://localhost:8080/"
    },
    "id": "10AE8KGfbpg9",
    "outputId": "b57becac-57bc-4009-b61f-a7aeed86523d"
   },
   "outputs": [
    {
     "name": "stdout",
     "output_type": "stream",
     "text": [
      "tensor([[ 0.,  1.,  2.],\n",
      "        [ 3.,  4.,  5.],\n",
      "        [ 6.,  7.,  8.],\n",
      "        [ 9., 10., 11.]])\n",
      "torch.Size([4, 3])\n"
     ]
    }
   ],
   "source": [
    "print(ft.view([-1, 3]))        # -1의 의미: 정해주지 않았다.  #두 번째 차원에서는 3개의 element를 가진다.\n",
    "                               # 자동적으로 4 x 3의 행렬이 나온다.\n",
    "print(ft.view([-1, 3]).shape)\n",
    "\n",
    "# view 함수를 통해 2 x 2 x 3 tensor를 4 x 3으로 바꾸었다."
   ]
  },
  {
   "cell_type": "code",
   "execution_count": 26,
   "metadata": {
    "colab": {
     "base_uri": "https://localhost:8080/"
    },
    "id": "THHj15Ypbpg9",
    "outputId": "196b6d40-c948-4128-872c-4b9d6b90ea3b"
   },
   "outputs": [
    {
     "name": "stdout",
     "output_type": "stream",
     "text": [
      "tensor([[[ 0.,  1.,  2.]],\n",
      "\n",
      "        [[ 3.,  4.,  5.]],\n",
      "\n",
      "        [[ 6.,  7.,  8.]],\n",
      "\n",
      "        [[ 9., 10., 11.]]])\n",
      "torch.Size([4, 1, 3])\n"
     ]
    }
   ],
   "source": [
    "print(ft.view([-1, 1, 3]))        # 괄호 안의 숫자들의 곱이 기존 tensor의 크기와 같기만 하면 된다.\n",
    "                                  # 자동적으로 4 x 1 x 3의 행렬이 나온다.\n",
    "print(ft.view([-1, 1, 3]).shape)"
   ]
  },
  {
   "cell_type": "markdown",
   "metadata": {
    "id": "NDO5OI2kbpg9"
   },
   "source": [
    "### Squeeze\n",
    "\n",
    "쥐어 짜다. dimension이 1인 경우 그 dimension을 없애준다."
   ]
  },
  {
   "cell_type": "code",
   "execution_count": 27,
   "metadata": {
    "colab": {
     "base_uri": "https://localhost:8080/"
    },
    "id": "6zg3yXTMbpg9",
    "outputId": "5fa26bd7-861a-40f5-ff33-84273f62e6a5"
   },
   "outputs": [
    {
     "name": "stdout",
     "output_type": "stream",
     "text": [
      "tensor([[0.],\n",
      "        [1.],\n",
      "        [2.]])\n",
      "torch.Size([3, 1])\n"
     ]
    }
   ],
   "source": [
    "ft = torch.FloatTensor([[0], [1], [2]])    # 3 x 1 의 vector에서 열을 없애줌. 즉, 0,1,2의 원소를 가진 1차원 벡터로 만들어버린다.\n",
    "print(ft)\n",
    "print(ft.shape)"
   ]
  },
  {
   "cell_type": "code",
   "execution_count": 28,
   "metadata": {
    "colab": {
     "base_uri": "https://localhost:8080/"
    },
    "id": "TUmp3GAxbpg9",
    "outputId": "2e24a1c1-a204-4d92-9f31-faddd1857b93"
   },
   "outputs": [
    {
     "name": "stdout",
     "output_type": "stream",
     "text": [
      "tensor([0., 1., 2.])\n",
      "torch.Size([3])\n"
     ]
    }
   ],
   "source": [
    "print(ft.squeeze())\n",
    "print(ft.squeeze().shape)"
   ]
  },
  {
   "cell_type": "code",
   "execution_count": 29,
   "metadata": {
    "colab": {
     "base_uri": "https://localhost:8080/"
    },
    "id": "qBuplU7sr_vB",
    "outputId": "d213b7db-d3cc-4d11-92b9-54e7b03eef49"
   },
   "outputs": [
    {
     "name": "stdout",
     "output_type": "stream",
     "text": [
      "tensor([[0.],\n",
      "        [1.],\n",
      "        [2.]])\n"
     ]
    }
   ],
   "source": [
    "print(ft.squeeze(dim=0)) # 설정해준 dimension이 1차원이라면 그 차원을 없애라.\n",
    "# 여기에서 첫번째 차원은 1차원이 아니므로 변형되지 않고 그대로 나온다."
   ]
  },
  {
   "cell_type": "markdown",
   "metadata": {
    "id": "cx4IPBGXbpg-"
   },
   "source": [
    "### Unsqueeze\n",
    "\n",
    "내가 원하는 dimension에 1을 넣어준다. dimension을 반드시 명시해주어야한다."
   ]
  },
  {
   "cell_type": "code",
   "execution_count": 30,
   "metadata": {
    "colab": {
     "base_uri": "https://localhost:8080/"
    },
    "id": "oOehaOZIbpg-",
    "outputId": "816437a6-9433-478c-95e0-58c2fc395619"
   },
   "outputs": [
    {
     "name": "stdout",
     "output_type": "stream",
     "text": [
      "torch.Size([3])\n"
     ]
    }
   ],
   "source": [
    "ft = torch.Tensor([0, 1, 2])  # 1차원 벡터를 선언\n",
    "print(ft.shape)"
   ]
  },
  {
   "cell_type": "code",
   "execution_count": 31,
   "metadata": {
    "colab": {
     "base_uri": "https://localhost:8080/"
    },
    "id": "8UXozknwbpg-",
    "outputId": "416fb8ea-17d3-4198-936e-9a8170b69e45"
   },
   "outputs": [
    {
     "name": "stdout",
     "output_type": "stream",
     "text": [
      "tensor([[0., 1., 2.]])\n",
      "torch.Size([1, 3])\n"
     ]
    }
   ],
   "source": [
    "print(ft.unsqueeze(0))  # dim=0 즉 첫 번째 dimension에 1을 넣어라\n",
    "print(ft.unsqueeze(0).shape)  # 1 x 3의 크기가 된다."
   ]
  },
  {
   "cell_type": "code",
   "execution_count": 32,
   "metadata": {
    "colab": {
     "base_uri": "https://localhost:8080/"
    },
    "id": "cOIaRVgnbpg-",
    "outputId": "71b446ed-24bf-4807-aba4-bfb3cad2c693"
   },
   "outputs": [
    {
     "name": "stdout",
     "output_type": "stream",
     "text": [
      "tensor([[0., 1., 2.]])\n",
      "torch.Size([1, 3])\n"
     ]
    }
   ],
   "source": [
    "print(ft.view(1, -1))   # 뒷부분은 모르겠고(-1), 처음에 1을 넣어라.\n",
    "print(ft.view(1, -1).shape)"
   ]
  },
  {
   "cell_type": "code",
   "execution_count": 34,
   "metadata": {
    "colab": {
     "base_uri": "https://localhost:8080/"
    },
    "id": "2j43Ae4xbpg-",
    "outputId": "e2a044d3-bacf-47b4-8a66-81b1c385ff3e"
   },
   "outputs": [
    {
     "name": "stdout",
     "output_type": "stream",
     "text": [
      "tensor([[0.],\n",
      "        [1.],\n",
      "        [2.]])\n",
      "torch.Size([3, 1])\n"
     ]
    }
   ],
   "source": [
    "print(ft.unsqueeze(1))     # dim=1 즉 두 번째 dimension에 1을 넣어라\n",
    "print(ft.unsqueeze(1).shape)   # 3 x 1의 크기가 된다."
   ]
  },
  {
   "cell_type": "code",
   "execution_count": 35,
   "metadata": {
    "colab": {
     "base_uri": "https://localhost:8080/"
    },
    "id": "ABThE4T4bpg-",
    "outputId": "b627bea2-1236-476c-efaa-a6b266e6b61b"
   },
   "outputs": [
    {
     "name": "stdout",
     "output_type": "stream",
     "text": [
      "tensor([[0.],\n",
      "        [1.],\n",
      "        [2.]])\n",
      "torch.Size([3, 1])\n"
     ]
    }
   ],
   "source": [
    "print(ft.unsqueeze(-1))       # 마지막 dimension 즉 두 번째 dimension에 1을 넣어라\n",
    "print(ft.unsqueeze(-1).shape)"
   ]
  },
  {
   "cell_type": "markdown",
   "metadata": {
    "id": "J29xjI-5bpg_"
   },
   "source": [
    "### Casting\n",
    "\n",
    "tensor의 type을 바꾸어주겠다."
   ]
  },
  {
   "cell_type": "code",
   "execution_count": 36,
   "metadata": {
    "colab": {
     "base_uri": "https://localhost:8080/"
    },
    "id": "c9K10GMkbpg_",
    "outputId": "840a0dea-dede-4ea3-8a9c-98f76100c8ae"
   },
   "outputs": [
    {
     "name": "stdout",
     "output_type": "stream",
     "text": [
      "tensor([1, 2, 3, 4])\n"
     ]
    }
   ],
   "source": [
    "lt = torch.LongTensor([1, 2, 3, 4])\n",
    "print(lt)"
   ]
  },
  {
   "cell_type": "code",
   "execution_count": 37,
   "metadata": {
    "colab": {
     "base_uri": "https://localhost:8080/"
    },
    "id": "-ONz6jAbbpg_",
    "outputId": "8d12ffb9-cf61-4a3c-f738-a89b84328f78"
   },
   "outputs": [
    {
     "name": "stdout",
     "output_type": "stream",
     "text": [
      "tensor([1., 2., 3., 4.])\n"
     ]
    }
   ],
   "source": [
    "print(lt.float())   # long type으로 선언한 tensor를 float type으로 바꿔줘라"
   ]
  },
  {
   "cell_type": "code",
   "execution_count": 38,
   "metadata": {
    "colab": {
     "base_uri": "https://localhost:8080/"
    },
    "id": "0Q5sScz8bpg_",
    "outputId": "b7c470dd-f46c-4af4-b5bc-513425fc1573"
   },
   "outputs": [
    {
     "name": "stdout",
     "output_type": "stream",
     "text": [
      "tensor([1, 0, 0, 1], dtype=torch.uint8)\n"
     ]
    }
   ],
   "source": [
    "bt = torch.ByteTensor([True, False, False, True])\n",
    "print(bt)"
   ]
  },
  {
   "cell_type": "code",
   "execution_count": 39,
   "metadata": {
    "colab": {
     "base_uri": "https://localhost:8080/"
    },
    "id": "vH7VxWBebpg_",
    "outputId": "c22eef55-bcdf-4bca-cd7f-02739c66e092"
   },
   "outputs": [
    {
     "name": "stdout",
     "output_type": "stream",
     "text": [
      "tensor([1, 0, 0, 1])\n",
      "tensor([1., 0., 0., 1.])\n"
     ]
    }
   ],
   "source": [
    "print(bt.long())    # boolean type으로 선언한 tensor를 long type으로 바꿔줘라.\n",
    "print(bt.float())   # boolean typedmfh 선언한 tensor를 float type으로 바꿔줘라."
   ]
  },
  {
   "cell_type": "markdown",
   "metadata": {
    "id": "hqqfw58_bpg_"
   },
   "source": [
    "### Concatenation\n",
    "\n",
    "이어붙인다."
   ]
  },
  {
   "cell_type": "code",
   "execution_count": 40,
   "metadata": {
    "id": "AI5DdEykbpg_"
   },
   "outputs": [],
   "source": [
    "x = torch.FloatTensor([[1, 2], [3, 4]])   # 2 x 2\n",
    "y = torch.FloatTensor([[5, 6], [7, 8]])   # 2 x 2"
   ]
  },
  {
   "cell_type": "code",
   "execution_count": 41,
   "metadata": {
    "colab": {
     "base_uri": "https://localhost:8080/"
    },
    "id": "w2yDpOT-bpg_",
    "outputId": "8cb9e77e-92d2-4a0a-91e3-70f33f4daa43"
   },
   "outputs": [
    {
     "name": "stdout",
     "output_type": "stream",
     "text": [
      "tensor([[1., 2.],\n",
      "        [3., 4.],\n",
      "        [5., 6.],\n",
      "        [7., 8.]])\n",
      "tensor([[1., 2., 5., 6.],\n",
      "        [3., 4., 7., 8.]])\n"
     ]
    }
   ],
   "source": [
    "print(torch.cat([x, y], dim=0))   # dim=0 즉, 첫 번째 dimension이 늘어나도록 위아래로 붙여라.\n",
    "print(torch.cat([x, y], dim=1))   # dim=1 즉, 두 번째 dimension이 늘어나도록 양옆으로 붙여라."
   ]
  },
  {
   "cell_type": "markdown",
   "metadata": {
    "id": "e606BvZSbpg_"
   },
   "source": [
    "### Stacking\n",
    "\n",
    "concatenation 작업을 편리하게 해준다."
   ]
  },
  {
   "cell_type": "code",
   "execution_count": 44,
   "metadata": {
    "id": "WZtaYUC9bphA"
   },
   "outputs": [],
   "source": [
    "# x,y,z 모두 1 x 2 vector\n",
    "\n",
    "x = torch.FloatTensor([1, 4])\n",
    "y = torch.FloatTensor([2, 5])\n",
    "z = torch.FloatTensor([3, 6])"
   ]
  },
  {
   "cell_type": "code",
   "execution_count": 45,
   "metadata": {
    "colab": {
     "base_uri": "https://localhost:8080/"
    },
    "id": "YHJwk62ebphA",
    "outputId": "945e60fd-5f9c-4285-9865-e3a669d4eec5"
   },
   "outputs": [
    {
     "name": "stdout",
     "output_type": "stream",
     "text": [
      "tensor([[1., 4.],\n",
      "        [2., 5.],\n",
      "        [3., 6.]])\n",
      "tensor([[1., 2., 3.],\n",
      "        [4., 5., 6.]])\n"
     ]
    }
   ],
   "source": [
    "# stack() 안에 list 형태로 tensor들이 들어가있다.\n",
    "\n",
    "print(torch.stack([x, y, z]))         # 위아래 방향으로 쌓아라\n",
    "print(torch.stack([x, y, z], dim=1))  # 양옆으로 쌓아라"
   ]
  },
  {
   "cell_type": "code",
   "execution_count": 47,
   "metadata": {
    "colab": {
     "base_uri": "https://localhost:8080/"
    },
    "id": "jad4GUySbphA",
    "outputId": "77dd4db0-4a67-434b-9f1b-1c2c836f657b"
   },
   "outputs": [
    {
     "name": "stdout",
     "output_type": "stream",
     "text": [
      "tensor([[1., 4.],\n",
      "        [2., 5.],\n",
      "        [3., 6.]])\n"
     ]
    }
   ],
   "source": [
    "print(torch.cat([x.unsqueeze(0), y.unsqueeze(0), z.unsqueeze(0)], dim=0))\n",
    "\n",
    "# 위 결과는, x,y,z를 unsqueeze하여 concat한 결과와 같다."
   ]
  },
  {
   "cell_type": "markdown",
   "metadata": {
    "id": "-mF7tlqAbphA"
   },
   "source": [
    "### Ones and Zeros Like"
   ]
  },
  {
   "cell_type": "code",
   "execution_count": 48,
   "metadata": {
    "colab": {
     "base_uri": "https://localhost:8080/"
    },
    "id": "gomHOl3ObphA",
    "outputId": "28424087-7930-4035-9e11-a58317059034"
   },
   "outputs": [
    {
     "name": "stdout",
     "output_type": "stream",
     "text": [
      "tensor([[0., 1., 2.],\n",
      "        [2., 1., 0.]])\n"
     ]
    }
   ],
   "source": [
    "x = torch.FloatTensor([[0, 1, 2], [2, 1, 0]])\n",
    "print(x)"
   ]
  },
  {
   "cell_type": "code",
   "execution_count": 50,
   "metadata": {
    "colab": {
     "base_uri": "https://localhost:8080/"
    },
    "id": "YuFU6E4sbphA",
    "outputId": "434f9022-19c5-4314-94e7-40827d4326a7"
   },
   "outputs": [
    {
     "name": "stdout",
     "output_type": "stream",
     "text": [
      "tensor([[1., 1., 1.],\n",
      "        [1., 1., 1.]])\n",
      "tensor([[0., 0., 0.],\n",
      "        [0., 0., 0.]])\n"
     ]
    }
   ],
   "source": [
    "print(torch.ones_like(x))   # 1로만 가득한, 똑같은 size의 tensor가 출력된다.\n",
    "print(torch.zeros_like(x))  # 0으로 가득한, 똑같은 size의 tensor가 출력된다."
   ]
  },
  {
   "cell_type": "markdown",
   "metadata": {
    "id": "qFgWj9GpbphA"
   },
   "source": [
    "### In-place Operation"
   ]
  },
  {
   "cell_type": "code",
   "execution_count": 51,
   "metadata": {
    "colab": {
     "base_uri": "https://localhost:8080/"
    },
    "id": "fwz-vsfqbphA",
    "outputId": "dc6059f6-17c5-4648-a2da-a1875b41916e"
   },
   "outputs": [
    {
     "data": {
      "text/plain": [
       "tensor([[1., 2.],\n",
       "        [3., 4.]])"
      ]
     },
     "execution_count": 51,
     "metadata": {
      "tags": []
     },
     "output_type": "execute_result"
    }
   ],
   "source": [
    "x = torch.FloatTensor([[1, 2], [3, 4]])\n",
    "x"
   ]
  },
  {
   "cell_type": "code",
   "execution_count": 52,
   "metadata": {
    "colab": {
     "base_uri": "https://localhost:8080/"
    },
    "id": "uP5NOKdAbphA",
    "outputId": "7ebc0303-fe24-4ae7-cd25-0fe4c083ec8f"
   },
   "outputs": [
    {
     "name": "stdout",
     "output_type": "stream",
     "text": [
      "tensor([[2., 4.],\n",
      "        [6., 8.]])\n",
      "tensor([[1., 2.],\n",
      "        [3., 4.]])\n",
      "tensor([[2., 4.],\n",
      "        [6., 8.]])\n",
      "tensor([[2., 4.],\n",
      "        [6., 8.]])\n"
     ]
    }
   ],
   "source": [
    "print(x.2mul(.))  # x의 각 원소에 곱하기 2를 해라.\n",
    "print(x)\n",
    "print(x.mul_(2.)) # In-place opertation을 하려면 underbar(_)를 이용.\n",
    "print(x)"
   ]
  }
 ],
 "metadata": {
  "colab": {
   "name": "210810 Pytorch Tensor Manipulation 실습 강의자료.ipynb",
   "provenance": []
  },
  "kernelspec": {
   "display_name": "Python 3",
   "language": "python",
   "name": "python3"
  },
  "language_info": {
   "codemirror_mode": {
    "name": "ipython",
    "version": 3
   },
   "file_extension": ".py",
   "mimetype": "text/x-python",
   "name": "python",
   "nbconvert_exporter": "python",
   "pygments_lexer": "ipython3",
   "version": "3.8.5"
  },
  "toc": {
   "base_numbering": 1,
   "nav_menu": {},
   "number_sections": true,
   "sideBar": true,
   "skip_h1_title": false,
   "title_cell": "Table of Contents",
   "title_sidebar": "Contents",
   "toc_cell": false,
   "toc_position": {},
   "toc_section_display": true,
   "toc_window_display": false
  }
 },
 "nbformat": 4,
 "nbformat_minor": 1
}
