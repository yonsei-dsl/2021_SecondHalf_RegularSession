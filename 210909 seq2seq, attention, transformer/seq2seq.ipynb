{
  "nbformat": 4,
  "nbformat_minor": 0,
  "metadata": {
    "colab": {
      "name": "seq2seq.ipynb",
      "provenance": [],
      "collapsed_sections": []
    },
    "kernelspec": {
      "name": "python3",
      "display_name": "Python 3"
    },
    "language_info": {
      "name": "python"
    },
    "accelerator": "GPU"
  },
  "cells": [
    {
      "cell_type": "code",
      "metadata": {
        "id": "ugz_BJtCp8IU"
      },
      "source": [
        "import pandas as pd\n",
        "import numpy as np\n",
        "import matplotlib.pyplot as plt\n",
        "from tqdm import tqdm\n",
        "import random\n",
        "import os\n",
        "from sklearn.preprocessing import scale\n",
        "\n",
        "import torch\n",
        "from torch import nn\n",
        "from torch.utils.data import Dataset, DataLoader"
      ],
      "execution_count": 1,
      "outputs": []
    },
    {
      "cell_type": "code",
      "metadata": {
        "colab": {
          "base_uri": "https://localhost:8080/"
        },
        "id": "U_rt0TUUp__f",
        "outputId": "523bdd00-6474-4fb7-cd82-244e67e98ebf"
      },
      "source": [
        "!pip install -q pybithumb"
      ],
      "execution_count": 2,
      "outputs": [
        {
          "output_type": "stream",
          "name": "stdout",
          "text": [
            "\u001b[?25l\r\u001b[K     |███▏                            | 10 kB 34.3 MB/s eta 0:00:01\r\u001b[K     |██████▍                         | 20 kB 26.6 MB/s eta 0:00:01\r\u001b[K     |█████████▌                      | 30 kB 19.4 MB/s eta 0:00:01\r\u001b[K     |████████████▊                   | 40 kB 16.4 MB/s eta 0:00:01\r\u001b[K     |████████████████                | 51 kB 12.0 MB/s eta 0:00:01\r\u001b[K     |███████████████████             | 61 kB 7.5 MB/s eta 0:00:01\r\u001b[K     |██████████████████████▎         | 71 kB 7.1 MB/s eta 0:00:01\r\u001b[K     |█████████████████████████▍      | 81 kB 8.0 MB/s eta 0:00:01\r\u001b[K     |████████████████████████████▋   | 92 kB 8.4 MB/s eta 0:00:01\r\u001b[K     |███████████████████████████████▉| 102 kB 9.2 MB/s eta 0:00:01\r\u001b[K     |████████████████████████████████| 103 kB 9.2 MB/s \n",
            "\u001b[K     |████████████████████████████████| 60 kB 8.5 MB/s \n",
            "\u001b[K     |████████████████████████████████| 251 kB 30.0 MB/s \n",
            "\u001b[?25h"
          ]
        }
      ]
    },
    {
      "cell_type": "code",
      "metadata": {
        "id": "foLjgI9sqH_h"
      },
      "source": [
        "import pybithumb"
      ],
      "execution_count": 3,
      "outputs": []
    },
    {
      "cell_type": "code",
      "metadata": {
        "id": "P2Gp9bL-qLek"
      },
      "source": [
        "mydf = pybithumb.get_ohlcv('BTC', interval='day')"
      ],
      "execution_count": 4,
      "outputs": []
    },
    {
      "cell_type": "code",
      "metadata": {
        "colab": {
          "base_uri": "https://localhost:8080/",
          "height": 293
        },
        "id": "9r-3FBcJqQ8l",
        "outputId": "447c613d-d955-4a1f-a4f8-d807fe0824ec"
      },
      "source": [
        "plt.plot(mydf['open'])"
      ],
      "execution_count": 5,
      "outputs": [
        {
          "output_type": "execute_result",
          "data": {
            "text/plain": [
              "[<matplotlib.lines.Line2D at 0x7f697a2d9510>]"
            ]
          },
          "metadata": {},
          "execution_count": 5
        },
        {
          "output_type": "display_data",
          "data": {
            "image/png": "[encoded data removed]",
            "text/plain": [
              "<Figure size 432x288 with 1 Axes>"
            ]
          },
          "metadata": {
            "needs_background": "light"
          }
        }
      ]
    },
    {
      "cell_type": "code",
      "metadata": {
        "id": "MQBPUQPZzCZJ"
      },
      "source": [
        "mydf['open'] = scale(mydf['open']).tolist()\n",
        "mydf['high'] = scale(mydf['high']).tolist()\n",
        "mydf['low'] = scale(mydf['low']).tolist()\n",
        "mydf['close'] = scale(mydf['close']).tolist()\n",
        "mydf['volume'] = scale(mydf['volume']).tolist()"
      ],
      "execution_count": 7,
      "outputs": []
    },
    {
      "cell_type": "code",
      "metadata": {
        "id": "7uZpn59lqRzw"
      },
      "source": [
        "device = torch.device(\"cuda:0\") # GPU 사용\n",
        "target_n = 1 # 맞춰야하는 품목/품종의 수\n",
        "learning_rate = 5e-4 # 학습률\n",
        "BATCH_SIZE = 128 # 배치사이즈\n",
        "EPOCHS = 50 # 총 eopochs\n",
        "teacher_forcing = False # 교사강요 설정\n",
        "n_layers = 3 # rnn레이어 층\n",
        "dropout = 0.2 # 드롭아웃\n",
        "window_size = 28 # 인코더 시퀀스 길이\n",
        "future_size = 28 # 디코더 시퀀스 길이\n",
        "hidden_dim = 128 # rnn 히든차원\n",
        "save_path = '.'"
      ],
      "execution_count": 9,
      "outputs": []
    },
    {
      "cell_type": "code",
      "metadata": {
        "id": "gAJbvsaAqxrL"
      },
      "source": [
        "x_data = []\n",
        "y_data = []\n",
        "for i in range(mydf.shape[0]-window_size-future_size):\n",
        "    x = mydf.iloc[i:i+window_size, 0:].to_numpy()\n",
        "    y = mydf.iloc[i+window_size:i+window_size+future_size, 3::2].to_numpy()\n",
        "    y_0 = np.zeros([1, y.shape[1]]) # 디코더 첫 입력값 추가\n",
        "    x_data.append(x)\n",
        "    y_data.append(np.concatenate([y_0, y], axis=0))\n",
        "x_data = np.array(x_data)\n",
        "y_data = np.array(y_data)"
      ],
      "execution_count": 10,
      "outputs": []
    },
    {
      "cell_type": "code",
      "metadata": {
        "id": "BAy5UY8kq2Xo"
      },
      "source": [
        "class CustomDataset(Dataset):\n",
        "    def __init__(self, encoder_input, decoder_input):\n",
        "        self.encoder_input = encoder_input\n",
        "        self.decoder_input = decoder_input\n",
        "        \n",
        "    def __len__(self):\n",
        "        return len(self.encoder_input)\n",
        "    \n",
        "    def __getitem__(self, i):\n",
        "        return {\n",
        "            'encoder_input' : torch.tensor(self.encoder_input[i], dtype=torch.float32),\n",
        "            'decoder_input' : torch.tensor(self.decoder_input[i], dtype=torch.float32)\n",
        "        }"
      ],
      "execution_count": 11,
      "outputs": []
    },
    {
      "cell_type": "code",
      "metadata": {
        "id": "arXAmvWsnl0_"
      },
      "source": [
        "train_test_split = 30\n",
        "x_train = x_data[:-train_test_split-future_size]\n",
        "y_train = y_data[:-train_test_split-future_size]\n",
        "x_val = x_data[-train_test_split:]\n",
        "y_val = y_data[-train_test_split:]"
      ],
      "execution_count": 23,
      "outputs": []
    },
    {
      "cell_type": "code",
      "metadata": {
        "id": "rtrlomOKq6TV"
      },
      "source": [
        "train_dataset = CustomDataset(x_train, y_train)\n",
        "val_dataset = CustomDataset(x_val, y_val)\n",
        "\n",
        "train_dataloader = torch.utils.data.DataLoader(train_dataset, batch_size=BATCH_SIZE, num_workers=2, shuffle=True)\n",
        "val_dataloader = torch.utils.data.DataLoader(val_dataset, batch_size=BATCH_SIZE, num_workers=2, shuffle=False)"
      ],
      "execution_count": 24,
      "outputs": []
    },
    {
      "cell_type": "code",
      "metadata": {
        "id": "oy--H1-Isn9B"
      },
      "source": [
        "sample_batch = next(iter(train_dataloader))"
      ],
      "execution_count": 25,
      "outputs": []
    },
    {
      "cell_type": "code",
      "metadata": {
        "colab": {
          "base_uri": "https://localhost:8080/"
        },
        "id": "dOCO_zlAsp_y",
        "outputId": "7986a085-aef9-4c09-f62f-cdccfaf1ebb8"
      },
      "source": [
        "sample_batch['encoder_input'].shape, sample_batch['decoder_input'].shape"
      ],
      "execution_count": 26,
      "outputs": [
        {
          "output_type": "execute_result",
          "data": {
            "text/plain": [
              "(torch.Size([128, 28, 5]), torch.Size([128, 29, 1]))"
            ]
          },
          "metadata": {},
          "execution_count": 26
        }
      ]
    },
    {
      "cell_type": "code",
      "metadata": {
        "id": "UFdnIkJjrMkJ"
      },
      "source": [
        "class Encoder(nn.Module):\n",
        "    def __init__(self, input_dim, hidden_dim, n_layers, dropout):\n",
        "        super().__init__()\n",
        "        self.n_layers = n_layers\n",
        "        \n",
        "        self.rnn = nn.GRU(input_dim, hidden_dim, n_layers, dropout=dropout)\n",
        "        self.dropout = nn.Dropout(dropout)\n",
        "\n",
        "    def forward(self, inp_seq):\n",
        "        inp_seq = inp_seq.permute(1,0,2).contiguous()\n",
        "        outputs, hidden = self.rnn(inp_seq)\n",
        "        \n",
        "        return outputs, hidden"
      ],
      "execution_count": 27,
      "outputs": []
    },
    {
      "cell_type": "code",
      "metadata": {
        "id": "xrxCSUDMrbhH"
      },
      "source": [
        "class BahdanauAttention(nn.Module):\n",
        "    def __init__(self, dec_output_dim, units):\n",
        "        super(BahdanauAttention, self).__init__()\n",
        "        self.W1 = nn.Linear(dec_output_dim, units)\n",
        "        self.W2 = nn.Linear(dec_output_dim, units)\n",
        "        self.V = nn.Linear(dec_output_dim, 1)\n",
        "\n",
        "    def forward(self, hidden, enc_output):\n",
        "        query_with_time_axis = hidden.unsqueeze(1)\n",
        "        \n",
        "        score = self.V(torch.tanh(self.W1(query_with_time_axis) + self.W2(enc_output)))\n",
        "        \n",
        "        attention_weights = torch.softmax(score, axis=1)\n",
        "        \n",
        "        context_vector = attention_weights * enc_output\n",
        "        context_vector = torch.sum(context_vector, dim=1)\n",
        "\n",
        "        return context_vector, attention_weights"
      ],
      "execution_count": 28,
      "outputs": []
    },
    {
      "cell_type": "code",
      "metadata": {
        "id": "OfQrTdcrrd37"
      },
      "source": [
        "class Decoder(nn.Module):\n",
        "    def __init__(self, dec_feature_size, encoder_hidden_dim, output_dim, decoder_hidden_dim, n_layers, dropout, attention):\n",
        "        super().__init__()\n",
        "        self.output_dim = output_dim\n",
        "        self.decoder_hidden_dim = decoder_hidden_dim\n",
        "        self.n_layers = n_layers\n",
        "        self.attention = attention\n",
        "        \n",
        "        self.layer = nn.Linear(dec_feature_size, encoder_hidden_dim)\n",
        "        self.rnn = nn.GRU(encoder_hidden_dim*2, decoder_hidden_dim, n_layers, dropout=dropout)\n",
        "        self.fc_out = nn.Linear(hidden_dim, output_dim)\n",
        "        self.dropout = nn.Dropout(dropout)\n",
        "\n",
        "    def forward(self, enc_output, dec_input, hidden):\n",
        "        dec_input = self.layer(dec_input)\n",
        "        context_vector, attention_weights = self.attention(hidden, enc_output)\n",
        "        dec_input = torch.cat([torch.sum(context_vector, dim=0), dec_input], dim=1)\n",
        "        dec_input = dec_input.unsqueeze(0)\n",
        "        \n",
        "        output, hidden = self.rnn(dec_input, hidden)\n",
        "\n",
        "        prediction = self.fc_out(output.sum(0))\n",
        "        \n",
        "        return prediction, hidden"
      ],
      "execution_count": 29,
      "outputs": []
    },
    {
      "cell_type": "code",
      "metadata": {
        "id": "j0sAxSQxrgIx"
      },
      "source": [
        "class Seq2Seq(nn.Module):\n",
        "    def __init__(self, encoder, decoder, attention):\n",
        "        super().__init__()\n",
        "        self.encoder = encoder\n",
        "        self.decoder = decoder\n",
        "        \n",
        "    def forward(self, encoder_input, decoder_input, teacher_forcing=False):\n",
        "        batch_size = decoder_input.size(0)\n",
        "        trg_len = decoder_input.size(1)\n",
        "        \n",
        "        outputs = torch.zeros(batch_size, trg_len-1, self.decoder.output_dim).to(device)\n",
        "        enc_output, hidden = self.encoder(encoder_input)\n",
        "        \n",
        "        dec_input = decoder_input[:, 0]\n",
        "        for t in range(1, trg_len):\n",
        "            output, hidden = self.decoder(enc_output, dec_input, hidden)\n",
        "            outputs[:, t-1] = output\n",
        "            if teacher_forcing == True:\n",
        "                dec_input = decoder_input[:, t]\n",
        "            else:\n",
        "                dec_input = output\n",
        "        \n",
        "        return outputs"
      ],
      "execution_count": 30,
      "outputs": []
    },
    {
      "cell_type": "code",
      "metadata": {
        "id": "peWR8iMXrkOV"
      },
      "source": [
        "encoder = Encoder(input_dim=x_data.shape[-1], hidden_dim=hidden_dim, n_layers=n_layers, dropout=dropout)\n",
        "attention = BahdanauAttention(dec_output_dim=hidden_dim, units=hidden_dim)\n",
        "decoder = Decoder(\n",
        "    dec_feature_size=target_n, encoder_hidden_dim=hidden_dim, output_dim=target_n,\n",
        "    decoder_hidden_dim=hidden_dim, n_layers=n_layers, dropout=dropout,\n",
        "    attention = attention\n",
        ")\n",
        "\n",
        "model = Seq2Seq(encoder, decoder, attention)\n",
        "model = model.to(device)"
      ],
      "execution_count": 31,
      "outputs": []
    },
    {
      "cell_type": "code",
      "metadata": {
        "id": "t7RQL5Z-nRc3"
      },
      "source": [
        "def my_custom_metric(pred, true):\n",
        "  \n",
        "    score = torch.mean(torch.abs((true-pred))/(true))\n",
        "    \n",
        "    return score"
      ],
      "execution_count": 35,
      "outputs": []
    },
    {
      "cell_type": "code",
      "metadata": {
        "id": "c6Dc5NcLruZ0"
      },
      "source": [
        "optimizer = torch.optim.Adam(model.parameters(), lr=learning_rate)\n",
        "criterion = nn.L1Loss()\n",
        "score_fn = my_custom_metric"
      ],
      "execution_count": 36,
      "outputs": []
    },
    {
      "cell_type": "code",
      "metadata": {
        "id": "fbKW8-T6ryGO"
      },
      "source": [
        "def train_step(batch_item, epoch, batch, training, teacher_forcing):\n",
        "    encoder_input = batch_item['encoder_input'].to(device)\n",
        "    decoder_input = batch_item['decoder_input'].to(device)\n",
        "    if training is True:\n",
        "        model.train()\n",
        "        optimizer.zero_grad()\n",
        "        output = model(encoder_input, decoder_input, teacher_forcing)\n",
        "        loss = criterion(output, decoder_input[:,1:])\n",
        "        score = score_fn(output, decoder_input[:,1:])\n",
        "        loss.backward()\n",
        "        optimizer.step()\n",
        "        \n",
        "        return loss, score\n",
        "    else:\n",
        "        model.eval()\n",
        "        with torch.no_grad():\n",
        "            output = model(encoder_input, decoder_input, False)\n",
        "            loss = criterion(output, decoder_input[:,1:])\n",
        "            score = score_fn(output, decoder_input[:,1:])\n",
        "        return loss, score"
      ],
      "execution_count": 37,
      "outputs": []
    },
    {
      "cell_type": "code",
      "metadata": {
        "colab": {
          "base_uri": "https://localhost:8080/"
        },
        "id": "8lYQ05zBsDZq",
        "outputId": "8482ec13-552d-4e30-b054-12e34a2b2fc6"
      },
      "source": [
        "loss_plot, val_loss_plot = [], []\n",
        "score_plot, val_score_plot = [], []\n",
        "\n",
        "for epoch in range(EPOCHS):\n",
        "    total_loss, total_val_loss = 0, 0\n",
        "    total_score, total_val_score = 0, 0\n",
        "    \n",
        "    training = True\n",
        "    with tqdm(train_dataloader,\n",
        "              total = train_dataloader.__len__(),\n",
        "              unit=\"batch\") as tqdm_dataset:\n",
        "        for batch, batch_item in enumerate(tqdm_dataset):\n",
        "            batch_loss, batch_score = train_step(batch_item, epoch, batch, training, teacher_forcing)\n",
        "            total_loss += batch_loss\n",
        "            total_score += batch_score\n",
        "            \n",
        "            tqdm_dataset.set_postfix({\n",
        "                'Epoch': epoch + 1,\n",
        "                'Loss': '{:06f}'.format(batch_loss.item()),\n",
        "                'Total Loss' : '{:06f}'.format(total_loss/(batch+1)),\n",
        "                'Score': '{:06f}'.format(batch_score.item()),\n",
        "                'Total Score' : '{:06f}'.format(total_score/(batch+1)),\n",
        "            })\n",
        "    loss_plot.append(total_loss/(batch+1))\n",
        "    score_plot.append(total_score/(batch+1))\n",
        "    \n",
        "    training = False\n",
        "    with tqdm(val_dataloader,\n",
        "              total = val_dataloader.__len__(),\n",
        "              unit=\"batch\") as tqdm_dataset:\n",
        "        for batch, batch_item in enumerate(tqdm_dataset):\n",
        "            batch_loss, batch_val_score = train_step(batch_item, epoch, batch, training, teacher_forcing)\n",
        "            total_val_loss += batch_loss\n",
        "            total_val_score += batch_val_score\n",
        "            \n",
        "            tqdm_dataset.set_postfix({\n",
        "                'Epoch': epoch + 1,\n",
        "                'Val Loss': '{:06f}'.format(batch_loss.item()),\n",
        "                'Total Val Loss' : '{:06f}'.format(total_val_loss/(batch+1)),\n",
        "                'Val Score': '{:06f}'.format(batch_val_score.item()),\n",
        "                'Total Val Score' : '{:06f}'.format(total_val_score/(batch+1)),\n",
        "            })\n",
        "    val_loss_plot.append(total_val_loss/(batch+1))\n",
        "    val_score_plot.append(total_val_score/(batch+1))"
      ],
      "execution_count": 38,
      "outputs": [
        {
          "output_type": "stream",
          "name": "stderr",
          "text": [
            "100%|██████████| 21/21 [00:01<00:00, 12.35batch/s, Epoch=1, Loss=0.231617, Total Loss=0.328429, Score=-0.021303, Total Score=1.638764]\n",
            "100%|██████████| 1/1 [00:00<00:00,  7.44batch/s, Epoch=1, Val Loss=1.120125, Total Val Loss=1.120125, Val Score=0.403339, Total Val Score=0.403339]\n",
            "100%|██████████| 21/21 [00:01<00:00, 13.63batch/s, Epoch=2, Loss=0.103785, Total Loss=0.151365, Score=-0.206204, Total Score=1.028911]\n",
            "100%|██████████| 1/1 [00:00<00:00,  7.25batch/s, Epoch=2, Val Loss=0.357544, Total Val Loss=0.357544, Val Score=0.152939, Total Val Score=0.152939]\n",
            "100%|██████████| 21/21 [00:01<00:00, 13.46batch/s, Epoch=3, Loss=0.136450, Total Loss=0.126893, Score=0.603099, Total Score=0.781712]\n",
            "100%|██████████| 1/1 [00:00<00:00,  7.75batch/s, Epoch=3, Val Loss=0.302941, Total Val Loss=0.302941, Val Score=0.121945, Total Val Score=0.121945]\n",
            "100%|██████████| 21/21 [00:01<00:00, 13.74batch/s, Epoch=4, Loss=0.167789, Total Loss=0.123189, Score=0.028973, Total Score=0.683713]\n",
            "100%|██████████| 1/1 [00:00<00:00,  7.48batch/s, Epoch=4, Val Loss=0.312167, Total Val Loss=0.312167, Val Score=0.134926, Total Val Score=0.134926]\n",
            "100%|██████████| 21/21 [00:01<00:00, 13.78batch/s, Epoch=5, Loss=0.082903, Total Loss=0.116501, Score=1.694755, Total Score=0.714911]\n",
            "100%|██████████| 1/1 [00:00<00:00,  7.22batch/s, Epoch=5, Val Loss=0.257672, Total Val Loss=0.257672, Val Score=0.111770, Total Val Score=0.111770]\n",
            "100%|██████████| 21/21 [00:01<00:00, 13.57batch/s, Epoch=6, Loss=0.081558, Total Loss=0.118819, Score=0.381608, Total Score=0.574185]\n",
            "100%|██████████| 1/1 [00:00<00:00,  7.88batch/s, Epoch=6, Val Loss=0.495710, Total Val Loss=0.495710, Val Score=0.203488, Total Val Score=0.203488]\n",
            "100%|██████████| 21/21 [00:01<00:00, 13.77batch/s, Epoch=7, Loss=0.103805, Total Loss=0.117954, Score=-0.241670, Total Score=0.468665]\n",
            "100%|██████████| 1/1 [00:00<00:00,  7.70batch/s, Epoch=7, Val Loss=0.202013, Total Val Loss=0.202013, Val Score=0.084170, Total Val Score=0.084170]\n",
            "100%|██████████| 21/21 [00:01<00:00, 13.40batch/s, Epoch=8, Loss=0.161469, Total Loss=0.108527, Score=2.214405, Total Score=0.495512]\n",
            "100%|██████████| 1/1 [00:00<00:00,  7.61batch/s, Epoch=8, Val Loss=0.240409, Total Val Loss=0.240409, Val Score=0.102867, Total Val Score=0.102867]\n",
            "100%|██████████| 21/21 [00:01<00:00, 13.81batch/s, Epoch=9, Loss=0.091526, Total Loss=0.101693, Score=0.046860, Total Score=0.316152]\n",
            "100%|██████████| 1/1 [00:00<00:00,  7.22batch/s, Epoch=9, Val Loss=0.185084, Total Val Loss=0.185084, Val Score=0.078761, Total Val Score=0.078761]\n",
            "100%|██████████| 21/21 [00:01<00:00, 13.66batch/s, Epoch=10, Loss=0.102208, Total Loss=0.098838, Score=-0.165972, Total Score=0.309766]\n",
            "100%|██████████| 1/1 [00:00<00:00,  7.41batch/s, Epoch=10, Val Loss=0.283616, Total Val Loss=0.283616, Val Score=0.118061, Total Val Score=0.118061]\n",
            "100%|██████████| 21/21 [00:01<00:00, 13.67batch/s, Epoch=11, Loss=0.080163, Total Loss=0.100120, Score=0.049315, Total Score=0.398132]\n",
            "100%|██████████| 1/1 [00:00<00:00,  7.52batch/s, Epoch=11, Val Loss=0.200291, Total Val Loss=0.200291, Val Score=0.083660, Total Val Score=0.083660]\n",
            "100%|██████████| 21/21 [00:01<00:00, 13.47batch/s, Epoch=12, Loss=0.073532, Total Loss=0.098592, Score=0.157342, Total Score=0.370064]\n",
            "100%|██████████| 1/1 [00:00<00:00,  7.08batch/s, Epoch=12, Val Loss=0.197879, Total Val Loss=0.197879, Val Score=0.080327, Total Val Score=0.080327]\n",
            "100%|██████████| 21/21 [00:01<00:00, 13.53batch/s, Epoch=13, Loss=0.070415, Total Loss=0.090942, Score=-0.506176, Total Score=0.277752]\n",
            "100%|██████████| 1/1 [00:00<00:00,  7.41batch/s, Epoch=13, Val Loss=0.224321, Total Val Loss=0.224321, Val Score=0.087938, Total Val Score=0.087938]\n",
            "100%|██████████| 21/21 [00:01<00:00, 13.36batch/s, Epoch=14, Loss=0.116082, Total Loss=0.085320, Score=0.404399, Total Score=0.354841]\n",
            "100%|██████████| 1/1 [00:00<00:00,  7.01batch/s, Epoch=14, Val Loss=0.275434, Total Val Loss=0.275434, Val Score=0.107574, Total Val Score=0.107574]\n",
            "100%|██████████| 21/21 [00:01<00:00, 13.50batch/s, Epoch=15, Loss=0.112581, Total Loss=0.093231, Score=-0.128910, Total Score=0.449426]\n",
            "100%|██████████| 1/1 [00:00<00:00,  7.06batch/s, Epoch=15, Val Loss=0.182047, Total Val Loss=0.182047, Val Score=0.074995, Total Val Score=0.074995]\n",
            "100%|██████████| 21/21 [00:01<00:00, 13.43batch/s, Epoch=16, Loss=0.101786, Total Loss=0.096953, Score=0.004394, Total Score=0.432193]\n",
            "100%|██████████| 1/1 [00:00<00:00,  7.37batch/s, Epoch=16, Val Loss=0.263450, Total Val Loss=0.263450, Val Score=0.100259, Total Val Score=0.100259]\n",
            "100%|██████████| 21/21 [00:01<00:00, 13.06batch/s, Epoch=17, Loss=0.071033, Total Loss=0.080438, Score=1.229778, Total Score=0.469233]\n",
            "100%|██████████| 1/1 [00:00<00:00,  7.16batch/s, Epoch=17, Val Loss=0.177431, Total Val Loss=0.177431, Val Score=0.069208, Total Val Score=0.069208]\n",
            "100%|██████████| 21/21 [00:01<00:00, 13.12batch/s, Epoch=18, Loss=0.078433, Total Loss=0.075913, Score=0.180825, Total Score=0.516713]\n",
            "100%|██████████| 1/1 [00:00<00:00,  7.36batch/s, Epoch=18, Val Loss=0.294963, Total Val Loss=0.294963, Val Score=0.111797, Total Val Score=0.111797]\n",
            "100%|██████████| 21/21 [00:01<00:00, 13.05batch/s, Epoch=19, Loss=0.055000, Total Loss=0.074717, Score=0.184107, Total Score=0.528568]\n",
            "100%|██████████| 1/1 [00:00<00:00,  6.95batch/s, Epoch=19, Val Loss=0.388946, Total Val Loss=0.388946, Val Score=0.148777, Total Val Score=0.148777]\n",
            "100%|██████████| 21/21 [00:01<00:00, 12.70batch/s, Epoch=20, Loss=0.070271, Total Loss=0.073778, Score=0.045647, Total Score=0.517456]\n",
            "100%|██████████| 1/1 [00:00<00:00,  6.99batch/s, Epoch=20, Val Loss=0.466443, Total Val Loss=0.466443, Val Score=0.175885, Total Val Score=0.175885]\n",
            "100%|██████████| 21/21 [00:01<00:00, 13.40batch/s, Epoch=21, Loss=0.092195, Total Loss=0.073896, Score=0.081716, Total Score=0.560832]\n",
            "100%|██████████| 1/1 [00:00<00:00,  7.33batch/s, Epoch=21, Val Loss=0.438662, Total Val Loss=0.438662, Val Score=0.165538, Total Val Score=0.165538]\n",
            "100%|██████████| 21/21 [00:01<00:00, 13.14batch/s, Epoch=22, Loss=0.093562, Total Loss=0.069159, Score=-0.237453, Total Score=0.562453]\n",
            "100%|██████████| 1/1 [00:00<00:00,  7.11batch/s, Epoch=22, Val Loss=0.423755, Total Val Loss=0.423755, Val Score=0.154076, Total Val Score=0.154076]\n",
            "100%|██████████| 21/21 [00:01<00:00, 13.23batch/s, Epoch=23, Loss=0.048714, Total Loss=0.072307, Score=0.246978, Total Score=0.391446]\n",
            "100%|██████████| 1/1 [00:00<00:00,  7.03batch/s, Epoch=23, Val Loss=0.553020, Total Val Loss=0.553020, Val Score=0.210009, Total Val Score=0.210009]\n",
            "100%|██████████| 21/21 [00:01<00:00, 13.33batch/s, Epoch=24, Loss=0.059266, Total Loss=0.066272, Score=0.594738, Total Score=0.580678]\n",
            "100%|██████████| 1/1 [00:00<00:00,  7.04batch/s, Epoch=24, Val Loss=0.452035, Total Val Loss=0.452035, Val Score=0.171511, Total Val Score=0.171511]\n",
            "100%|██████████| 21/21 [00:01<00:00, 13.40batch/s, Epoch=25, Loss=0.063330, Total Loss=0.063834, Score=0.126726, Total Score=0.506833]\n",
            "100%|██████████| 1/1 [00:00<00:00,  7.16batch/s, Epoch=25, Val Loss=0.579302, Total Val Loss=0.579302, Val Score=0.221029, Total Val Score=0.221029]\n",
            "100%|██████████| 21/21 [00:01<00:00, 13.31batch/s, Epoch=26, Loss=0.062714, Total Loss=0.065221, Score=0.178535, Total Score=0.508895]\n",
            "100%|██████████| 1/1 [00:00<00:00,  6.97batch/s, Epoch=26, Val Loss=0.528082, Total Val Loss=0.528082, Val Score=0.202263, Total Val Score=0.202263]\n",
            "100%|██████████| 21/21 [00:01<00:00, 12.97batch/s, Epoch=27, Loss=0.079234, Total Loss=0.066016, Score=2.240927, Total Score=0.511433]\n",
            "100%|██████████| 1/1 [00:00<00:00,  6.96batch/s, Epoch=27, Val Loss=0.586236, Total Val Loss=0.586236, Val Score=0.219021, Total Val Score=0.219021]\n",
            "100%|██████████| 21/21 [00:01<00:00, 12.79batch/s, Epoch=28, Loss=0.038903, Total Loss=0.064832, Score=-0.119685, Total Score=0.445118]\n",
            "100%|██████████| 1/1 [00:00<00:00,  6.58batch/s, Epoch=28, Val Loss=0.427932, Total Val Loss=0.427932, Val Score=0.155969, Total Val Score=0.155969]\n",
            "100%|██████████| 21/21 [00:01<00:00, 13.22batch/s, Epoch=29, Loss=0.052235, Total Loss=0.065787, Score=-0.164504, Total Score=0.463959]\n",
            "100%|██████████| 1/1 [00:00<00:00,  6.80batch/s, Epoch=29, Val Loss=0.274214, Total Val Loss=0.274214, Val Score=0.101004, Total Val Score=0.101004]\n",
            "100%|██████████| 21/21 [00:01<00:00, 13.12batch/s, Epoch=30, Loss=0.085601, Total Loss=0.066973, Score=-0.020931, Total Score=0.472622]\n",
            "100%|██████████| 1/1 [00:00<00:00,  6.47batch/s, Epoch=30, Val Loss=0.624963, Total Val Loss=0.624963, Val Score=0.234129, Total Val Score=0.234129]\n",
            "100%|██████████| 21/21 [00:01<00:00, 13.30batch/s, Epoch=31, Loss=0.042427, Total Loss=0.063595, Score=0.419598, Total Score=0.434466]\n",
            "100%|██████████| 1/1 [00:00<00:00,  6.75batch/s, Epoch=31, Val Loss=0.629792, Total Val Loss=0.629792, Val Score=0.237703, Total Val Score=0.237703]\n",
            "100%|██████████| 21/21 [00:01<00:00, 12.80batch/s, Epoch=32, Loss=0.061506, Total Loss=0.060814, Score=-0.022133, Total Score=0.466755]\n",
            "100%|██████████| 1/1 [00:00<00:00,  6.46batch/s, Epoch=32, Val Loss=0.607186, Total Val Loss=0.607186, Val Score=0.229932, Total Val Score=0.229932]\n",
            "100%|██████████| 21/21 [00:01<00:00, 12.54batch/s, Epoch=33, Loss=0.052681, Total Loss=0.061398, Score=1.972658, Total Score=0.549701]\n",
            "100%|██████████| 1/1 [00:00<00:00,  6.94batch/s, Epoch=33, Val Loss=0.450746, Total Val Loss=0.450746, Val Score=0.164667, Total Val Score=0.164667]\n",
            "100%|██████████| 21/21 [00:01<00:00, 13.04batch/s, Epoch=34, Loss=0.054303, Total Loss=0.058574, Score=0.368271, Total Score=0.467977]\n",
            "100%|██████████| 1/1 [00:00<00:00,  7.04batch/s, Epoch=34, Val Loss=0.552478, Total Val Loss=0.552478, Val Score=0.208821, Total Val Score=0.208821]\n",
            "100%|██████████| 21/21 [00:01<00:00, 12.91batch/s, Epoch=35, Loss=0.068693, Total Loss=0.059106, Score=-0.242599, Total Score=0.471735]\n",
            "100%|██████████| 1/1 [00:00<00:00,  6.45batch/s, Epoch=35, Val Loss=0.578450, Total Val Loss=0.578450, Val Score=0.216777, Total Val Score=0.216777]\n",
            "100%|██████████| 21/21 [00:01<00:00, 13.01batch/s, Epoch=36, Loss=0.048049, Total Loss=0.060073, Score=-0.003926, Total Score=0.460110]\n",
            "100%|██████████| 1/1 [00:00<00:00,  6.73batch/s, Epoch=36, Val Loss=0.576255, Total Val Loss=0.576255, Val Score=0.217821, Total Val Score=0.217821]\n",
            "100%|██████████| 21/21 [00:01<00:00, 12.93batch/s, Epoch=37, Loss=0.066136, Total Loss=0.059711, Score=-0.039943, Total Score=0.509418]\n",
            "100%|██████████| 1/1 [00:00<00:00,  6.24batch/s, Epoch=37, Val Loss=0.563108, Total Val Loss=0.563108, Val Score=0.214909, Total Val Score=0.214909]\n",
            "100%|██████████| 21/21 [00:01<00:00, 12.31batch/s, Epoch=38, Loss=0.052997, Total Loss=0.064020, Score=-0.134357, Total Score=0.417182]\n",
            "100%|██████████| 1/1 [00:00<00:00,  6.79batch/s, Epoch=38, Val Loss=0.426691, Total Val Loss=0.426691, Val Score=0.156880, Total Val Score=0.156880]\n",
            "100%|██████████| 21/21 [00:01<00:00, 12.53batch/s, Epoch=39, Loss=0.086626, Total Loss=0.063757, Score=0.513165, Total Score=0.492867]\n",
            "100%|██████████| 1/1 [00:00<00:00,  6.82batch/s, Epoch=39, Val Loss=0.451739, Total Val Loss=0.451739, Val Score=0.169393, Total Val Score=0.169393]\n",
            "100%|██████████| 21/21 [00:01<00:00, 12.84batch/s, Epoch=40, Loss=0.077102, Total Loss=0.061913, Score=0.459536, Total Score=0.507948]\n",
            "100%|██████████| 1/1 [00:00<00:00,  6.71batch/s, Epoch=40, Val Loss=0.616259, Total Val Loss=0.616259, Val Score=0.232048, Total Val Score=0.232048]\n",
            "100%|██████████| 21/21 [00:01<00:00, 12.88batch/s, Epoch=41, Loss=0.049969, Total Loss=0.061294, Score=1.433358, Total Score=0.433373]\n",
            "100%|██████████| 1/1 [00:00<00:00,  6.77batch/s, Epoch=41, Val Loss=0.434103, Total Val Loss=0.434103, Val Score=0.157030, Total Val Score=0.157030]\n",
            "100%|██████████| 21/21 [00:01<00:00, 13.22batch/s, Epoch=42, Loss=0.061938, Total Loss=0.058302, Score=0.575309, Total Score=0.416578]\n",
            "100%|██████████| 1/1 [00:00<00:00,  6.48batch/s, Epoch=42, Val Loss=0.539070, Total Val Loss=0.539070, Val Score=0.203609, Total Val Score=0.203609]\n",
            "100%|██████████| 21/21 [00:01<00:00, 13.08batch/s, Epoch=43, Loss=0.049779, Total Loss=0.058736, Score=0.099916, Total Score=0.420808]\n",
            "100%|██████████| 1/1 [00:00<00:00,  6.24batch/s, Epoch=43, Val Loss=0.491899, Total Val Loss=0.491899, Val Score=0.177090, Total Val Score=0.177090]\n",
            "100%|██████████| 21/21 [00:01<00:00, 13.02batch/s, Epoch=44, Loss=0.071356, Total Loss=0.060654, Score=1.590296, Total Score=0.510888]\n",
            "100%|██████████| 1/1 [00:00<00:00,  6.49batch/s, Epoch=44, Val Loss=0.630631, Total Val Loss=0.630631, Val Score=0.238041, Total Val Score=0.238041]\n",
            "100%|██████████| 21/21 [00:01<00:00, 13.13batch/s, Epoch=45, Loss=0.054296, Total Loss=0.058638, Score=1.094189, Total Score=0.483875]\n",
            "100%|██████████| 1/1 [00:00<00:00,  6.18batch/s, Epoch=45, Val Loss=0.444300, Total Val Loss=0.444300, Val Score=0.162215, Total Val Score=0.162215]\n",
            "100%|██████████| 21/21 [00:01<00:00, 13.00batch/s, Epoch=46, Loss=0.045381, Total Loss=0.059343, Score=-0.141999, Total Score=0.443795]\n",
            "100%|██████████| 1/1 [00:00<00:00,  6.18batch/s, Epoch=46, Val Loss=0.652075, Total Val Loss=0.652075, Val Score=0.246974, Total Val Score=0.246974]\n",
            "100%|██████████| 21/21 [00:01<00:00, 12.91batch/s, Epoch=47, Loss=0.050211, Total Loss=0.055803, Score=-0.063627, Total Score=0.475218]\n",
            "100%|██████████| 1/1 [00:00<00:00,  6.19batch/s, Epoch=47, Val Loss=0.689536, Total Val Loss=0.689536, Val Score=0.258829, Total Val Score=0.258829]\n",
            "100%|██████████| 21/21 [00:01<00:00, 12.94batch/s, Epoch=48, Loss=0.046255, Total Loss=0.056844, Score=0.007472, Total Score=0.379529]\n",
            "100%|██████████| 1/1 [00:00<00:00,  6.63batch/s, Epoch=48, Val Loss=0.602946, Total Val Loss=0.602946, Val Score=0.229137, Total Val Score=0.229137]\n",
            "100%|██████████| 21/21 [00:01<00:00, 12.83batch/s, Epoch=49, Loss=0.057138, Total Loss=0.056422, Score=0.706686, Total Score=0.432386]\n",
            "100%|██████████| 1/1 [00:00<00:00,  6.26batch/s, Epoch=49, Val Loss=0.521641, Total Val Loss=0.521641, Val Score=0.199911, Total Val Score=0.199911]\n",
            "100%|██████████| 21/21 [00:01<00:00, 12.89batch/s, Epoch=50, Loss=0.064154, Total Loss=0.058031, Score=-0.320382, Total Score=0.378113]\n",
            "100%|██████████| 1/1 [00:00<00:00,  6.01batch/s, Epoch=50, Val Loss=0.586808, Total Val Loss=0.586808, Val Score=0.223349, Total Val Score=0.223349]\n"
          ]
        }
      ]
    },
    {
      "cell_type": "code",
      "metadata": {
        "colab": {
          "base_uri": "https://localhost:8080/",
          "height": 573
        },
        "id": "DbgkQQTWtKAZ",
        "outputId": "6cd8c272-d60d-4a19-c5b0-3f6b0de42bbd"
      },
      "source": [
        "plt.plot(loss_plot, label='train_loss')\n",
        "plt.plot(val_loss_plot, label='val_loss')\n",
        "plt.xlabel('epoch')\n",
        "plt.ylabel('loss(mae)')\n",
        "plt.title('loss_plot')\n",
        "plt.legend()\n",
        "plt.show()\n",
        "\n",
        "plt.plot(score_plot, label='train_score')\n",
        "plt.plot(val_score_plot, label='val_score')\n",
        "plt.xlabel('epoch')\n",
        "plt.ylabel('score(nmae)')\n",
        "plt.title('score_plot')\n",
        "plt.legend()\n",
        "plt.show()"
      ],
      "execution_count": 40,
      "outputs": [
        {
          "output_type": "display_data",
          "data": {
            "image/png": "[encoded data removed]",
            "text/plain": [
              "<Figure size 432x288 with 1 Axes>"
            ]
          },
          "metadata": {
            "needs_background": "light"
          }
        },
        {
          "output_type": "display_data",
          "data": {
            "image/png": "[encoded data removed]",
            "text/plain": [
              "<Figure size 432x288 with 1 Axes>"
            ]
          },
          "metadata": {
            "needs_background": "light"
          }
        }
      ]
    },
    {
      "cell_type": "code",
      "metadata": {
        "id": "0-ed1P1I1t6U"
      },
      "source": [
        ""
      ],
      "execution_count": null,
      "outputs": []
    }
  ]
}