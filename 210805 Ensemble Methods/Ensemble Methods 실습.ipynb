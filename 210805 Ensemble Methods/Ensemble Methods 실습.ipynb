{
  "nbformat": 4,
  "nbformat_minor": 0,
  "metadata": {
    "kernelspec": {
      "display_name": "Python 3",
      "language": "python",
      "name": "python3"
    },
    "language_info": {
      "codemirror_mode": {
        "name": "ipython",
        "version": 3
      },
      "file_extension": ".py",
      "mimetype": "text/x-python",
      "name": "python",
      "nbconvert_exporter": "python",
      "pygments_lexer": "ipython3",
      "version": "3.8.5"
    },
    "colab": {
      "name": "210805 정규세션.ipynb",
      "provenance": [],
      "toc_visible": true
    }
  },
  "cells": [
    {
      "cell_type": "markdown",
      "metadata": {
        "id": "BKrimca8Xw7e"
      },
      "source": [
        "# Ensemble Methods"
      ]
    },
    {
      "cell_type": "markdown",
      "metadata": {
        "id": "QGfM8b4gVMt8"
      },
      "source": [
        "## Wine 품질 데이터를 이용하여 분석"
      ]
    },
    {
      "cell_type": "code",
      "metadata": {
        "id": "lVlDrha1VNWO"
      },
      "source": [
        "import numpy as np\n",
        "import pandas as pd"
      ],
      "execution_count": 3,
      "outputs": []
    },
    {
      "cell_type": "code",
      "metadata": {
        "colab": {
          "base_uri": "https://localhost:8080/"
        },
        "id": "8RC6LwRQVNT8",
        "outputId": "3cce6e9c-0697-4052-b886-3423adc3fee8"
      },
      "source": [
        "from google.colab import drive\n",
        "drive.mount('/content/drive')"
      ],
      "execution_count": 4,
      "outputs": [
        {
          "output_type": "stream",
          "text": [
            "Mounted at /content/drive\n"
          ],
          "name": "stdout"
        }
      ]
    },
    {
      "cell_type": "code",
      "metadata": {
        "colab": {
          "base_uri": "https://localhost:8080/",
          "height": 434
        },
        "id": "b-vGpht3VNRy",
        "outputId": "5f59f3d8-c7a0-46d1-df7f-d0e13cbb8a6a"
      },
      "source": [
        "wine = pd.read_csv('/content/drive/My Drive/data/winequality-red.csv')\n",
        "pd.set_option('display.max_columns',None)\n",
        "wine"
      ],
      "execution_count": 5,
      "outputs": [
        {
          "output_type": "execute_result",
          "data": {
            "text/html": [
              "<div>\n",
              "<style scoped>\n",
              "    .dataframe tbody tr th:only-of-type {\n",
              "        vertical-align: middle;\n",
              "    }\n",
              "\n",
              "    .dataframe tbody tr th {\n",
              "        vertical-align: top;\n",
              "    }\n",
              "\n",
              "    .dataframe thead th {\n",
              "        text-align: right;\n",
              "    }\n",
              "</style>\n",
              "<table border=\"1\" class=\"dataframe\">\n",
              "  <thead>\n",
              "    <tr style=\"text-align: right;\">\n",
              "      <th></th>\n",
              "      <th>fixed acidity</th>\n",
              "      <th>volatile acidity</th>\n",
              "      <th>citric acid</th>\n",
              "      <th>residual sugar</th>\n",
              "      <th>chlorides</th>\n",
              "      <th>free sulfur dioxide</th>\n",
              "      <th>total sulfur dioxide</th>\n",
              "      <th>density</th>\n",
              "      <th>pH</th>\n",
              "      <th>sulphates</th>\n",
              "      <th>alcohol</th>\n",
              "      <th>quality</th>\n",
              "    </tr>\n",
              "  </thead>\n",
              "  <tbody>\n",
              "    <tr>\n",
              "      <th>0</th>\n",
              "      <td>7.4</td>\n",
              "      <td>0.700</td>\n",
              "      <td>0.00</td>\n",
              "      <td>1.9</td>\n",
              "      <td>0.076</td>\n",
              "      <td>11.0</td>\n",
              "      <td>34.0</td>\n",
              "      <td>0.99780</td>\n",
              "      <td>3.51</td>\n",
              "      <td>0.56</td>\n",
              "      <td>9.4</td>\n",
              "      <td>5</td>\n",
              "    </tr>\n",
              "    <tr>\n",
              "      <th>1</th>\n",
              "      <td>7.8</td>\n",
              "      <td>0.880</td>\n",
              "      <td>0.00</td>\n",
              "      <td>2.6</td>\n",
              "      <td>0.098</td>\n",
              "      <td>25.0</td>\n",
              "      <td>67.0</td>\n",
              "      <td>0.99680</td>\n",
              "      <td>3.20</td>\n",
              "      <td>0.68</td>\n",
              "      <td>9.8</td>\n",
              "      <td>5</td>\n",
              "    </tr>\n",
              "    <tr>\n",
              "      <th>2</th>\n",
              "      <td>7.8</td>\n",
              "      <td>0.760</td>\n",
              "      <td>0.04</td>\n",
              "      <td>2.3</td>\n",
              "      <td>0.092</td>\n",
              "      <td>15.0</td>\n",
              "      <td>54.0</td>\n",
              "      <td>0.99700</td>\n",
              "      <td>3.26</td>\n",
              "      <td>0.65</td>\n",
              "      <td>9.8</td>\n",
              "      <td>5</td>\n",
              "    </tr>\n",
              "    <tr>\n",
              "      <th>3</th>\n",
              "      <td>11.2</td>\n",
              "      <td>0.280</td>\n",
              "      <td>0.56</td>\n",
              "      <td>1.9</td>\n",
              "      <td>0.075</td>\n",
              "      <td>17.0</td>\n",
              "      <td>60.0</td>\n",
              "      <td>0.99800</td>\n",
              "      <td>3.16</td>\n",
              "      <td>0.58</td>\n",
              "      <td>9.8</td>\n",
              "      <td>6</td>\n",
              "    </tr>\n",
              "    <tr>\n",
              "      <th>4</th>\n",
              "      <td>7.4</td>\n",
              "      <td>0.700</td>\n",
              "      <td>0.00</td>\n",
              "      <td>1.9</td>\n",
              "      <td>0.076</td>\n",
              "      <td>11.0</td>\n",
              "      <td>34.0</td>\n",
              "      <td>0.99780</td>\n",
              "      <td>3.51</td>\n",
              "      <td>0.56</td>\n",
              "      <td>9.4</td>\n",
              "      <td>5</td>\n",
              "    </tr>\n",
              "    <tr>\n",
              "      <th>...</th>\n",
              "      <td>...</td>\n",
              "      <td>...</td>\n",
              "      <td>...</td>\n",
              "      <td>...</td>\n",
              "      <td>...</td>\n",
              "      <td>...</td>\n",
              "      <td>...</td>\n",
              "      <td>...</td>\n",
              "      <td>...</td>\n",
              "      <td>...</td>\n",
              "      <td>...</td>\n",
              "      <td>...</td>\n",
              "    </tr>\n",
              "    <tr>\n",
              "      <th>1594</th>\n",
              "      <td>6.2</td>\n",
              "      <td>0.600</td>\n",
              "      <td>0.08</td>\n",
              "      <td>2.0</td>\n",
              "      <td>0.090</td>\n",
              "      <td>32.0</td>\n",
              "      <td>44.0</td>\n",
              "      <td>0.99490</td>\n",
              "      <td>3.45</td>\n",
              "      <td>0.58</td>\n",
              "      <td>10.5</td>\n",
              "      <td>5</td>\n",
              "    </tr>\n",
              "    <tr>\n",
              "      <th>1595</th>\n",
              "      <td>5.9</td>\n",
              "      <td>0.550</td>\n",
              "      <td>0.10</td>\n",
              "      <td>2.2</td>\n",
              "      <td>0.062</td>\n",
              "      <td>39.0</td>\n",
              "      <td>51.0</td>\n",
              "      <td>0.99512</td>\n",
              "      <td>3.52</td>\n",
              "      <td>0.76</td>\n",
              "      <td>11.2</td>\n",
              "      <td>6</td>\n",
              "    </tr>\n",
              "    <tr>\n",
              "      <th>1596</th>\n",
              "      <td>6.3</td>\n",
              "      <td>0.510</td>\n",
              "      <td>0.13</td>\n",
              "      <td>2.3</td>\n",
              "      <td>0.076</td>\n",
              "      <td>29.0</td>\n",
              "      <td>40.0</td>\n",
              "      <td>0.99574</td>\n",
              "      <td>3.42</td>\n",
              "      <td>0.75</td>\n",
              "      <td>11.0</td>\n",
              "      <td>6</td>\n",
              "    </tr>\n",
              "    <tr>\n",
              "      <th>1597</th>\n",
              "      <td>5.9</td>\n",
              "      <td>0.645</td>\n",
              "      <td>0.12</td>\n",
              "      <td>2.0</td>\n",
              "      <td>0.075</td>\n",
              "      <td>32.0</td>\n",
              "      <td>44.0</td>\n",
              "      <td>0.99547</td>\n",
              "      <td>3.57</td>\n",
              "      <td>0.71</td>\n",
              "      <td>10.2</td>\n",
              "      <td>5</td>\n",
              "    </tr>\n",
              "    <tr>\n",
              "      <th>1598</th>\n",
              "      <td>6.0</td>\n",
              "      <td>0.310</td>\n",
              "      <td>0.47</td>\n",
              "      <td>3.6</td>\n",
              "      <td>0.067</td>\n",
              "      <td>18.0</td>\n",
              "      <td>42.0</td>\n",
              "      <td>0.99549</td>\n",
              "      <td>3.39</td>\n",
              "      <td>0.66</td>\n",
              "      <td>11.0</td>\n",
              "      <td>6</td>\n",
              "    </tr>\n",
              "  </tbody>\n",
              "</table>\n",
              "<p>1599 rows × 12 columns</p>\n",
              "</div>"
            ],
            "text/plain": [
              "      fixed acidity  volatile acidity  citric acid  residual sugar  chlorides  \\\n",
              "0               7.4             0.700         0.00             1.9      0.076   \n",
              "1               7.8             0.880         0.00             2.6      0.098   \n",
              "2               7.8             0.760         0.04             2.3      0.092   \n",
              "3              11.2             0.280         0.56             1.9      0.075   \n",
              "4               7.4             0.700         0.00             1.9      0.076   \n",
              "...             ...               ...          ...             ...        ...   \n",
              "1594            6.2             0.600         0.08             2.0      0.090   \n",
              "1595            5.9             0.550         0.10             2.2      0.062   \n",
              "1596            6.3             0.510         0.13             2.3      0.076   \n",
              "1597            5.9             0.645         0.12             2.0      0.075   \n",
              "1598            6.0             0.310         0.47             3.6      0.067   \n",
              "\n",
              "      free sulfur dioxide  total sulfur dioxide  density    pH  sulphates  \\\n",
              "0                    11.0                  34.0  0.99780  3.51       0.56   \n",
              "1                    25.0                  67.0  0.99680  3.20       0.68   \n",
              "2                    15.0                  54.0  0.99700  3.26       0.65   \n",
              "3                    17.0                  60.0  0.99800  3.16       0.58   \n",
              "4                    11.0                  34.0  0.99780  3.51       0.56   \n",
              "...                   ...                   ...      ...   ...        ...   \n",
              "1594                 32.0                  44.0  0.99490  3.45       0.58   \n",
              "1595                 39.0                  51.0  0.99512  3.52       0.76   \n",
              "1596                 29.0                  40.0  0.99574  3.42       0.75   \n",
              "1597                 32.0                  44.0  0.99547  3.57       0.71   \n",
              "1598                 18.0                  42.0  0.99549  3.39       0.66   \n",
              "\n",
              "      alcohol  quality  \n",
              "0         9.4        5  \n",
              "1         9.8        5  \n",
              "2         9.8        5  \n",
              "3         9.8        6  \n",
              "4         9.4        5  \n",
              "...       ...      ...  \n",
              "1594     10.5        5  \n",
              "1595     11.2        6  \n",
              "1596     11.0        6  \n",
              "1597     10.2        5  \n",
              "1598     11.0        6  \n",
              "\n",
              "[1599 rows x 12 columns]"
            ]
          },
          "metadata": {
            "tags": []
          },
          "execution_count": 5
        }
      ]
    },
    {
      "cell_type": "markdown",
      "metadata": {
        "id": "ugPzlYW9WwNu"
      },
      "source": [
        "분류의 목적으로 quality > 6.5인 경우에는 \"good\"이라 하고, 반대의 경우에는 \"bad\"라고 변환"
      ]
    },
    {
      "cell_type": "code",
      "metadata": {
        "colab": {
          "base_uri": "https://localhost:8080/",
          "height": 374
        },
        "id": "CfDLAU29VNOb",
        "outputId": "ead15df5-b8a8-4d81-b87f-4e768b01d890"
      },
      "source": [
        "wine['quality'] = wine['quality'].astype('float')\n",
        "\n",
        "def change(wine):\n",
        "    if wine['quality'] > 6.5:\n",
        "        return 'good'\n",
        "    else:\n",
        "        return 'bad'\n",
        "\n",
        "wine['quality'] = wine.apply(change, axis=1)\n",
        "wine.head(10)"
      ],
      "execution_count": 6,
      "outputs": [
        {
          "output_type": "execute_result",
          "data": {
            "text/html": [
              "<div>\n",
              "<style scoped>\n",
              "    .dataframe tbody tr th:only-of-type {\n",
              "        vertical-align: middle;\n",
              "    }\n",
              "\n",
              "    .dataframe tbody tr th {\n",
              "        vertical-align: top;\n",
              "    }\n",
              "\n",
              "    .dataframe thead th {\n",
              "        text-align: right;\n",
              "    }\n",
              "</style>\n",
              "<table border=\"1\" class=\"dataframe\">\n",
              "  <thead>\n",
              "    <tr style=\"text-align: right;\">\n",
              "      <th></th>\n",
              "      <th>fixed acidity</th>\n",
              "      <th>volatile acidity</th>\n",
              "      <th>citric acid</th>\n",
              "      <th>residual sugar</th>\n",
              "      <th>chlorides</th>\n",
              "      <th>free sulfur dioxide</th>\n",
              "      <th>total sulfur dioxide</th>\n",
              "      <th>density</th>\n",
              "      <th>pH</th>\n",
              "      <th>sulphates</th>\n",
              "      <th>alcohol</th>\n",
              "      <th>quality</th>\n",
              "    </tr>\n",
              "  </thead>\n",
              "  <tbody>\n",
              "    <tr>\n",
              "      <th>0</th>\n",
              "      <td>7.4</td>\n",
              "      <td>0.70</td>\n",
              "      <td>0.00</td>\n",
              "      <td>1.9</td>\n",
              "      <td>0.076</td>\n",
              "      <td>11.0</td>\n",
              "      <td>34.0</td>\n",
              "      <td>0.9978</td>\n",
              "      <td>3.51</td>\n",
              "      <td>0.56</td>\n",
              "      <td>9.4</td>\n",
              "      <td>bad</td>\n",
              "    </tr>\n",
              "    <tr>\n",
              "      <th>1</th>\n",
              "      <td>7.8</td>\n",
              "      <td>0.88</td>\n",
              "      <td>0.00</td>\n",
              "      <td>2.6</td>\n",
              "      <td>0.098</td>\n",
              "      <td>25.0</td>\n",
              "      <td>67.0</td>\n",
              "      <td>0.9968</td>\n",
              "      <td>3.20</td>\n",
              "      <td>0.68</td>\n",
              "      <td>9.8</td>\n",
              "      <td>bad</td>\n",
              "    </tr>\n",
              "    <tr>\n",
              "      <th>2</th>\n",
              "      <td>7.8</td>\n",
              "      <td>0.76</td>\n",
              "      <td>0.04</td>\n",
              "      <td>2.3</td>\n",
              "      <td>0.092</td>\n",
              "      <td>15.0</td>\n",
              "      <td>54.0</td>\n",
              "      <td>0.9970</td>\n",
              "      <td>3.26</td>\n",
              "      <td>0.65</td>\n",
              "      <td>9.8</td>\n",
              "      <td>bad</td>\n",
              "    </tr>\n",
              "    <tr>\n",
              "      <th>3</th>\n",
              "      <td>11.2</td>\n",
              "      <td>0.28</td>\n",
              "      <td>0.56</td>\n",
              "      <td>1.9</td>\n",
              "      <td>0.075</td>\n",
              "      <td>17.0</td>\n",
              "      <td>60.0</td>\n",
              "      <td>0.9980</td>\n",
              "      <td>3.16</td>\n",
              "      <td>0.58</td>\n",
              "      <td>9.8</td>\n",
              "      <td>bad</td>\n",
              "    </tr>\n",
              "    <tr>\n",
              "      <th>4</th>\n",
              "      <td>7.4</td>\n",
              "      <td>0.70</td>\n",
              "      <td>0.00</td>\n",
              "      <td>1.9</td>\n",
              "      <td>0.076</td>\n",
              "      <td>11.0</td>\n",
              "      <td>34.0</td>\n",
              "      <td>0.9978</td>\n",
              "      <td>3.51</td>\n",
              "      <td>0.56</td>\n",
              "      <td>9.4</td>\n",
              "      <td>bad</td>\n",
              "    </tr>\n",
              "    <tr>\n",
              "      <th>5</th>\n",
              "      <td>7.4</td>\n",
              "      <td>0.66</td>\n",
              "      <td>0.00</td>\n",
              "      <td>1.8</td>\n",
              "      <td>0.075</td>\n",
              "      <td>13.0</td>\n",
              "      <td>40.0</td>\n",
              "      <td>0.9978</td>\n",
              "      <td>3.51</td>\n",
              "      <td>0.56</td>\n",
              "      <td>9.4</td>\n",
              "      <td>bad</td>\n",
              "    </tr>\n",
              "    <tr>\n",
              "      <th>6</th>\n",
              "      <td>7.9</td>\n",
              "      <td>0.60</td>\n",
              "      <td>0.06</td>\n",
              "      <td>1.6</td>\n",
              "      <td>0.069</td>\n",
              "      <td>15.0</td>\n",
              "      <td>59.0</td>\n",
              "      <td>0.9964</td>\n",
              "      <td>3.30</td>\n",
              "      <td>0.46</td>\n",
              "      <td>9.4</td>\n",
              "      <td>bad</td>\n",
              "    </tr>\n",
              "    <tr>\n",
              "      <th>7</th>\n",
              "      <td>7.3</td>\n",
              "      <td>0.65</td>\n",
              "      <td>0.00</td>\n",
              "      <td>1.2</td>\n",
              "      <td>0.065</td>\n",
              "      <td>15.0</td>\n",
              "      <td>21.0</td>\n",
              "      <td>0.9946</td>\n",
              "      <td>3.39</td>\n",
              "      <td>0.47</td>\n",
              "      <td>10.0</td>\n",
              "      <td>good</td>\n",
              "    </tr>\n",
              "    <tr>\n",
              "      <th>8</th>\n",
              "      <td>7.8</td>\n",
              "      <td>0.58</td>\n",
              "      <td>0.02</td>\n",
              "      <td>2.0</td>\n",
              "      <td>0.073</td>\n",
              "      <td>9.0</td>\n",
              "      <td>18.0</td>\n",
              "      <td>0.9968</td>\n",
              "      <td>3.36</td>\n",
              "      <td>0.57</td>\n",
              "      <td>9.5</td>\n",
              "      <td>good</td>\n",
              "    </tr>\n",
              "    <tr>\n",
              "      <th>9</th>\n",
              "      <td>7.5</td>\n",
              "      <td>0.50</td>\n",
              "      <td>0.36</td>\n",
              "      <td>6.1</td>\n",
              "      <td>0.071</td>\n",
              "      <td>17.0</td>\n",
              "      <td>102.0</td>\n",
              "      <td>0.9978</td>\n",
              "      <td>3.35</td>\n",
              "      <td>0.80</td>\n",
              "      <td>10.5</td>\n",
              "      <td>bad</td>\n",
              "    </tr>\n",
              "  </tbody>\n",
              "</table>\n",
              "</div>"
            ],
            "text/plain": [
              "   fixed acidity  volatile acidity  citric acid  residual sugar  chlorides  \\\n",
              "0            7.4              0.70         0.00             1.9      0.076   \n",
              "1            7.8              0.88         0.00             2.6      0.098   \n",
              "2            7.8              0.76         0.04             2.3      0.092   \n",
              "3           11.2              0.28         0.56             1.9      0.075   \n",
              "4            7.4              0.70         0.00             1.9      0.076   \n",
              "5            7.4              0.66         0.00             1.8      0.075   \n",
              "6            7.9              0.60         0.06             1.6      0.069   \n",
              "7            7.3              0.65         0.00             1.2      0.065   \n",
              "8            7.8              0.58         0.02             2.0      0.073   \n",
              "9            7.5              0.50         0.36             6.1      0.071   \n",
              "\n",
              "   free sulfur dioxide  total sulfur dioxide  density    pH  sulphates  \\\n",
              "0                 11.0                  34.0   0.9978  3.51       0.56   \n",
              "1                 25.0                  67.0   0.9968  3.20       0.68   \n",
              "2                 15.0                  54.0   0.9970  3.26       0.65   \n",
              "3                 17.0                  60.0   0.9980  3.16       0.58   \n",
              "4                 11.0                  34.0   0.9978  3.51       0.56   \n",
              "5                 13.0                  40.0   0.9978  3.51       0.56   \n",
              "6                 15.0                  59.0   0.9964  3.30       0.46   \n",
              "7                 15.0                  21.0   0.9946  3.39       0.47   \n",
              "8                  9.0                  18.0   0.9968  3.36       0.57   \n",
              "9                 17.0                 102.0   0.9978  3.35       0.80   \n",
              "\n",
              "   alcohol quality  \n",
              "0      9.4     bad  \n",
              "1      9.8     bad  \n",
              "2      9.8     bad  \n",
              "3      9.8     bad  \n",
              "4      9.4     bad  \n",
              "5      9.4     bad  \n",
              "6      9.4     bad  \n",
              "7     10.0    good  \n",
              "8      9.5    good  \n",
              "9     10.5     bad  "
            ]
          },
          "metadata": {
            "tags": []
          },
          "execution_count": 6
        }
      ]
    },
    {
      "cell_type": "code",
      "metadata": {
        "colab": {
          "base_uri": "https://localhost:8080/",
          "height": 374
        },
        "id": "I_yYns7aVNLX",
        "outputId": "689d9b6a-224b-4e88-968c-2d44d59aabf5"
      },
      "source": [
        "wine['y'] = wine['quality']\n",
        "wine.loc[wine['y'] == 'good', 'y'] = 1\n",
        "wine.loc[wine['y'] == 'bad', 'y'] = 0\n",
        "wine.head(10)"
      ],
      "execution_count": 7,
      "outputs": [
        {
          "output_type": "execute_result",
          "data": {
            "text/html": [
              "<div>\n",
              "<style scoped>\n",
              "    .dataframe tbody tr th:only-of-type {\n",
              "        vertical-align: middle;\n",
              "    }\n",
              "\n",
              "    .dataframe tbody tr th {\n",
              "        vertical-align: top;\n",
              "    }\n",
              "\n",
              "    .dataframe thead th {\n",
              "        text-align: right;\n",
              "    }\n",
              "</style>\n",
              "<table border=\"1\" class=\"dataframe\">\n",
              "  <thead>\n",
              "    <tr style=\"text-align: right;\">\n",
              "      <th></th>\n",
              "      <th>fixed acidity</th>\n",
              "      <th>volatile acidity</th>\n",
              "      <th>citric acid</th>\n",
              "      <th>residual sugar</th>\n",
              "      <th>chlorides</th>\n",
              "      <th>free sulfur dioxide</th>\n",
              "      <th>total sulfur dioxide</th>\n",
              "      <th>density</th>\n",
              "      <th>pH</th>\n",
              "      <th>sulphates</th>\n",
              "      <th>alcohol</th>\n",
              "      <th>quality</th>\n",
              "      <th>y</th>\n",
              "    </tr>\n",
              "  </thead>\n",
              "  <tbody>\n",
              "    <tr>\n",
              "      <th>0</th>\n",
              "      <td>7.4</td>\n",
              "      <td>0.70</td>\n",
              "      <td>0.00</td>\n",
              "      <td>1.9</td>\n",
              "      <td>0.076</td>\n",
              "      <td>11.0</td>\n",
              "      <td>34.0</td>\n",
              "      <td>0.9978</td>\n",
              "      <td>3.51</td>\n",
              "      <td>0.56</td>\n",
              "      <td>9.4</td>\n",
              "      <td>bad</td>\n",
              "      <td>0</td>\n",
              "    </tr>\n",
              "    <tr>\n",
              "      <th>1</th>\n",
              "      <td>7.8</td>\n",
              "      <td>0.88</td>\n",
              "      <td>0.00</td>\n",
              "      <td>2.6</td>\n",
              "      <td>0.098</td>\n",
              "      <td>25.0</td>\n",
              "      <td>67.0</td>\n",
              "      <td>0.9968</td>\n",
              "      <td>3.20</td>\n",
              "      <td>0.68</td>\n",
              "      <td>9.8</td>\n",
              "      <td>bad</td>\n",
              "      <td>0</td>\n",
              "    </tr>\n",
              "    <tr>\n",
              "      <th>2</th>\n",
              "      <td>7.8</td>\n",
              "      <td>0.76</td>\n",
              "      <td>0.04</td>\n",
              "      <td>2.3</td>\n",
              "      <td>0.092</td>\n",
              "      <td>15.0</td>\n",
              "      <td>54.0</td>\n",
              "      <td>0.9970</td>\n",
              "      <td>3.26</td>\n",
              "      <td>0.65</td>\n",
              "      <td>9.8</td>\n",
              "      <td>bad</td>\n",
              "      <td>0</td>\n",
              "    </tr>\n",
              "    <tr>\n",
              "      <th>3</th>\n",
              "      <td>11.2</td>\n",
              "      <td>0.28</td>\n",
              "      <td>0.56</td>\n",
              "      <td>1.9</td>\n",
              "      <td>0.075</td>\n",
              "      <td>17.0</td>\n",
              "      <td>60.0</td>\n",
              "      <td>0.9980</td>\n",
              "      <td>3.16</td>\n",
              "      <td>0.58</td>\n",
              "      <td>9.8</td>\n",
              "      <td>bad</td>\n",
              "      <td>0</td>\n",
              "    </tr>\n",
              "    <tr>\n",
              "      <th>4</th>\n",
              "      <td>7.4</td>\n",
              "      <td>0.70</td>\n",
              "      <td>0.00</td>\n",
              "      <td>1.9</td>\n",
              "      <td>0.076</td>\n",
              "      <td>11.0</td>\n",
              "      <td>34.0</td>\n",
              "      <td>0.9978</td>\n",
              "      <td>3.51</td>\n",
              "      <td>0.56</td>\n",
              "      <td>9.4</td>\n",
              "      <td>bad</td>\n",
              "      <td>0</td>\n",
              "    </tr>\n",
              "    <tr>\n",
              "      <th>5</th>\n",
              "      <td>7.4</td>\n",
              "      <td>0.66</td>\n",
              "      <td>0.00</td>\n",
              "      <td>1.8</td>\n",
              "      <td>0.075</td>\n",
              "      <td>13.0</td>\n",
              "      <td>40.0</td>\n",
              "      <td>0.9978</td>\n",
              "      <td>3.51</td>\n",
              "      <td>0.56</td>\n",
              "      <td>9.4</td>\n",
              "      <td>bad</td>\n",
              "      <td>0</td>\n",
              "    </tr>\n",
              "    <tr>\n",
              "      <th>6</th>\n",
              "      <td>7.9</td>\n",
              "      <td>0.60</td>\n",
              "      <td>0.06</td>\n",
              "      <td>1.6</td>\n",
              "      <td>0.069</td>\n",
              "      <td>15.0</td>\n",
              "      <td>59.0</td>\n",
              "      <td>0.9964</td>\n",
              "      <td>3.30</td>\n",
              "      <td>0.46</td>\n",
              "      <td>9.4</td>\n",
              "      <td>bad</td>\n",
              "      <td>0</td>\n",
              "    </tr>\n",
              "    <tr>\n",
              "      <th>7</th>\n",
              "      <td>7.3</td>\n",
              "      <td>0.65</td>\n",
              "      <td>0.00</td>\n",
              "      <td>1.2</td>\n",
              "      <td>0.065</td>\n",
              "      <td>15.0</td>\n",
              "      <td>21.0</td>\n",
              "      <td>0.9946</td>\n",
              "      <td>3.39</td>\n",
              "      <td>0.47</td>\n",
              "      <td>10.0</td>\n",
              "      <td>good</td>\n",
              "      <td>1</td>\n",
              "    </tr>\n",
              "    <tr>\n",
              "      <th>8</th>\n",
              "      <td>7.8</td>\n",
              "      <td>0.58</td>\n",
              "      <td>0.02</td>\n",
              "      <td>2.0</td>\n",
              "      <td>0.073</td>\n",
              "      <td>9.0</td>\n",
              "      <td>18.0</td>\n",
              "      <td>0.9968</td>\n",
              "      <td>3.36</td>\n",
              "      <td>0.57</td>\n",
              "      <td>9.5</td>\n",
              "      <td>good</td>\n",
              "      <td>1</td>\n",
              "    </tr>\n",
              "    <tr>\n",
              "      <th>9</th>\n",
              "      <td>7.5</td>\n",
              "      <td>0.50</td>\n",
              "      <td>0.36</td>\n",
              "      <td>6.1</td>\n",
              "      <td>0.071</td>\n",
              "      <td>17.0</td>\n",
              "      <td>102.0</td>\n",
              "      <td>0.9978</td>\n",
              "      <td>3.35</td>\n",
              "      <td>0.80</td>\n",
              "      <td>10.5</td>\n",
              "      <td>bad</td>\n",
              "      <td>0</td>\n",
              "    </tr>\n",
              "  </tbody>\n",
              "</table>\n",
              "</div>"
            ],
            "text/plain": [
              "   fixed acidity  volatile acidity  citric acid  residual sugar  chlorides  \\\n",
              "0            7.4              0.70         0.00             1.9      0.076   \n",
              "1            7.8              0.88         0.00             2.6      0.098   \n",
              "2            7.8              0.76         0.04             2.3      0.092   \n",
              "3           11.2              0.28         0.56             1.9      0.075   \n",
              "4            7.4              0.70         0.00             1.9      0.076   \n",
              "5            7.4              0.66         0.00             1.8      0.075   \n",
              "6            7.9              0.60         0.06             1.6      0.069   \n",
              "7            7.3              0.65         0.00             1.2      0.065   \n",
              "8            7.8              0.58         0.02             2.0      0.073   \n",
              "9            7.5              0.50         0.36             6.1      0.071   \n",
              "\n",
              "   free sulfur dioxide  total sulfur dioxide  density    pH  sulphates  \\\n",
              "0                 11.0                  34.0   0.9978  3.51       0.56   \n",
              "1                 25.0                  67.0   0.9968  3.20       0.68   \n",
              "2                 15.0                  54.0   0.9970  3.26       0.65   \n",
              "3                 17.0                  60.0   0.9980  3.16       0.58   \n",
              "4                 11.0                  34.0   0.9978  3.51       0.56   \n",
              "5                 13.0                  40.0   0.9978  3.51       0.56   \n",
              "6                 15.0                  59.0   0.9964  3.30       0.46   \n",
              "7                 15.0                  21.0   0.9946  3.39       0.47   \n",
              "8                  9.0                  18.0   0.9968  3.36       0.57   \n",
              "9                 17.0                 102.0   0.9978  3.35       0.80   \n",
              "\n",
              "   alcohol quality  y  \n",
              "0      9.4     bad  0  \n",
              "1      9.8     bad  0  \n",
              "2      9.8     bad  0  \n",
              "3      9.8     bad  0  \n",
              "4      9.4     bad  0  \n",
              "5      9.4     bad  0  \n",
              "6      9.4     bad  0  \n",
              "7     10.0    good  1  \n",
              "8      9.5    good  1  \n",
              "9     10.5     bad  0  "
            ]
          },
          "metadata": {
            "tags": []
          },
          "execution_count": 7
        }
      ]
    },
    {
      "cell_type": "code",
      "metadata": {
        "colab": {
          "base_uri": "https://localhost:8080/"
        },
        "id": "7F0wRrvBVNHo",
        "outputId": "32171b47-876a-424b-a4b8-8d7cfdcfb181"
      },
      "source": [
        "wine['quality'].value_counts()"
      ],
      "execution_count": 8,
      "outputs": [
        {
          "output_type": "execute_result",
          "data": {
            "text/plain": [
              "bad     1382\n",
              "good     217\n",
              "Name: quality, dtype: int64"
            ]
          },
          "metadata": {
            "tags": []
          },
          "execution_count": 8
        }
      ]
    },
    {
      "cell_type": "code",
      "metadata": {
        "id": "AkcV8R0XXIXe"
      },
      "source": [
        "wine['y'] = wine['y'].astype('int')"
      ],
      "execution_count": 9,
      "outputs": []
    },
    {
      "cell_type": "markdown",
      "metadata": {
        "id": "_fr6OA8EXQp1"
      },
      "source": [
        "train, test data split"
      ]
    },
    {
      "cell_type": "code",
      "metadata": {
        "id": "-MJtIXVLXIUe"
      },
      "source": [
        "wine.drop(['quality'], axis = 1, inplace = True)"
      ],
      "execution_count": 10,
      "outputs": []
    },
    {
      "cell_type": "code",
      "metadata": {
        "colab": {
          "base_uri": "https://localhost:8080/"
        },
        "id": "M-K3XXL0XISM",
        "outputId": "971ce67c-c0c3-452c-c4b7-2b2075b744fd"
      },
      "source": [
        "from sklearn.model_selection import train_test_split\n",
        "X = wine.iloc[:,0:11]\n",
        "y = wine['y']\n",
        "X_train, X_test, y_train, y_test = train_test_split(X, y, test_size=0.3, random_state=363, stratify=y)\n",
        "\n",
        "print(len(X_train),len(X_test),len(y_train),len(y_test))"
      ],
      "execution_count": 21,
      "outputs": [
        {
          "output_type": "stream",
          "text": [
            "1119 480 1119 480\n"
          ],
          "name": "stdout"
        }
      ]
    },
    {
      "cell_type": "code",
      "metadata": {
        "id": "autMu79LXIPi"
      },
      "source": [
        ""
      ],
      "execution_count": 21,
      "outputs": []
    },
    {
      "cell_type": "markdown",
      "metadata": {
        "id": "xr4rsYzRQdke"
      },
      "source": [
        "## Bagging"
      ]
    },
    {
      "cell_type": "markdown",
      "metadata": {
        "id": "JAwsd8HlSqbk"
      },
      "source": [
        "- max_depth: 트리의 깊이(default= None)<br/>\n",
        "- min_samples_split: 노드를 쪼갤 때 최소 몇 개의 데이터가 존재해야 하는지(default=2)<br/>\n",
        "- min_samples_leaf: 노드에 최소 몇 개의 데이터가 존재해야 하는지(default=1)<br/>\n",
        "- n_estimators: 트리의 개수(deafult=10)<br/>\n",
        "- max_feautres: 트리를 쪼갤 때, 임의 선택할 변수의 개수(default='auto') => _random feature selection_ "
      ]
    },
    {
      "cell_type": "code",
      "metadata": {
        "id": "wN796kiPQdke"
      },
      "source": [
        "from sklearn.ensemble import BaggingClassifier\n",
        "bag_wine = BaggingClassifier(n_estimators=100, random_state=0)\n",
        "bag_wine.fit(X_train, y_train)  # train data로 fit 시킴\n",
        "y_pred1 = bag_wine.predict(X_test)  # test data를 넣어 prediction함"
      ],
      "execution_count": 22,
      "outputs": []
    },
    {
      "cell_type": "code",
      "metadata": {
        "colab": {
          "base_uri": "https://localhost:8080/"
        },
        "id": "6ISA6gKFQdkf",
        "outputId": "c5c74cf8-784f-44a0-89da-5824bef07a38"
      },
      "source": [
        "from sklearn.metrics import confusion_matrix\n",
        "confusion_matrix(y_test, y_pred1)"
      ],
      "execution_count": 23,
      "outputs": [
        {
          "output_type": "execute_result",
          "data": {
            "text/plain": [
              "array([[395,  20],\n",
              "       [ 29,  36]])"
            ]
          },
          "metadata": {
            "tags": []
          },
          "execution_count": 23
        }
      ]
    },
    {
      "cell_type": "code",
      "metadata": {
        "colab": {
          "base_uri": "https://localhost:8080/"
        },
        "id": "-x4vl2RoQdkf",
        "outputId": "fa7fda31-8849-4401-b1d4-fcd81a49d712"
      },
      "source": [
        "np.trace(confusion_matrix(y_test, y_pred1))/len(y_test)"
      ],
      "execution_count": 24,
      "outputs": [
        {
          "output_type": "execute_result",
          "data": {
            "text/plain": [
              "0.8979166666666667"
            ]
          },
          "metadata": {
            "tags": []
          },
          "execution_count": 24
        }
      ]
    },
    {
      "cell_type": "code",
      "metadata": {
        "colab": {
          "base_uri": "https://localhost:8080/",
          "height": 279
        },
        "id": "b37V0_76Qdkf",
        "outputId": "6aa9fcd4-0687-4ca5-b995-35eb1148e7f5"
      },
      "source": [
        "import matplotlib.pyplot as plt\n",
        "from sklearn.metrics import plot_confusion_matrix\n",
        "fig, ax = plt.subplots()\n",
        "plot_confusion_matrix(bag_wine, X_test, y_test, ax=ax)\n",
        "plt.show()"
      ],
      "execution_count": 25,
      "outputs": [
        {
          "output_type": "display_data",
          "data": {
            "image/png": "[encoded data removed]",
            "text/plain": [
              "<Figure size 432x288 with 2 Axes>"
            ]
          },
          "metadata": {
            "tags": [],
            "needs_background": "light"
          }
        }
      ]
    },
    {
      "cell_type": "code",
      "metadata": {
        "colab": {
          "base_uri": "https://localhost:8080/",
          "height": 203
        },
        "id": "lJXNI-kiQdkf",
        "outputId": "86269101-4782-4cfa-8fe4-6b60003f3e24"
      },
      "source": [
        "prob_pred1 = bag_wine.predict_proba(X_test)\n",
        "pd.DataFrame(prob_pred1).head()\n",
        "# 0일 확률 , 1일 확률"
      ],
      "execution_count": 26,
      "outputs": [
        {
          "output_type": "execute_result",
          "data": {
            "text/html": [
              "<div>\n",
              "<style scoped>\n",
              "    .dataframe tbody tr th:only-of-type {\n",
              "        vertical-align: middle;\n",
              "    }\n",
              "\n",
              "    .dataframe tbody tr th {\n",
              "        vertical-align: top;\n",
              "    }\n",
              "\n",
              "    .dataframe thead th {\n",
              "        text-align: right;\n",
              "    }\n",
              "</style>\n",
              "<table border=\"1\" class=\"dataframe\">\n",
              "  <thead>\n",
              "    <tr style=\"text-align: right;\">\n",
              "      <th></th>\n",
              "      <th>0</th>\n",
              "      <th>1</th>\n",
              "    </tr>\n",
              "  </thead>\n",
              "  <tbody>\n",
              "    <tr>\n",
              "      <th>0</th>\n",
              "      <td>0.99</td>\n",
              "      <td>0.01</td>\n",
              "    </tr>\n",
              "    <tr>\n",
              "      <th>1</th>\n",
              "      <td>0.41</td>\n",
              "      <td>0.59</td>\n",
              "    </tr>\n",
              "    <tr>\n",
              "      <th>2</th>\n",
              "      <td>0.97</td>\n",
              "      <td>0.03</td>\n",
              "    </tr>\n",
              "    <tr>\n",
              "      <th>3</th>\n",
              "      <td>0.79</td>\n",
              "      <td>0.21</td>\n",
              "    </tr>\n",
              "    <tr>\n",
              "      <th>4</th>\n",
              "      <td>1.00</td>\n",
              "      <td>0.00</td>\n",
              "    </tr>\n",
              "  </tbody>\n",
              "</table>\n",
              "</div>"
            ],
            "text/plain": [
              "      0     1\n",
              "0  0.99  0.01\n",
              "1  0.41  0.59\n",
              "2  0.97  0.03\n",
              "3  0.79  0.21\n",
              "4  1.00  0.00"
            ]
          },
          "metadata": {
            "tags": []
          },
          "execution_count": 26
        }
      ]
    },
    {
      "cell_type": "markdown",
      "metadata": {
        "id": "I9eAwm3eQdkg"
      },
      "source": [
        "## Boosting"
      ]
    },
    {
      "cell_type": "code",
      "metadata": {
        "id": "8pAV17K2Qdkg"
      },
      "source": [
        "from sklearn.ensemble import AdaBoostClassifier\n",
        "boo_wine = AdaBoostClassifier(n_estimators=100, random_state=0)  # Adaboost\n",
        "boo_wine.fit(X_train, y_train)\n",
        "y_pred2 = boo_wine.predict(X_test)"
      ],
      "execution_count": 27,
      "outputs": []
    },
    {
      "cell_type": "code",
      "metadata": {
        "colab": {
          "base_uri": "https://localhost:8080/"
        },
        "id": "R9UXktijQdkh",
        "outputId": "1e0fe691-381d-4738-c8ca-df7f2f3d14b2"
      },
      "source": [
        "confusion_matrix(y_test, y_pred2)"
      ],
      "execution_count": 28,
      "outputs": [
        {
          "output_type": "execute_result",
          "data": {
            "text/plain": [
              "array([[391,  24],\n",
              "       [ 40,  25]])"
            ]
          },
          "metadata": {
            "tags": []
          },
          "execution_count": 28
        }
      ]
    },
    {
      "cell_type": "code",
      "metadata": {
        "colab": {
          "base_uri": "https://localhost:8080/"
        },
        "id": "Bm8_j_V4Qdkh",
        "outputId": "a585cbb9-6b3d-4e23-d2ef-30c9c0368e16"
      },
      "source": [
        "np.trace(confusion_matrix(y_test, y_pred2))/len(y_test)"
      ],
      "execution_count": 29,
      "outputs": [
        {
          "output_type": "execute_result",
          "data": {
            "text/plain": [
              "0.8666666666666667"
            ]
          },
          "metadata": {
            "tags": []
          },
          "execution_count": 29
        }
      ]
    },
    {
      "cell_type": "markdown",
      "metadata": {
        "id": "LPdUqw6YQdkj"
      },
      "source": [
        "## Gradient Boosting"
      ]
    },
    {
      "cell_type": "code",
      "metadata": {
        "id": "YGv7J_GtQdkj"
      },
      "source": [
        "from sklearn.ensemble import GradientBoostingClassifier\n",
        "gb_wine = GradientBoostingClassifier(n_estimators=100, random_state=0)\n",
        "gb_wine.fit(X_train, y_train)\n",
        "y_pred4 = gb_wine.predict(X_test)"
      ],
      "execution_count": 30,
      "outputs": []
    },
    {
      "cell_type": "code",
      "metadata": {
        "colab": {
          "base_uri": "https://localhost:8080/"
        },
        "id": "7FB2ZSfLcyES",
        "outputId": "621bd38a-9119-4cc3-e449-9d941f78306e"
      },
      "source": [
        "confusion_matrix(y_test, y_pred4)"
      ],
      "execution_count": 31,
      "outputs": [
        {
          "output_type": "execute_result",
          "data": {
            "text/plain": [
              "array([[401,  14],\n",
              "       [ 36,  29]])"
            ]
          },
          "metadata": {
            "tags": []
          },
          "execution_count": 31
        }
      ]
    },
    {
      "cell_type": "code",
      "metadata": {
        "colab": {
          "base_uri": "https://localhost:8080/"
        },
        "id": "Vd06cIVfcyBL",
        "outputId": "49d40adb-8ae1-410d-cdc8-78ae8fed56c0"
      },
      "source": [
        "np.trace(confusion_matrix(y_test, y_pred4))/len(y_test)"
      ],
      "execution_count": 32,
      "outputs": [
        {
          "output_type": "execute_result",
          "data": {
            "text/plain": [
              "0.8958333333333334"
            ]
          },
          "metadata": {
            "tags": []
          },
          "execution_count": 32
        }
      ]
    },
    {
      "cell_type": "code",
      "metadata": {
        "colab": {
          "base_uri": "https://localhost:8080/",
          "height": 308
        },
        "id": "exCurBdeQdkj",
        "outputId": "8a420e2a-cccd-4cef-960a-ffe96c85d8e8"
      },
      "source": [
        "from sklearn.metrics import plot_roc_curve\n",
        "roc_tree = plot_roc_curve(gb_wine, X_test, y_test)\n",
        "roc_tree.figure_.suptitle(\"ROC curve\")\n",
        "plt.show()"
      ],
      "execution_count": 33,
      "outputs": [
        {
          "output_type": "display_data",
          "data": {
            "image/png": "[encoded data removed]",
            "text/plain": [
              "<Figure size 432x288 with 1 Axes>"
            ]
          },
          "metadata": {
            "tags": [],
            "needs_background": "light"
          }
        }
      ]
    },
    {
      "cell_type": "markdown",
      "metadata": {
        "id": "KuZgTxQQFji9"
      },
      "source": [
        "Gradient Boosting 추가 설명"
      ]
    },
    {
      "cell_type": "code",
      "metadata": {
        "id": "Csry6OnJFRJt"
      },
      "source": [
        "# 공통 모듈 임포트\n",
        "import numpy as np\n",
        "import os\n",
        "\n",
        "# 노트북 실행 결과를 동일하게 유지하기 위해\n",
        "np.random.seed(42)\n",
        "\n",
        "# 깔끔한 그래프 출력을 위해\n",
        "%matplotlib inline\n",
        "import matplotlib as mpl\n",
        "import matplotlib.pyplot as plt\n",
        "mpl.rc('axes', labelsize=14)\n",
        "mpl.rc('xtick', labelsize=12)\n",
        "mpl.rc('ytick', labelsize=12)"
      ],
      "execution_count": 1,
      "outputs": []
    },
    {
      "cell_type": "code",
      "metadata": {
        "colab": {
          "base_uri": "https://localhost:8080/"
        },
        "id": "4SDU6imvFRHk",
        "outputId": "f768999d-38e2-4eda-bb08-f934f2a19e9a"
      },
      "source": [
        "np.random.seed(42)\n",
        "X = np.random.rand(100, 1) - 0.5\n",
        "y = 3*X[:, 0]**2 + 0.05 * np.random.randn(100)\n",
        "X"
      ],
      "execution_count": 2,
      "outputs": [
        {
          "output_type": "execute_result",
          "data": {
            "text/plain": [
              "array([[-0.12545988],\n",
              "       [ 0.45071431],\n",
              "       [ 0.23199394],\n",
              "       [ 0.09865848],\n",
              "       [-0.34398136],\n",
              "       [-0.34400548],\n",
              "       [-0.44191639],\n",
              "       [ 0.36617615],\n",
              "       [ 0.10111501],\n",
              "       [ 0.20807258],\n",
              "       [-0.47941551],\n",
              "       [ 0.46990985],\n",
              "       [ 0.33244264],\n",
              "       [-0.28766089],\n",
              "       [-0.31817503],\n",
              "       [-0.31659549],\n",
              "       [-0.19575776],\n",
              "       [ 0.02475643],\n",
              "       [-0.06805498],\n",
              "       [-0.20877086],\n",
              "       [ 0.11185289],\n",
              "       [-0.36050614],\n",
              "       [-0.20785535],\n",
              "       [-0.13363816],\n",
              "       [-0.04393002],\n",
              "       [ 0.28517596],\n",
              "       [-0.30032622],\n",
              "       [ 0.01423444],\n",
              "       [ 0.09241457],\n",
              "       [-0.45354959],\n",
              "       [ 0.10754485],\n",
              "       [-0.32947588],\n",
              "       [-0.43494841],\n",
              "       [ 0.44888554],\n",
              "       [ 0.46563203],\n",
              "       [ 0.30839735],\n",
              "       [-0.19538623],\n",
              "       [-0.40232789],\n",
              "       [ 0.18423303],\n",
              "       [-0.05984751],\n",
              "       [-0.37796177],\n",
              "       [-0.00482309],\n",
              "       [-0.46561148],\n",
              "       [ 0.4093204 ],\n",
              "       [-0.24122002],\n",
              "       [ 0.16252228],\n",
              "       [-0.18828892],\n",
              "       [ 0.02006802],\n",
              "       [ 0.04671028],\n",
              "       [-0.31514554],\n",
              "       [ 0.46958463],\n",
              "       [ 0.27513282],\n",
              "       [ 0.43949894],\n",
              "       [ 0.39482735],\n",
              "       [ 0.09789998],\n",
              "       [ 0.42187424],\n",
              "       [-0.4115075 ],\n",
              "       [-0.30401714],\n",
              "       [-0.45477271],\n",
              "       [-0.17466967],\n",
              "       [-0.11132271],\n",
              "       [-0.22865097],\n",
              "       [ 0.32873751],\n",
              "       [-0.14324667],\n",
              "       [-0.21906549],\n",
              "       [ 0.04269608],\n",
              "       [-0.35907578],\n",
              "       [ 0.30219698],\n",
              "       [-0.42544936],\n",
              "       [ 0.48688694],\n",
              "       [ 0.27224477],\n",
              "       [-0.30128432],\n",
              "       [-0.49447788],\n",
              "       [ 0.31546143],\n",
              "       [ 0.20685734],\n",
              "       [ 0.22900717],\n",
              "       [ 0.27127035],\n",
              "       [-0.42595535],\n",
              "       [-0.14153427],\n",
              "       [-0.38413094],\n",
              "       [ 0.36310343],\n",
              "       [ 0.12329813],\n",
              "       [-0.16910198],\n",
              "       [-0.43644165],\n",
              "       [-0.18901768],\n",
              "       [-0.17481668],\n",
              "       [ 0.22960618],\n",
              "       [ 0.13755747],\n",
              "       [ 0.38721274],\n",
              "       [-0.02778507],\n",
              "       [-0.38040575],\n",
              "       [ 0.21324479],\n",
              "       [ 0.26078505],\n",
              "       [ 0.0612772 ],\n",
              "       [ 0.27096718],\n",
              "       [-0.0062044 ],\n",
              "       [ 0.02273283],\n",
              "       [-0.07245898],\n",
              "       [-0.47458087],\n",
              "       [-0.39210857]])"
            ]
          },
          "metadata": {
            "tags": []
          },
          "execution_count": 2
        }
      ]
    },
    {
      "cell_type": "code",
      "metadata": {
        "colab": {
          "base_uri": "https://localhost:8080/"
        },
        "id": "H3BJxA8bFRFB",
        "outputId": "75519c50-6d37-46d2-a230-cabac9ff3f30"
      },
      "source": [
        "# 필요한 모듈 임포트 후 decision tree로 fit 함\n",
        "from sklearn.tree import DecisionTreeRegressor\n",
        "\n",
        "tree_reg1 = DecisionTreeRegressor(max_depth=2, random_state=42)\n",
        "tree_reg1.fit(X, y)"
      ],
      "execution_count": 3,
      "outputs": [
        {
          "output_type": "execute_result",
          "data": {
            "text/plain": [
              "DecisionTreeRegressor(ccp_alpha=0.0, criterion='mse', max_depth=2,\n",
              "                      max_features=None, max_leaf_nodes=None,\n",
              "                      min_impurity_decrease=0.0, min_impurity_split=None,\n",
              "                      min_samples_leaf=1, min_samples_split=2,\n",
              "                      min_weight_fraction_leaf=0.0, presort='deprecated',\n",
              "                      random_state=42, splitter='best')"
            ]
          },
          "metadata": {
            "tags": []
          },
          "execution_count": 3
        }
      ]
    },
    {
      "cell_type": "code",
      "metadata": {
        "colab": {
          "base_uri": "https://localhost:8080/"
        },
        "id": "jJW4eP8VFRCK",
        "outputId": "cff0a387-cbf0-4835-e177-091dcc2ab88a"
      },
      "source": [
        "y2 = y - tree_reg1.predict(X)  # 오차\n",
        "tree_reg2 = DecisionTreeRegressor(max_depth=2, random_state=42)\n",
        "tree_reg2.fit(X, y2)  # 오차를 다시 fit 함"
      ],
      "execution_count": 4,
      "outputs": [
        {
          "output_type": "execute_result",
          "data": {
            "text/plain": [
              "DecisionTreeRegressor(ccp_alpha=0.0, criterion='mse', max_depth=2,\n",
              "                      max_features=None, max_leaf_nodes=None,\n",
              "                      min_impurity_decrease=0.0, min_impurity_split=None,\n",
              "                      min_samples_leaf=1, min_samples_split=2,\n",
              "                      min_weight_fraction_leaf=0.0, presort='deprecated',\n",
              "                      random_state=42, splitter='best')"
            ]
          },
          "metadata": {
            "tags": []
          },
          "execution_count": 4
        }
      ]
    },
    {
      "cell_type": "code",
      "metadata": {
        "colab": {
          "base_uri": "https://localhost:8080/"
        },
        "id": "QX05SHQHH127",
        "outputId": "d50b4a53-28b2-4597-83e4-99dc66861d23"
      },
      "source": [
        "y3 = y2 - tree_reg2.predict(X)\n",
        "tree_reg3 = DecisionTreeRegressor(max_depth=2, random_state=42)\n",
        "tree_reg3.fit(X, y3)"
      ],
      "execution_count": 7,
      "outputs": [
        {
          "output_type": "execute_result",
          "data": {
            "text/plain": [
              "DecisionTreeRegressor(ccp_alpha=0.0, criterion='mse', max_depth=2,\n",
              "                      max_features=None, max_leaf_nodes=None,\n",
              "                      min_impurity_decrease=0.0, min_impurity_split=None,\n",
              "                      min_samples_leaf=1, min_samples_split=2,\n",
              "                      min_weight_fraction_leaf=0.0, presort='deprecated',\n",
              "                      random_state=42, splitter='best')"
            ]
          },
          "metadata": {
            "tags": []
          },
          "execution_count": 7
        }
      ]
    },
    {
      "cell_type": "code",
      "metadata": {
        "id": "gSQbe12LFQ2P"
      },
      "source": [
        "def plot_predictions(regressors, X, y, axes, label=None, style=\"r-\", data_style=\"b.\", data_label=None):\n",
        "    x1 = np.linspace(axes[0], axes[1], 500)\n",
        "    y_pred = sum(regressor.predict(x1.reshape(-1, 1)) for regressor in regressors)\n",
        "    plt.plot(X[:, 0], y, data_style, label=data_label)\n",
        "    plt.plot(x1, y_pred, style, linewidth=2, label=label)\n",
        "    if label or data_label:\n",
        "        plt.legend(loc=\"upper center\", fontsize=16)\n",
        "    plt.axis(axes)"
      ],
      "execution_count": 8,
      "outputs": []
    },
    {
      "cell_type": "code",
      "metadata": {
        "colab": {
          "base_uri": "https://localhost:8080/",
          "height": 687
        },
        "id": "cIQQpNLXJfte",
        "outputId": "b68a4776-9476-4321-a821-81fa67a66afe"
      },
      "source": [
        "plt.figure(figsize=(11,11))\n",
        "\n",
        "plt.subplot(321)\n",
        "plot_predictions([tree_reg1], X, y, axes=[-0.5, 0.5, -0.1, 0.8], label=\"$h_1(x_1)$\", style=\"g-\", data_label=\"Training set\")\n",
        "plt.ylabel(\"$y$\", fontsize=16, rotation=0)\n",
        "plt.title(\"Residuals and tree predictions\", fontsize=16)\n",
        "\n",
        "plt.subplot(322)\n",
        "plot_predictions([tree_reg1], X, y, axes=[-0.5, 0.5, -0.1, 0.8], label=\"$h(x_1) = h_1(x_1)$\", data_label=\"Training set\")\n",
        "plt.ylabel(\"$y$\", fontsize=16, rotation=0)\n",
        "plt.title(\"Ensemble predictions\", fontsize=16)\n",
        "\n",
        "plt.subplot(323)\n",
        "plot_predictions([tree_reg2], X, y2, axes=[-0.5, 0.5, -0.5, 0.5], label=\"$h_2(x_1)$\", style=\"g-\", data_style=\"k+\", data_label=\"Residuals\")\n",
        "plt.ylabel(\"$y - h_1(x_1)$\", fontsize=16)\n",
        "\n",
        "plt.subplot(324)\n",
        "plot_predictions([tree_reg1, tree_reg2], X, y, axes=[-0.5, 0.5, -0.1, 0.8], label=\"$h(x_1) = h_1(x_1) + h_2(x_1)$\")\n",
        "plt.ylabel(\"$y$\", fontsize=16, rotation=0)\n",
        "\n",
        "plt.subplot(325)\n",
        "plot_predictions([tree_reg3], X, y3, axes=[-0.5, 0.5, -0.5, 0.5], label=\"$h_3(x_1)$\", style=\"g-\", data_style=\"k+\")\n",
        "plt.ylabel(\"$y - h_1(x_1) - h_2(x_1)$\", fontsize=16)\n",
        "plt.xlabel(\"$x_1$\", fontsize=16)\n",
        "\n",
        "plt.subplot(326)\n",
        "plot_predictions([tree_reg1, tree_reg2, tree_reg3], X, y, axes=[-0.5, 0.5, -0.1, 0.8], label=\"$h(x_1) = h_1(x_1) + h_2(x_1) + h_3(x_1)$\")\n",
        "plt.xlabel(\"$x_1$\", fontsize=16)\n",
        "plt.ylabel(\"$y$\", fontsize=16, rotation=0)\n",
        "\n",
        "plt.show()"
      ],
      "execution_count": 10,
      "outputs": [
        {
          "output_type": "display_data",
          "data": {
            "image/png": "[encoded data removed]",
            "text/plain": [
              "<Figure size 792x792 with 6 Axes>"
            ]
          },
          "metadata": {
            "tags": [],
            "needs_background": "light"
          }
        }
      ]
    },
    {
      "cell_type": "code",
      "metadata": {
        "id": "DR4CzL5_Jfqg"
      },
      "source": [
        ""
      ],
      "execution_count": null,
      "outputs": []
    },
    {
      "cell_type": "code",
      "metadata": {
        "id": "5Y1wXmUxJfoe"
      },
      "source": [
        ""
      ],
      "execution_count": null,
      "outputs": []
    },
    {
      "cell_type": "code",
      "metadata": {
        "id": "mAUELKzdJfkM"
      },
      "source": [
        ""
      ],
      "execution_count": null,
      "outputs": []
    },
    {
      "cell_type": "code",
      "metadata": {
        "id": "YFNCHiYrJfhu"
      },
      "source": [
        ""
      ],
      "execution_count": null,
      "outputs": []
    },
    {
      "cell_type": "code",
      "metadata": {
        "id": "gR4TkHpiJffb"
      },
      "source": [
        ""
      ],
      "execution_count": null,
      "outputs": []
    },
    {
      "cell_type": "markdown",
      "metadata": {
        "id": "BCRC6rMJQdkk"
      },
      "source": [
        "## Random Forest"
      ]
    },
    {
      "cell_type": "code",
      "metadata": {
        "colab": {
          "base_uri": "https://localhost:8080/"
        },
        "id": "shCkVeSuQdkk",
        "outputId": "03e51e86-24a7-4c65-cb1e-cf2fc289e5e9"
      },
      "source": [
        "from sklearn.ensemble import RandomForestClassifier\n",
        "rf_wine = RandomForestClassifier(n_estimators=100, random_state=300)\n",
        "rf_wine.fit(X_train, y_train)"
      ],
      "execution_count": 34,
      "outputs": [
        {
          "output_type": "execute_result",
          "data": {
            "text/plain": [
              "RandomForestClassifier(bootstrap=True, ccp_alpha=0.0, class_weight=None,\n",
              "                       criterion='gini', max_depth=None, max_features='auto',\n",
              "                       max_leaf_nodes=None, max_samples=None,\n",
              "                       min_impurity_decrease=0.0, min_impurity_split=None,\n",
              "                       min_samples_leaf=1, min_samples_split=2,\n",
              "                       min_weight_fraction_leaf=0.0, n_estimators=100,\n",
              "                       n_jobs=None, oob_score=False, random_state=300,\n",
              "                       verbose=0, warm_start=False)"
            ]
          },
          "metadata": {
            "tags": []
          },
          "execution_count": 34
        }
      ]
    },
    {
      "cell_type": "code",
      "metadata": {
        "colab": {
          "base_uri": "https://localhost:8080/",
          "height": 700
        },
        "id": "IL_c8mHVQdkk",
        "outputId": "41fe2443-fcbd-4521-eee5-1311f407b4cd"
      },
      "source": [
        "# 변수 중요도 계산\n",
        "\n",
        "fig, ax = plt.subplots(figsize=(6, 12))\n",
        "ax.barh(X.columns, rf_wine.feature_importances_)\n",
        "plt.show()"
      ],
      "execution_count": 35,
      "outputs": [
        {
          "output_type": "display_data",
          "data": {
            "image/png": "[encoded data removed]",
            "text/plain": [
              "<Figure size 432x864 with 1 Axes>"
            ]
          },
          "metadata": {
            "tags": [],
            "needs_background": "light"
          }
        }
      ]
    },
    {
      "cell_type": "code",
      "metadata": {
        "colab": {
          "base_uri": "https://localhost:8080/"
        },
        "id": "2HNGEIgHQdkl",
        "outputId": "a15ce706-aa84-463d-e792-8e881627be98"
      },
      "source": [
        "y_pred3 = rf_wine.predict(X_test)\n",
        "confusion_matrix(y_test, y_pred3)"
      ],
      "execution_count": 36,
      "outputs": [
        {
          "output_type": "execute_result",
          "data": {
            "text/plain": [
              "array([[401,  14],\n",
              "       [ 34,  31]])"
            ]
          },
          "metadata": {
            "tags": []
          },
          "execution_count": 36
        }
      ]
    },
    {
      "cell_type": "code",
      "metadata": {
        "colab": {
          "base_uri": "https://localhost:8080/"
        },
        "id": "Hs8_REzMQdkl",
        "outputId": "fd6e40bd-7134-4841-edd1-c90ff348fa00"
      },
      "source": [
        "np.trace(confusion_matrix(y_test, y_pred3))/len(y_test)"
      ],
      "execution_count": 37,
      "outputs": [
        {
          "output_type": "execute_result",
          "data": {
            "text/plain": [
              "0.9"
            ]
          },
          "metadata": {
            "tags": []
          },
          "execution_count": 37
        }
      ]
    },
    {
      "cell_type": "markdown",
      "metadata": {
        "id": "vRSYqVIGQdkm"
      },
      "source": [
        "## Model Comparison"
      ]
    },
    {
      "cell_type": "code",
      "metadata": {
        "colab": {
          "base_uri": "https://localhost:8080/",
          "height": 295
        },
        "id": "sjpMqNdmQdkm",
        "outputId": "76e2acf2-8a12-4c07-cd58-17b1cf148e0a"
      },
      "source": [
        "from sklearn.metrics import plot_roc_curve\n",
        "bag_roc=plot_roc_curve(bag_wine, X_test, y_test)\n",
        "plot_roc_curve(boo_wine, X_test, y_test, ax = bag_roc.ax_)\n",
        "plot_roc_curve(gb_wine, X_test, y_test, ax = bag_roc.ax_)\n",
        "plot_roc_curve(rf_wine, X_test, y_test, ax = bag_roc.ax_)\n",
        "plt.title(\"ROC curve comparison\")\n",
        "plt.show()"
      ],
      "execution_count": 38,
      "outputs": [
        {
          "output_type": "display_data",
          "data": {
            "image/png": "[encoded data removed]",
            "text/plain": [
              "<Figure size 432x288 with 1 Axes>"
            ]
          },
          "metadata": {
            "tags": [],
            "needs_background": "light"
          }
        }
      ]
    },
    {
      "cell_type": "markdown",
      "metadata": {
        "id": "ePGoI6eXQdkm"
      },
      "source": [
        "# Random Forest Regression"
      ]
    },
    {
      "cell_type": "markdown",
      "metadata": {
        "id": "H-pn_75BQdkm"
      },
      "source": [
        "## Several Models"
      ]
    },
    {
      "cell_type": "code",
      "metadata": {
        "id": "Kt3P1NqSQdkn"
      },
      "source": [
        "import statsmodels.formula.api as smf\n",
        "import statsmodels.api as sm"
      ],
      "execution_count": 39,
      "outputs": []
    },
    {
      "cell_type": "code",
      "metadata": {
        "colab": {
          "base_uri": "https://localhost:8080/",
          "height": 417
        },
        "id": "932oxYD-Qdkn",
        "outputId": "b744f2c3-ee56-478e-afb0-ce837e4697a9"
      },
      "source": [
        "insurance = pd.read_csv('/content/drive/My Drive/data/insurance.csv')\n",
        "insurance.drop('region',axis=1, inplace=True)\n",
        "df = pd.get_dummies(insurance, columns=['sex', 'smoker'], drop_first=True)\n",
        "df['risk'] = [1 if df.iloc[i, 1] >= 30 else 0 for i in range(len(df))]\n",
        "df"
      ],
      "execution_count": 40,
      "outputs": [
        {
          "output_type": "execute_result",
          "data": {
            "text/html": [
              "<div>\n",
              "<style scoped>\n",
              "    .dataframe tbody tr th:only-of-type {\n",
              "        vertical-align: middle;\n",
              "    }\n",
              "\n",
              "    .dataframe tbody tr th {\n",
              "        vertical-align: top;\n",
              "    }\n",
              "\n",
              "    .dataframe thead th {\n",
              "        text-align: right;\n",
              "    }\n",
              "</style>\n",
              "<table border=\"1\" class=\"dataframe\">\n",
              "  <thead>\n",
              "    <tr style=\"text-align: right;\">\n",
              "      <th></th>\n",
              "      <th>age</th>\n",
              "      <th>bmi</th>\n",
              "      <th>children</th>\n",
              "      <th>charges</th>\n",
              "      <th>sex_male</th>\n",
              "      <th>smoker_yes</th>\n",
              "      <th>risk</th>\n",
              "    </tr>\n",
              "  </thead>\n",
              "  <tbody>\n",
              "    <tr>\n",
              "      <th>0</th>\n",
              "      <td>19</td>\n",
              "      <td>27.900</td>\n",
              "      <td>0</td>\n",
              "      <td>16884.92400</td>\n",
              "      <td>0</td>\n",
              "      <td>1</td>\n",
              "      <td>0</td>\n",
              "    </tr>\n",
              "    <tr>\n",
              "      <th>1</th>\n",
              "      <td>18</td>\n",
              "      <td>33.770</td>\n",
              "      <td>1</td>\n",
              "      <td>1725.55230</td>\n",
              "      <td>1</td>\n",
              "      <td>0</td>\n",
              "      <td>1</td>\n",
              "    </tr>\n",
              "    <tr>\n",
              "      <th>2</th>\n",
              "      <td>28</td>\n",
              "      <td>33.000</td>\n",
              "      <td>3</td>\n",
              "      <td>4449.46200</td>\n",
              "      <td>1</td>\n",
              "      <td>0</td>\n",
              "      <td>1</td>\n",
              "    </tr>\n",
              "    <tr>\n",
              "      <th>3</th>\n",
              "      <td>33</td>\n",
              "      <td>22.705</td>\n",
              "      <td>0</td>\n",
              "      <td>21984.47061</td>\n",
              "      <td>1</td>\n",
              "      <td>0</td>\n",
              "      <td>0</td>\n",
              "    </tr>\n",
              "    <tr>\n",
              "      <th>4</th>\n",
              "      <td>32</td>\n",
              "      <td>28.880</td>\n",
              "      <td>0</td>\n",
              "      <td>3866.85520</td>\n",
              "      <td>1</td>\n",
              "      <td>0</td>\n",
              "      <td>0</td>\n",
              "    </tr>\n",
              "    <tr>\n",
              "      <th>...</th>\n",
              "      <td>...</td>\n",
              "      <td>...</td>\n",
              "      <td>...</td>\n",
              "      <td>...</td>\n",
              "      <td>...</td>\n",
              "      <td>...</td>\n",
              "      <td>...</td>\n",
              "    </tr>\n",
              "    <tr>\n",
              "      <th>1333</th>\n",
              "      <td>50</td>\n",
              "      <td>30.970</td>\n",
              "      <td>3</td>\n",
              "      <td>10600.54830</td>\n",
              "      <td>1</td>\n",
              "      <td>0</td>\n",
              "      <td>1</td>\n",
              "    </tr>\n",
              "    <tr>\n",
              "      <th>1334</th>\n",
              "      <td>18</td>\n",
              "      <td>31.920</td>\n",
              "      <td>0</td>\n",
              "      <td>2205.98080</td>\n",
              "      <td>0</td>\n",
              "      <td>0</td>\n",
              "      <td>1</td>\n",
              "    </tr>\n",
              "    <tr>\n",
              "      <th>1335</th>\n",
              "      <td>18</td>\n",
              "      <td>36.850</td>\n",
              "      <td>0</td>\n",
              "      <td>1629.83350</td>\n",
              "      <td>0</td>\n",
              "      <td>0</td>\n",
              "      <td>1</td>\n",
              "    </tr>\n",
              "    <tr>\n",
              "      <th>1336</th>\n",
              "      <td>21</td>\n",
              "      <td>25.800</td>\n",
              "      <td>0</td>\n",
              "      <td>2007.94500</td>\n",
              "      <td>0</td>\n",
              "      <td>0</td>\n",
              "      <td>0</td>\n",
              "    </tr>\n",
              "    <tr>\n",
              "      <th>1337</th>\n",
              "      <td>61</td>\n",
              "      <td>29.070</td>\n",
              "      <td>0</td>\n",
              "      <td>29141.36030</td>\n",
              "      <td>0</td>\n",
              "      <td>1</td>\n",
              "      <td>0</td>\n",
              "    </tr>\n",
              "  </tbody>\n",
              "</table>\n",
              "<p>1338 rows × 7 columns</p>\n",
              "</div>"
            ],
            "text/plain": [
              "      age     bmi  children      charges  sex_male  smoker_yes  risk\n",
              "0      19  27.900         0  16884.92400         0           1     0\n",
              "1      18  33.770         1   1725.55230         1           0     1\n",
              "2      28  33.000         3   4449.46200         1           0     1\n",
              "3      33  22.705         0  21984.47061         1           0     0\n",
              "4      32  28.880         0   3866.85520         1           0     0\n",
              "...   ...     ...       ...          ...       ...         ...   ...\n",
              "1333   50  30.970         3  10600.54830         1           0     1\n",
              "1334   18  31.920         0   2205.98080         0           0     1\n",
              "1335   18  36.850         0   1629.83350         0           0     1\n",
              "1336   21  25.800         0   2007.94500         0           0     0\n",
              "1337   61  29.070         0  29141.36030         0           1     0\n",
              "\n",
              "[1338 rows x 7 columns]"
            ]
          },
          "metadata": {
            "tags": []
          },
          "execution_count": 40
        }
      ]
    },
    {
      "cell_type": "code",
      "metadata": {
        "colab": {
          "base_uri": "https://localhost:8080/"
        },
        "id": "meEAGHKtQdkn",
        "outputId": "4ad764fb-ab06-47fb-a4dc-77db43596f8c"
      },
      "source": [
        "train, test = train_test_split(df, test_size=0.3, random_state=0)\n",
        "print('Train Set:', len(train), '| Test Set:', len(test))"
      ],
      "execution_count": 41,
      "outputs": [
        {
          "output_type": "stream",
          "text": [
            "Train Set: 936 | Test Set: 402\n"
          ],
          "name": "stdout"
        }
      ]
    },
    {
      "cell_type": "code",
      "metadata": {
        "id": "-nbleaZSQdkn"
      },
      "source": [
        "model1 = smf.ols(formula='charges ~ age + sex_male + bmi + children + smoker_yes',\n",
        "                 data=train)\n",
        "result1 = model1.fit()"
      ],
      "execution_count": 42,
      "outputs": []
    },
    {
      "cell_type": "code",
      "metadata": {
        "id": "UfSb_qwBQdko"
      },
      "source": [
        "model2 = smf.ols(formula=\n",
        "            'charges ~ age+sex_male+bmi+children+smoker_yes+risk:smoker_yes+bmi:smoker_yes', \n",
        "                 data=train)\n",
        "result2 = model2.fit()"
      ],
      "execution_count": 43,
      "outputs": []
    },
    {
      "cell_type": "code",
      "metadata": {
        "colab": {
          "base_uri": "https://localhost:8080/"
        },
        "id": "CFzaoSVxQdko",
        "outputId": "b2106880-de93-419e-eb2f-217bca3addc1"
      },
      "source": [
        "from sklearn.ensemble import RandomForestRegressor\n",
        "X_train = train.drop(['charges'], axis=1)\n",
        "y_train = train['charges']\n",
        "model3 = RandomForestRegressor(n_estimators=100, random_state=0)\n",
        "model3.fit(X_train, y_train)"
      ],
      "execution_count": 44,
      "outputs": [
        {
          "output_type": "execute_result",
          "data": {
            "text/plain": [
              "RandomForestRegressor(bootstrap=True, ccp_alpha=0.0, criterion='mse',\n",
              "                      max_depth=None, max_features='auto', max_leaf_nodes=None,\n",
              "                      max_samples=None, min_impurity_decrease=0.0,\n",
              "                      min_impurity_split=None, min_samples_leaf=1,\n",
              "                      min_samples_split=2, min_weight_fraction_leaf=0.0,\n",
              "                      n_estimators=100, n_jobs=None, oob_score=False,\n",
              "                      random_state=0, verbose=0, warm_start=False)"
            ]
          },
          "metadata": {
            "tags": []
          },
          "execution_count": 44
        }
      ]
    },
    {
      "cell_type": "markdown",
      "metadata": {
        "id": "FFDlV-EEQdko"
      },
      "source": [
        "## Predicted Values"
      ]
    },
    {
      "cell_type": "code",
      "metadata": {
        "id": "n08pQGHMQdkp"
      },
      "source": [
        "X_test = test.drop(['charges'], axis=1)\n",
        "y_test = test['charges']\n",
        "pred1 = result1.predict(X_test)\n",
        "pred3 = model3.predict(X_test)"
      ],
      "execution_count": 45,
      "outputs": []
    },
    {
      "cell_type": "code",
      "metadata": {
        "id": "RwuK5yOBQdkp"
      },
      "source": [
        "X_test['risk:smoker_yes'] = X_test['risk']*X_test['smoker_yes']\n",
        "X_test['bmi:smoker_yes'] = X_test['bmi']*X_test['smoker_yes']\n",
        "pred2 = result2.predict(X_test)"
      ],
      "execution_count": 46,
      "outputs": []
    },
    {
      "cell_type": "markdown",
      "metadata": {
        "id": "FdopnjBtQdkq"
      },
      "source": [
        "## Predictive $R^2$"
      ]
    },
    {
      "cell_type": "code",
      "metadata": {
        "colab": {
          "base_uri": "https://localhost:8080/"
        },
        "id": "JK8uoloLQdkq",
        "outputId": "10a46723-0a18-4197-ac66-cb34c79b404c"
      },
      "source": [
        "from sklearn.metrics import r2_score as r2\n",
        "print(np.round(r2(y_test, pred1),2))\n",
        "print(np.round(r2(y_test, pred2),2))\n",
        "print(np.round(r2(y_test, pred3),2))"
      ],
      "execution_count": 47,
      "outputs": [
        {
          "output_type": "stream",
          "text": [
            "0.79\n",
            "0.89\n",
            "0.85\n"
          ],
          "name": "stdout"
        }
      ]
    },
    {
      "cell_type": "markdown",
      "metadata": {
        "id": "fAA_wKWPQdkq"
      },
      "source": [
        "## MAE"
      ]
    },
    {
      "cell_type": "code",
      "metadata": {
        "colab": {
          "base_uri": "https://localhost:8080/"
        },
        "id": "enuQk0zhQdkr",
        "outputId": "3b65ee8d-f690-4d94-8210-a513863e3686"
      },
      "source": [
        "from sklearn.metrics import mean_absolute_error as mae\n",
        "print(np.round(mae(y_test, pred1),2))\n",
        "print(np.round(mae(y_test, pred2),2))\n",
        "print(np.round(mae(y_test, pred3),2))"
      ],
      "execution_count": 48,
      "outputs": [
        {
          "output_type": "stream",
          "text": [
            "4008.35\n",
            "2268.04\n",
            "2761.29\n"
          ],
          "name": "stdout"
        }
      ]
    },
    {
      "cell_type": "markdown",
      "metadata": {
        "id": "nJEEUlgPQdkr"
      },
      "source": [
        "## Variable Importance of Random Forest"
      ]
    },
    {
      "cell_type": "code",
      "metadata": {
        "scrolled": true,
        "colab": {
          "base_uri": "https://localhost:8080/",
          "height": 265
        },
        "id": "QuYsuY88Qdks",
        "outputId": "fa7a51a7-c0b6-4bab-b102-8c0f3416640d"
      },
      "source": [
        "fig, ax = plt.subplots()\n",
        "ax.barh(X_train.columns, model3.feature_importances_)\n",
        "plt.show()"
      ],
      "execution_count": 49,
      "outputs": [
        {
          "output_type": "display_data",
          "data": {
            "image/png": "[encoded data removed]",
            "text/plain": [
              "<Figure size 432x288 with 1 Axes>"
            ]
          },
          "metadata": {
            "tags": [],
            "needs_background": "light"
          }
        }
      ]
    },
    {
      "cell_type": "markdown",
      "metadata": {
        "id": "WRTn0O2cN1Ya"
      },
      "source": [
        "코드 참고\n",
        "\n",
        "DSL 3기 민동재, 김지우님 boosting 세션 코드\n",
        "\n",
        "응용통계학과 김현중교수님 Data mining 세션 코드"
      ]
    },
    {
      "cell_type": "code",
      "metadata": {
        "id": "ygNhx0EYQdkt"
      },
      "source": [
        ""
      ],
      "execution_count": 49,
      "outputs": []
    }
  ]
}