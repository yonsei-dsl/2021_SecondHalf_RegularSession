{
  "nbformat": 4,
  "nbformat_minor": 0,
  "metadata": {
    "colab": {
      "name": "CNN 제 1강.ipynb",
      "provenance": [],
      "collapsed_sections": [],
      "toc_visible": true
    },
    "kernelspec": {
      "name": "python3",
      "display_name": "Python 3"
    },
    "language_info": {
      "name": "python"
    },
    "accelerator": "GPU"
  },
  "cells": [
    {
      "cell_type": "markdown",
      "metadata": {
        "id": "xIqvhvTOM1m4"
      },
      "source": [
        "이 노트북은 최건호, 파이토치 첫걸음 , 한빛미디어 ,2019 를 참고하였습니다. "
      ]
    },
    {
      "cell_type": "markdown",
      "metadata": {
        "id": "SEplwfV2eh2x"
      },
      "source": [
        "## 1. 모듈 불러오기"
      ]
    },
    {
      "cell_type": "code",
      "metadata": {
        "colab": {
          "base_uri": "https://localhost:8080/"
        },
        "id": "PUAoW-0PemWc",
        "outputId": "302cd866-42ef-4bb3-cf48-39d4c560ea5b"
      },
      "source": [
        "import torch \n",
        "import torch.nn as nn #많은 neural network이 담겨있는 모듈입니다. \n",
        "import torch.optim as optim  # 많은 optimizer가 담겨있는 모듈입니다. \n",
        "import torch.nn.init as init # neural network를 초기화 하는 모듈을 담고 있습니다. \n",
        "from torch.utils.data import DataLoader # DataLoader는 데이터를 batch_size만큼 불러오는 역할 등을 수행합니다. \n",
        "\n",
        "import torchvision \n",
        "import torchvision.datasets as dset # 사진 등의 vision 데이터가 담겨있는 모듈입니다. \n",
        "import torchvision.transforms as transforms #이 모듈에는 데이터를 자르고, 반전시키고 tensor로 변환해주기 등의 데이터 변환 함수가 담겨있습니다.  드\n",
        "import numpy as np\n",
        "\n",
        "import matplotlib.pyplot as plt\n",
        "\n",
        "print(torch.__version__)\n"
      ],
      "execution_count": 25,
      "outputs": [
        {
          "output_type": "stream",
          "text": [
            "1.9.0+cu102\n"
          ],
          "name": "stdout"
        }
      ]
    },
    {
      "cell_type": "markdown",
      "metadata": {
        "id": "MH4mk5jEgAX4"
      },
      "source": [
        "## 2. 데이터 다운 "
      ]
    },
    {
      "cell_type": "code",
      "metadata": {
        "id": "q70XVvuLgNhu"
      },
      "source": [
        "#모듈을 통해 torchvision에서 제공하는 데이터를 쉽게 다운받을 수 있습니다. \n",
        "#root는 불러들인 데이터가 저장되는 곳, train은 학습데이터인지에 대한 여부, transform은 데이터 변환함수를 넣는 인자, \n",
        "#target_transform은 label(정답)데이터 또한 변환할 것인지에 대한 여부 \n",
        "#download는 지정된 경로에 데이터가 없다면 다운받을 것인지에 대한 여부를 묻습니다. \n",
        "mnist_train=dset.MNIST(root='../',train=True, transform=transforms.ToTensor(),target_transform=None,download=True)\n",
        "mnist_test=dset.MNIST(root='../',train=False,transform=transforms.ToTensor(),target_transform=None,download=True)\n"
      ],
      "execution_count": 26,
      "outputs": []
    },
    {
      "cell_type": "code",
      "metadata": {
        "colab": {
          "base_uri": "https://localhost:8080/"
        },
        "id": "bwuITE6Xhdqf",
        "outputId": "ffad37e3-cbaf-4165-a2d3-9386b14aadc3"
      },
      "source": [
        "\n",
        "#데이터 셋 체크 getitem을 써도 되고, 인덱싱을 통해서 해도 괜찮습니다. \n",
        "#데이터 하나가 가진 크기를 유심히 봐야합니다. \n",
        "print(mnist_train.__getitem__(0)[0].size(), mnist_train.__len__())\n",
        "print(mnist_test.__getitem__(0)[0].size(), mnist_test.__len__())\n",
        "\n",
        "print(len(mnist_train),len(mnist_test))\n",
        "#print(mnist_train[0])\n"
      ],
      "execution_count": 27,
      "outputs": [
        {
          "output_type": "stream",
          "text": [
            "torch.Size([1, 28, 28]) 60000\n",
            "torch.Size([1, 28, 28]) 10000\n",
            "60000 10000\n"
          ],
          "name": "stdout"
        }
      ]
    },
    {
      "cell_type": "markdown",
      "metadata": {
        "id": "w_Q6-cabhwsP"
      },
      "source": [
        "## 3. 하이퍼 파라미터 "
      ]
    },
    {
      "cell_type": "code",
      "metadata": {
        "id": "lmlwfoYyhz6f"
      },
      "source": [
        "#CNN에서 대표적인 하이퍼 파라미터로는  num_epoch, batch_size, learnin_rate가 있습니다. 이는 모델에 따라 가감될 수 있습니다. \n",
        "num_epoch=10\n",
        "batch_size=256\n",
        "learning_rate= 0.0002"
      ],
      "execution_count": 28,
      "outputs": []
    },
    {
      "cell_type": "markdown",
      "metadata": {
        "id": "HlEXO2ntiD2L"
      },
      "source": [
        "## 4. 데이터 로더 정의하기 "
      ]
    },
    {
      "cell_type": "markdown",
      "metadata": {
        "id": "MY-vzNXMiKnA"
      },
      "source": [
        "- 사용할 데이터\n",
        "- 배치 사이즈 (batch_size)\n",
        "- 섞을지 여부 (shuffle)\n",
        "- 사용할 프로세스 개수 (num_workers)\n",
        "- 마지막에 남는 데이터의 처리 여부 (drop_last)"
      ]
    },
    {
      "cell_type": "code",
      "metadata": {
        "id": "wavj9j6OiDZs"
      },
      "source": [
        "#위에서 데이터를 정의했는데 왜 또 데이터를 정의하나요? 라는 의문이 생길 것 같습니다. \n",
        "#위에서는 데이터 전부를 정의했습니다. mnist_train에는 모든 학습 데이터가 들어있습니다.\n",
        "#모든 학습 데이터를 한 번에 학습하면 과부하가 발생할 것입니다. \n",
        "#그래서 데이터를 조금씩 조금씩 쪼개서 학습할 필요가 있습니다. 그 역할을 수행하는 것이 DataLodaer이고 때문에 여기서 train_loader,text_loader를 정의하는 것입니다. \n",
        "train_loader=DataLoader(dataset=mnist_train,batch_size=batch_size,shuffle=True,num_workers=2,drop_last=True)\n",
        "test_loader=DataLoader(dataset=mnist_test,batch_size=batch_size,shuffle=False,num_workers=2,drop_last=True)\n"
      ],
      "execution_count": 29,
      "outputs": []
    },
    {
      "cell_type": "markdown",
      "metadata": {
        "id": "7_BVY0-gjIW5"
      },
      "source": [
        "## 5. 모델 정의하기 "
      ]
    },
    {
      "cell_type": "markdown",
      "metadata": {
        "id": "4o0SSaiiCWOn"
      },
      "source": [
        "Conv(1,16,5)->ReLu->Conv(16,32,5)->ReLu->MaxPool2d(2,2)->Conv2d(32,64,5)->ReLu->MaxPool2d(2,2)->fc"
      ]
    },
    {
      "cell_type": "code",
      "metadata": {
        "colab": {
          "base_uri": "https://localhost:8080/",
          "height": 130
        },
        "id": "hYpAFXwkGZZa",
        "outputId": "7d4e049e-325e-4089-998f-76dcf830b395"
      },
      "source": [
        ""
      ],
      "execution_count": 30,
      "outputs": [
        {
          "output_type": "error",
          "ename": "SyntaxError",
          "evalue": "ignored",
          "traceback": [
            "\u001b[0;36m  File \u001b[0;32m\"<ipython-input-30-26216e5d27b3>\"\u001b[0;36m, line \u001b[0;32m18\u001b[0m\n\u001b[0;31m    nn.ReLu()\u001b[0m\n\u001b[0m     ^\u001b[0m\n\u001b[0;31mSyntaxError\u001b[0m\u001b[0;31m:\u001b[0m invalid syntax\n"
          ]
        }
      ]
    },
    {
      "cell_type": "code",
      "metadata": {
        "id": "u07CLv7wjBFZ"
      },
      "source": [
        "#모델을 정의할 때 유념해야할 건 각 층의 결과물의 사이즈입니다. \n",
        "#이 층에서 어떤 size를 가진 데이터를 몇 개 도출하는지 정확하게 알고 있어야 정확한 모델을 정의할 수 있습니다. \n",
        "#모델이 복잡해지면 복잡해질수록 이는 더욱 중요해집니다. 때문에 모델을 정의할 때 옆에 각 모델이 도출하는 데이터의 크기를 써넣는 것을 추천드립니다. \n",
        "#해당 모델은 임의로 만든 모델입니다. 이 모델이 다른 모델보다 뛰어나다는 보장이 없습니다. \n",
        "class CNN(nn.Module):\n",
        "    def __init__(self):\n",
        "        super(CNN,self).__init__()\n",
        "        self.layer = nn.Sequential(\n",
        "            nn.Conv2d(in_channels=1,out_channels=16,kernel_size=5),             # [batch_size,1,28,28] -> [batch_size,16,24,24]\n",
        "            nn.ReLU(),                                                          # 필터의 개수는 1개(흑백이미지)에서 16개로 늘어나도록 임의로 설정했습니다. \n",
        "            nn.Conv2d(in_channels=16,out_channels=32,kernel_size=5),            # [batch_size,16,24,24] -> [batch_size,32,20,20]\n",
        "            nn.ReLU(),\n",
        "            nn.MaxPool2d(kernel_size=2,stride=2),                               # [batch_size,32,20,20] -> [batch_size,32,10,10]\n",
        "            nn.Conv2d(in_channels=32, out_channels=64, kernel_size=5),          # [batch_size,32,10,10] -> [batch_size,64,6,6]\n",
        "            nn.ReLU(),\n",
        "            nn.MaxPool2d(kernel_size=2,stride=2)                                # [batch_size,64,6,6] -> [batch_size,64,3,3]\n",
        "        )\n",
        "        self.fc_layer = nn.Sequential(                                          \n",
        "            nn.Linear(64*3*3,100),                                              # [batch_size,64*3*3] -> [batch_size,100]\n",
        "            nn.ReLU(),\n",
        "            nn.Linear(100,10)                                                   # [batch_size,100] -> [batch_size,10]\n",
        "        )       \n",
        "        \n",
        "    def forward(self,x):\n",
        "        out = self.layer(x)                                                     # self.layer에 정의한 Sequential의 연산을 차례대로 다 실행합니다.\n",
        "        out = out.view(batch_size,-1)                                           # view 함수를 이용해 텐서의 형태를 [batch_size,나머지]로 바꿔줍니다. \n",
        "                                                                                # ex) 2x3 형태였던 텐서를 .view(1,-1) 해주면 1x6의 형태로 바뀝니다. .view(3,-1)이면 3x2로 바뀜.\n",
        "                                                                                # 만약 전체 텐서의 크기가 batch_size로 나누어 떨어지지 않으면 오류가 납니다.\n",
        "        out = self.fc_layer(out)\n",
        "        return out\n",
        "\n",
        "\n",
        "# https://pytorch.org/docs/stable/nn.html?highlight=conv2d#torch.nn.Conv2d\n",
        "# https://pytorch.org/docs/stable/tensors.html?highlight=view#torch.Tensor.view\n",
        "\n",
        "\n",
        "\n",
        "\n",
        "  "
      ],
      "execution_count": 33,
      "outputs": []
    },
    {
      "cell_type": "markdown",
      "metadata": {
        "id": "LlILDbLa0Ay4"
      },
      "source": [
        ""
      ]
    },
    {
      "cell_type": "markdown",
      "metadata": {
        "id": "gFI_EbhklAJE"
      },
      "source": [
        "## 6.손실함수와 최적화 함수 정의하기 "
      ]
    },
    {
      "cell_type": "code",
      "metadata": {
        "colab": {
          "base_uri": "https://localhost:8080/"
        },
        "id": "yyAD69AflC24",
        "outputId": "5374c430-76ad-44a0-a59f-9803dc592ea9"
      },
      "source": [
        "#gpu나 cpu를 device로 불러들입니다. 그리고 device에서 학습이 진행되게끔 모델을 device에 올려놓습니다.\n",
        "#loss function과 optimizer를 정의하는 것도 잊지 마세요! \n",
        "#우리는 torch가 제공하는 걸 가져다 쓰면 됩니당 ~ ^_^  \n",
        "device=torch.device(\"cuda:0\" if torch.cuda.is_available() else 'cpu')  \n",
        "\n",
        "print(device)\n",
        "\n",
        "model=CNN().to(device)\n",
        "\n",
        "loss_func=nn.CrossEntropyLoss()\n",
        "\n",
        "optimizer=torch.optim.Adam(model.parameters(),lr=learning_rate)"
      ],
      "execution_count": 36,
      "outputs": [
        {
          "output_type": "stream",
          "text": [
            "cuda:0\n"
          ],
          "name": "stdout"
        }
      ]
    },
    {
      "cell_type": "code",
      "metadata": {
        "colab": {
          "base_uri": "https://localhost:8080/"
        },
        "id": "VXSyhRs_ROhe",
        "outputId": "4a52d286-2b1e-417d-e961-e614caa316b1"
      },
      "source": [
        "from torchsummary import summary\n",
        "summary(model,(1,28,28),batch_size=256)"
      ],
      "execution_count": 37,
      "outputs": [
        {
          "output_type": "stream",
          "text": [
            "----------------------------------------------------------------\n",
            "        Layer (type)               Output Shape         Param #\n",
            "================================================================\n",
            "            Conv2d-1          [256, 16, 24, 24]             416\n",
            "              ReLU-2          [256, 16, 24, 24]               0\n",
            "            Conv2d-3          [256, 32, 20, 20]          12,832\n",
            "              ReLU-4          [256, 32, 20, 20]               0\n",
            "         MaxPool2d-5          [256, 32, 10, 10]               0\n",
            "            Conv2d-6            [256, 64, 6, 6]          51,264\n",
            "              ReLU-7            [256, 64, 6, 6]               0\n",
            "         MaxPool2d-8            [256, 64, 3, 3]               0\n",
            "            Linear-9                 [256, 100]          57,700\n",
            "             ReLU-10                 [256, 100]               0\n",
            "           Linear-11                  [256, 10]           1,010\n",
            "================================================================\n",
            "Total params: 123,222\n",
            "Trainable params: 123,222\n",
            "Non-trainable params: 0\n",
            "----------------------------------------------------------------\n",
            "Input size (MB): 0.77\n",
            "Forward/backward pass size (MB): 102.79\n",
            "Params size (MB): 0.47\n",
            "Estimated Total Size (MB): 104.02\n",
            "----------------------------------------------------------------\n"
          ],
          "name": "stdout"
        }
      ]
    },
    {
      "cell_type": "markdown",
      "metadata": {
        "id": "_DPFr5TZl_6I"
      },
      "source": [
        "## 7.학습하기 "
      ]
    },
    {
      "cell_type": "code",
      "metadata": {
        "colab": {
          "base_uri": "https://localhost:8080/"
        },
        "id": "4Am3C_jDlcvf",
        "outputId": "b5323aad-0dd3-45fa-d3ee-5634578c92ea"
      },
      "source": [
        "loss_arr=[]\n",
        "for i in range(num_epoch):\n",
        "  for j,[image,label] in enumerate(train_loader):  #아래에서 j를 이용해서 loss를 모으기 위해 이렇게 코드를 짰습니다. \n",
        "    x=image.to(device)            #학습이미지와 \n",
        "    y_=label.to(device)           #정답을 device에 올려놓습니다.\n",
        "    optimizer.zero_grad() \n",
        "    output=model.forward(x)       #학습이미지를 모델에 돌린 결과를 가져옵니다. \n",
        "    loss=loss_func(output,y_)     #결과와 정답을 loss function에 넣고 loss를 추출합니다. \n",
        "    loss.backward()               #추출된 loss를 통해 역전파 ! \n",
        "    optimizer.step()              #역전파를 했다면 optimizer.step()를 통해 파라미터를 이동시켜줍시다. \n",
        "    \n",
        "    if j%1000==0:\n",
        "      print(loss)\n",
        "      loss_arr.append(loss.cpu().detach().numpy())\n",
        "\n",
        "        \n",
        "        \n",
        "    "
      ],
      "execution_count": 38,
      "outputs": [
        {
          "output_type": "stream",
          "text": [
            "tensor(2.3022, device='cuda:0', grad_fn=<NllLossBackward>)\n",
            "tensor(0.2096, device='cuda:0', grad_fn=<NllLossBackward>)\n",
            "tensor(0.1030, device='cuda:0', grad_fn=<NllLossBackward>)\n",
            "tensor(0.1464, device='cuda:0', grad_fn=<NllLossBackward>)\n",
            "tensor(0.0819, device='cuda:0', grad_fn=<NllLossBackward>)\n",
            "tensor(0.1074, device='cuda:0', grad_fn=<NllLossBackward>)\n",
            "tensor(0.0267, device='cuda:0', grad_fn=<NllLossBackward>)\n",
            "tensor(0.0570, device='cuda:0', grad_fn=<NllLossBackward>)\n",
            "tensor(0.0796, device='cuda:0', grad_fn=<NllLossBackward>)\n",
            "tensor(0.0380, device='cuda:0', grad_fn=<NllLossBackward>)\n"
          ],
          "name": "stdout"
        }
      ]
    },
    {
      "cell_type": "markdown",
      "metadata": {
        "id": "Z0XBGIpgDvMK"
      },
      "source": [
        "## 8.손실 시각화 "
      ]
    },
    {
      "cell_type": "code",
      "metadata": {
        "colab": {
          "base_uri": "https://localhost:8080/",
          "height": 265
        },
        "id": "8mJdMonFDu9a",
        "outputId": "721f2239-c5d3-4f67-8f1d-b4e7a1fcaed2"
      },
      "source": [
        "plt.plot(loss_arr)\n",
        "plt.show()"
      ],
      "execution_count": 39,
      "outputs": [
        {
          "output_type": "display_data",
          "data": {
            "image/png": "[encoded data removed]",
            "text/plain": [
              "<Figure size 432x288 with 1 Axes>"
            ]
          },
          "metadata": {
            "tags": [],
            "needs_background": "light"
          }
        }
      ]
    },
    {
      "cell_type": "markdown",
      "metadata": {
        "id": "YJNZDgOpDpTI"
      },
      "source": [
        "## 9.테스트 하기 "
      ]
    },
    {
      "cell_type": "code",
      "metadata": {
        "colab": {
          "base_uri": "https://localhost:8080/"
        },
        "id": "vHylngGCDpE0",
        "outputId": "57d0f04e-6df6-42d0-dbab-01f411e621cf"
      },
      "source": [
        "correct=0\n",
        "total=0\n",
        "\n",
        "with torch.no_grad():\n",
        "  for image,label in test_loader:\n",
        "    x=image.to(device)\n",
        "    y_=label.to(device)\n",
        "    output=model.forward(x)\n",
        "     #https://pytorch.org/docs/stable/torch.html?highlight=max#torch.max\n",
        "    _,output_index=torch.max(output,1)  #max함수는 max value와 max value의 index를 도출합니다. 두 번째 인자 1은 결과의 dimension을 의미합니다. \n",
        "\n",
        "    total+=label.size(0)\n",
        "\n",
        "    correct += (output_index==y_).sum().float()\n",
        "\n",
        "print(\"Accuracy of Test Data: {}%\".format(100*correct/total))\n"
      ],
      "execution_count": 40,
      "outputs": [
        {
          "output_type": "stream",
          "text": [
            "Accuracy of Test Data: 98.73798370361328%\n"
          ],
          "name": "stdout"
        }
      ]
    },
    {
      "cell_type": "markdown",
      "metadata": {
        "id": "6TXDraUEMbMH"
      },
      "source": [
        "# 추가 섹션! cnn2d의 여러 파라미터를 알아봅시다 "
      ]
    },
    {
      "cell_type": "markdown",
      "metadata": {
        "id": "tofEaVHAMx_W"
      },
      "source": [
        "- https://pytorch.org/docs/stable/nn.html?highlight=conv2d#torch.nn.Conv2d\n",
        "- in_channels: 입력의 채널 수\n",
        "- out_channels: 출력의 채널 수\n",
        "- kernel_size: 필터 혹은 커널의 크기 \n",
        "- stride: 필터 적용의 간격 (stride: 걸음걸이)\n",
        "- padding: 입력 데이터를 추가적으로 둘러싸는 층의 두께\n",
        "- padding_mode: 패딩 적용 방식 (ex. zero padding은 0으로 채우는 경우)\n",
        "\n"
      ]
    },
    {
      "cell_type": "markdown",
      "metadata": {
        "id": "4DnImd0yNeWD"
      },
      "source": [
        "데이터는 위에서 불러들인 mnist_test를 그대로 이용합니다. "
      ]
    },
    {
      "cell_type": "code",
      "metadata": {
        "colab": {
          "base_uri": "https://localhost:8080/"
        },
        "id": "gFKeYadYMg_g",
        "outputId": "fac504d6-b9a3-4fa7-fc69-52bf760d6829"
      },
      "source": [
        "print(mnist_train)\n",
        "\n",
        "# dataset.__getitem__(idx)\n",
        "image,label = mnist_train.__getitem__(0)\n",
        "print(image.size(),label)\n",
        "\n",
        "#위 아래 모두 동일한 결과물을 도출합니다. \n",
        "\n",
        "# dataset[idx]\n",
        "image,label = mnist_train[0]\n",
        "print(image.size(),label)\n",
        "\n",
        "# dataset.__len__()\n",
        "print(mnist_train.__len__())\n",
        "\n",
        "#위 아래 모두 동일한 결과물을 도출합니다. \n",
        "\n",
        "# len(dataset)\n",
        "len(mnist_train)"
      ],
      "execution_count": 24,
      "outputs": [
        {
          "output_type": "stream",
          "text": [
            "Dataset MNIST\n",
            "    Number of datapoints: 60000\n",
            "    Root location: ../\n",
            "    Split: Train\n",
            "    StandardTransform\n",
            "Transform: ToTensor()\n",
            "torch.Size([1, 28, 28]) 5\n",
            "torch.Size([1, 28, 28]) 5\n",
            "60000\n"
          ],
          "name": "stdout"
        },
        {
          "output_type": "execute_result",
          "data": {
            "text/plain": [
              "60000"
            ]
          },
          "metadata": {
            "tags": []
          },
          "execution_count": 24
        }
      ]
    },
    {
      "cell_type": "markdown",
      "metadata": {
        "id": "wDzqddLtN-43"
      },
      "source": [
        "## 데이터 시각화 "
      ]
    },
    {
      "cell_type": "code",
      "metadata": {
        "colab": {
          "base_uri": "https://localhost:8080/",
          "height": 761
        },
        "id": "yeZHZ2pgNqKU",
        "outputId": "9c8cb69d-3dd0-49c9-baac-ffd18e33d15a"
      },
      "source": [
        "for i in range(3):\n",
        "    img= mnist_train[i][0].numpy()\n",
        "    plt.imshow(img[0],cmap='gray')\n",
        "    plt.show()"
      ],
      "execution_count": 25,
      "outputs": [
        {
          "output_type": "display_data",
          "data": {
            "image/png": "[encoded data removed]",
            "text/plain": [
              "<Figure size 432x288 with 1 Axes>"
            ]
          },
          "metadata": {
            "tags": [],
            "needs_background": "light"
          }
        },
        {
          "output_type": "display_data",
          "data": {
            "image/png": "[encoded data removed]",
            "text/plain": [
              "<Figure size 432x288 with 1 Axes>"
            ]
          },
          "metadata": {
            "tags": [],
            "needs_background": "light"
          }
        },
        {
          "output_type": "display_data",
          "data": {
            "image/png": "[encoded data removed]",
            "text/plain": [
              "<Figure size 432x288 with 1 Axes>"
            ]
          },
          "metadata": {
            "tags": [],
            "needs_background": "light"
          }
        }
      ]
    },
    {
      "cell_type": "markdown",
      "metadata": {
        "id": "O01Wl3zROaMf"
      },
      "source": [
        "- 파이토치 텐서 사이즈는 다음과 같은 형태를 가지고 있습니다 -> [Batch,Channel,Height,Width]\n",
        "\n",
        "\n",
        "## 1) Channels\n",
        "\n"
      ]
    },
    {
      "cell_type": "code",
      "metadata": {
        "colab": {
          "base_uri": "https://localhost:8080/",
          "height": 778
        },
        "id": "XEtUZlKXObsX",
        "outputId": "3efa0cd8-bd29-4cea-e7bd-6635928e6846"
      },
      "source": [
        "# 먼저 트레이닝 데이터의 첫번째 이미지-라벨 쌍을 불러옵니다.\n",
        "image,label = mnist_train[0]\n",
        "\n",
        "# nn.Conv2d 연산을 적용할 수 있도록 이미지 데이터의 형태를 [1,1,28,28]로 만들어줍니다.\n",
        "# 이 데이터의 경우 데이터 하나가 원래 [1,28,28]의 크기를 가진 흑백데이터입니다.  \n",
        "# [batch,channel,h,w]의 크기를 가져야 하기 때문에 이렇게 바꾸어줬습니다. \n",
        "# 이는 view 말고도 unsqueeze 함수로도 구현할 수 있습니다.\n",
        "image = image.view(-1,image.size()[0],image.size()[1],image.size()[2])\n",
        "\n",
        "# 1개의 채널을 입력으로 받아서 3개의 채널이 나오는 컨볼루션 연산을 정의합니다.\n",
        "conv_layer = nn.Conv2d(in_channels=1,out_channels=3,kernel_size=1)\n",
        "\n",
        "#3개의 채널이 나온다는 것은 3개의 feature map이 나온다는 것과 동일합니다. \n",
        "\n",
        "# 연산에 입력 이미지를 넣습니다.\n",
        "output = conv_layer(image)\n",
        "\n",
        "# 결과의 형태를 확인합니다. \n",
        "# 연산에서 정의한대로 결과값의 형태는 [1,3,28,28]이 나옵니다. \n",
        "\n",
        "print(output.size())\n",
        "\n",
        "# 출력의 각 채널별 이미지를 띄워봅니다. \n",
        "for i in range(output.size()[1]):\n",
        "    plt.imshow(output[0,i,:,:].data.numpy(),cmap='gray',vmin=-1,vmax=1)\n",
        "    plt.show()"
      ],
      "execution_count": 26,
      "outputs": [
        {
          "output_type": "stream",
          "text": [
            "torch.Size([1, 3, 28, 28])\n"
          ],
          "name": "stdout"
        },
        {
          "output_type": "display_data",
          "data": {
            "image/png": "[encoded data removed]",
            "text/plain": [
              "<Figure size 432x288 with 1 Axes>"
            ]
          },
          "metadata": {
            "tags": [],
            "needs_background": "light"
          }
        },
        {
          "output_type": "display_data",
          "data": {
            "image/png": "[encoded data removed]",
            "text/plain": [
              "<Figure size 432x288 with 1 Axes>"
            ]
          },
          "metadata": {
            "tags": [],
            "needs_background": "light"
          }
        },
        {
          "output_type": "display_data",
          "data": {
            "image/png": "[encoded data removed]",
            "text/plain": [
              "<Figure size 432x288 with 1 Axes>"
            ]
          },
          "metadata": {
            "tags": [],
            "needs_background": "light"
          }
        }
      ]
    },
    {
      "cell_type": "markdown",
      "metadata": {
        "id": "J3IkAqVaQQBr"
      },
      "source": [
        "### 2) Kernel Size\n"
      ]
    },
    {
      "cell_type": "code",
      "metadata": {
        "colab": {
          "base_uri": "https://localhost:8080/",
          "height": 812
        },
        "id": "ntWDfmbXQWXK",
        "outputId": "715e3287-9962-4142-b039-508c737813e3"
      },
      "source": [
        "# 커널 사이즈를 1로 하는 경우\n",
        "conv_layer = nn.Conv2d(in_channels=1,out_channels=1,kernel_size=1)\n",
        "output = conv_layer(image)\n",
        "plt.imshow(output[0,0,:,:].data.numpy(),cmap='gray')\n",
        "plt.show()\n",
        "print(\"커널 사이즈가 1인 경우 결과값의 크기:{}\".format(output.size()))\n",
        "\n",
        "\n",
        "# 커널 사이즈를 3로 하는 경우\n",
        "conv_layer = nn.Conv2d(in_channels=1,out_channels=1,kernel_size=3)\n",
        "output = conv_layer(image)\n",
        "plt.imshow(output[0,0,:,:].data.numpy(),cmap='gray')\n",
        "plt.show()\n",
        "print(\"커널 사이즈가 3인 경우 결과값의 크기:{}\".format(output.size()))\n",
        "\n",
        "\n",
        "# 커널 사이즈를 5로 하는 경우\n",
        "conv_layer = nn.Conv2d(in_channels=1,out_channels=1,kernel_size=5)\n",
        "output = conv_layer(image)\n",
        "plt.imshow(output[0,0,:,:].data.numpy(),cmap='gray')\n",
        "plt.show()\n",
        "print(\"커널 사이즈가 5인 경우 결과값의 크기:{}\".format(output.size()))"
      ],
      "execution_count": 27,
      "outputs": [
        {
          "output_type": "display_data",
          "data": {
            "image/png": "[encoded data removed]",
            "text/plain": [
              "<Figure size 432x288 with 1 Axes>"
            ]
          },
          "metadata": {
            "tags": [],
            "needs_background": "light"
          }
        },
        {
          "output_type": "stream",
          "text": [
            "커널 사이즈가 1인 경우 결과값의 크기:torch.Size([1, 1, 28, 28])\n"
          ],
          "name": "stdout"
        },
        {
          "output_type": "display_data",
          "data": {
            "image/png": "[encoded data removed]",
            "text/plain": [
              "<Figure size 432x288 with 1 Axes>"
            ]
          },
          "metadata": {
            "tags": [],
            "needs_background": "light"
          }
        },
        {
          "output_type": "stream",
          "text": [
            "커널 사이즈가 3인 경우 결과값의 크기:torch.Size([1, 1, 26, 26])\n"
          ],
          "name": "stdout"
        },
        {
          "output_type": "display_data",
          "data": {
            "image/png": "[encoded data removed]",
            "text/plain": [
              "<Figure size 432x288 with 1 Axes>"
            ]
          },
          "metadata": {
            "tags": [],
            "needs_background": "light"
          }
        },
        {
          "output_type": "stream",
          "text": [
            "커널 사이즈가 5인 경우 결과값의 크기:torch.Size([1, 1, 24, 24])\n"
          ],
          "name": "stdout"
        }
      ]
    },
    {
      "cell_type": "markdown",
      "metadata": {
        "id": "dn1N2iUZQ093"
      },
      "source": [
        "## 3) Stride"
      ]
    },
    {
      "cell_type": "code",
      "metadata": {
        "colab": {
          "base_uri": "https://localhost:8080/",
          "height": 812
        },
        "id": "pHnEu4vPQ4k-",
        "outputId": "3d6f0e23-eccb-426f-ea81-057f9b906ad1"
      },
      "source": [
        "# 스트라이드가 1인 경우\n",
        "conv_layer = nn.Conv2d(in_channels=1,out_channels=1,kernel_size=1,stride=1)\n",
        "output = conv_layer(image)\n",
        "plt.imshow(output[0,0,:,:].data.numpy(),cmap='gray')\n",
        "plt.show()\n",
        "print(\"스트라이드가 1인 경우 결과값의 크기:{}\".format(output.size()))\n",
        "\n",
        "\n",
        "# 스트라이드가 3인 경우\n",
        "conv_layer = nn.Conv2d(in_channels=1,out_channels=1,kernel_size=1,stride=3)\n",
        "output = conv_layer(image)\n",
        "plt.imshow(output[0,0,:,:].data.numpy(),cmap='gray')\n",
        "plt.show()\n",
        "print(\"스트라이드가 3인 경우 결과값의 크기:{}\".format(output.size()))\n",
        "\n",
        "\n",
        "# 스트라이드가 5인 경우\n",
        "conv_layer = nn.Conv2d(in_channels=1,out_channels=1,kernel_size=1,stride=5)\n",
        "output = conv_layer(image)\n",
        "plt.imshow(output[0,0,:,:].data.numpy(),cmap='gray')\n",
        "plt.show()\n",
        "print(\"스트라이드가 5인 경우 결과값의 크기:{}\".format(output.size()))"
      ],
      "execution_count": 28,
      "outputs": [
        {
          "output_type": "display_data",
          "data": {
            "image/png": "[encoded data removed]",
            "text/plain": [
              "<Figure size 432x288 with 1 Axes>"
            ]
          },
          "metadata": {
            "tags": [],
            "needs_background": "light"
          }
        },
        {
          "output_type": "stream",
          "text": [
            "스트라이드가 1인 경우 결과값의 크기:torch.Size([1, 1, 28, 28])\n"
          ],
          "name": "stdout"
        },
        {
          "output_type": "display_data",
          "data": {
            "image/png": "[encoded data removed]",
            "text/plain": [
              "<Figure size 432x288 with 1 Axes>"
            ]
          },
          "metadata": {
            "tags": [],
            "needs_background": "light"
          }
        },
        {
          "output_type": "stream",
          "text": [
            "스트라이드가 3인 경우 결과값의 크기:torch.Size([1, 1, 10, 10])\n"
          ],
          "name": "stdout"
        },
        {
          "output_type": "display_data",
          "data": {
            "image/png": "[encoded data removed]",
            "text/plain": [
              "<Figure size 432x288 with 1 Axes>"
            ]
          },
          "metadata": {
            "tags": [],
            "needs_background": "light"
          }
        },
        {
          "output_type": "stream",
          "text": [
            "스트라이드가 5인 경우 결과값의 크기:torch.Size([1, 1, 6, 6])\n"
          ],
          "name": "stdout"
        }
      ]
    },
    {
      "cell_type": "markdown",
      "metadata": {
        "id": "rSL_SMjlQ750"
      },
      "source": [
        "## 4) Padding"
      ]
    },
    {
      "cell_type": "code",
      "metadata": {
        "colab": {
          "base_uri": "https://localhost:8080/",
          "height": 814
        },
        "id": "_Bu9zb25RBQL",
        "outputId": "2cbf3de3-1ca3-4dab-b6a6-8f401f8d03fb"
      },
      "source": [
        "# 패딩이 없는 경우\n",
        "conv_layer = nn.Conv2d(in_channels=1,out_channels=1,kernel_size=1,padding=0)\n",
        "output = conv_layer(image)\n",
        "plt.imshow(output[0,0,:,:].data.numpy(),cmap='gray')\n",
        "plt.show()\n",
        "print(\"패딩이 0인 경우 결과값의 크기:{}\".format(output.size()))\n",
        "\n",
        "# 패딩이 1인 경우\n",
        "conv_layer = nn.Conv2d(in_channels=1,out_channels=1,kernel_size=1,padding=1)\n",
        "output = conv_layer(image)\n",
        "plt.imshow(output[0,0,:,:].data.numpy(),cmap='gray')\n",
        "plt.show()\n",
        "print(\"패딩이 1인 경우 결과값의 크기:{}\".format(output.size()))\n",
        "\n",
        "# 패딩이 2인 경우\n",
        "conv_layer = nn.Conv2d(in_channels=1,out_channels=1,kernel_size=1,padding=2)\n",
        "output = conv_layer(image)\n",
        "plt.imshow(output[0,0,:,:].data.numpy(),cmap='gray')\n",
        "plt.show()\n",
        "print(\"패딩이 2인 경우 결과값의 크기:{}\".format(output.size()))"
      ],
      "execution_count": 29,
      "outputs": [
        {
          "output_type": "display_data",
          "data": {
            "image/png": "[encoded data removed]",
            "text/plain": [
              "<Figure size 432x288 with 1 Axes>"
            ]
          },
          "metadata": {
            "tags": [],
            "needs_background": "light"
          }
        },
        {
          "output_type": "stream",
          "text": [
            "패딩이 0인 경우 결과값의 크기:torch.Size([1, 1, 28, 28])\n"
          ],
          "name": "stdout"
        },
        {
          "output_type": "display_data",
          "data": {
            "image/png": "[encoded data removed]",
            "text/plain": [
              "<Figure size 432x288 with 1 Axes>"
            ]
          },
          "metadata": {
            "tags": [],
            "needs_background": "light"
          }
        },
        {
          "output_type": "stream",
          "text": [
            "패딩이 1인 경우 결과값의 크기:torch.Size([1, 1, 30, 30])\n"
          ],
          "name": "stdout"
        },
        {
          "output_type": "display_data",
          "data": {
            "image/png": "[encoded data removed]",
            "text/plain": [
              "<Figure size 432x288 with 1 Axes>"
            ]
          },
          "metadata": {
            "tags": [],
            "needs_background": "light"
          }
        },
        {
          "output_type": "stream",
          "text": [
            "패딩이 2인 경우 결과값의 크기:torch.Size([1, 1, 32, 32])\n"
          ],
          "name": "stdout"
        }
      ]
    },
    {
      "cell_type": "code",
      "metadata": {
        "id": "JBlt08K_RDe1"
      },
      "source": [
        ""
      ],
      "execution_count": null,
      "outputs": []
    }
  ]
}