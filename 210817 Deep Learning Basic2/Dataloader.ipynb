{
  "nbformat": 4,
  "nbformat_minor": 0,
  "metadata": {
    "colab": {
      "name": "Dataloader.ipynb",
      "provenance": []
    },
    "kernelspec": {
      "name": "python3",
      "display_name": "Python 3"
    },
    "language_info": {
      "name": "python"
    }
  },
  "cells": [
    {
      "cell_type": "code",
      "metadata": {
        "id": "7YXorUZsLmsV"
      },
      "source": [
        "import torch\n",
        "import torch.nn as nn\n",
        "import torch.nn.functional as F"
      ],
      "execution_count": null,
      "outputs": []
    },
    {
      "cell_type": "markdown",
      "metadata": {
        "id": "FmS5ouNfXCWM"
      },
      "source": [
        ""
      ]
    },
    {
      "cell_type": "code",
      "metadata": {
        "id": "LRQBDkGsMLS7"
      },
      "source": [
        "from torch.utils.data import Dataset\n",
        "\n",
        "class CustomDataset(Dataset) : \n",
        "  def __init__(self) : \n",
        "    self.x_data = [[73, 80, 75],\n",
        "                 [93, 88, 93],\n",
        "                 [89, 91, 90],\n",
        "                 [96, 98, 100],\n",
        "                 [73, 66, 70]]\n",
        "    self.y_data = [[152], [185], [180], [196], [142]]\n",
        "\n",
        "  def __len__(self) : \n",
        "    return len(self.x_data)\n",
        "\n",
        "  def __getitem__(self, idx) : \n",
        "    x = torch.FloatTensor(self.x_data[idx])\n",
        "    y = torch.FloatTensor(self.y_data[idx])\n",
        "\n",
        "    return x, y "
      ],
      "execution_count": null,
      "outputs": []
    },
    {
      "cell_type": "code",
      "metadata": {
        "id": "GiPE2R_CUgTA"
      },
      "source": [
        "# 모델 데이터 셋 생성 \n",
        "dataset = CustomDataset()"
      ],
      "execution_count": null,
      "outputs": []
    },
    {
      "cell_type": "code",
      "metadata": {
        "id": "2Ka1bKbvM3O0"
      },
      "source": [
        "from torch.utils.data import DataLoader \n",
        "\n",
        "dataloader = DataLoader(\n",
        "    dataset, \n",
        "    batch_size = 2, \n",
        "    shuffle = True\n",
        "\n",
        ")"
      ],
      "execution_count": null,
      "outputs": []
    },
    {
      "cell_type": "code",
      "metadata": {
        "id": "74ZCXgttVx2G"
      },
      "source": [
        "class MultivariateLinearRegressionModel(nn.Module) : \n",
        "  def __init__(self) : \n",
        "    super().__init__()\n",
        "    self.linear = nn.Linear(3,1)\n",
        "\n",
        "  def forward(self,x) : \n",
        "    return self.linear(x)\n",
        "\n",
        "\n",
        "model = MultivariateLinearRegressionModel()"
      ],
      "execution_count": null,
      "outputs": []
    },
    {
      "cell_type": "code",
      "metadata": {
        "colab": {
          "base_uri": "https://localhost:8080/"
        },
        "id": "b6WJ4iuZPWS8",
        "outputId": "ef2871b8-90e2-4365-c5ae-2335a75358a5"
      },
      "source": [
        "optimizer = torch.optim.SGD(model.parameters(), lr = 1e-5)\n",
        "\n",
        "nb_epochs = 20\n",
        "for epoch in range(nb_epochs +1) : \n",
        "  for batch_idx, samples in enumerate(dataloader) : \n",
        "    x_train, y_train = samples \n",
        "\n",
        "    # H(x) prediction 계산\n",
        "    prediction = model(x_train)\n",
        "\n",
        "    # cost 계산\n",
        "    # F는 torch.nn.functional을 의미. 노트북 맨 상단을 볼것  \n",
        "    cost = F.mse_loss(prediction, y_train)\n",
        "\n",
        "    # cost로 H(x) 개선 \n",
        "    optimizer.zero_grad()\n",
        "    cost.backward()\n",
        "    optimizer.step()\n",
        "\n",
        "    print('Epoch {:4d}/{} Batch {}/{} Cost : {:.6f}'.format(\n",
        "        epoch, nb_epochs, batch_idx+1, len(dataloader),\n",
        "        cost.item()\n",
        "    ))"
      ],
      "execution_count": null,
      "outputs": [
        {
          "output_type": "stream",
          "text": [
            "Epoch    0/20 Batch 1/3 Cost : 52756.132812\n",
            "Epoch    0/20 Batch 2/3 Cost : 16168.710938\n",
            "Epoch    0/20 Batch 3/3 Cost : 8405.194336\n",
            "Epoch    1/20 Batch 1/3 Cost : 1262.062622\n",
            "Epoch    1/20 Batch 2/3 Cost : 410.094910\n",
            "Epoch    1/20 Batch 3/3 Cost : 134.174561\n",
            "Epoch    2/20 Batch 1/3 Cost : 59.314720\n",
            "Epoch    2/20 Batch 2/3 Cost : 4.435835\n",
            "Epoch    2/20 Batch 3/3 Cost : 2.516456\n",
            "Epoch    3/20 Batch 1/3 Cost : 7.529008\n",
            "Epoch    3/20 Batch 2/3 Cost : 0.991707\n",
            "Epoch    3/20 Batch 3/3 Cost : 4.111855\n",
            "Epoch    4/20 Batch 1/3 Cost : 3.384349\n",
            "Epoch    4/20 Batch 2/3 Cost : 3.209640\n",
            "Epoch    4/20 Batch 3/3 Cost : 2.205182\n",
            "Epoch    5/20 Batch 1/3 Cost : 3.203299\n",
            "Epoch    5/20 Batch 2/3 Cost : 3.543870\n",
            "Epoch    5/20 Batch 3/3 Cost : 0.914157\n",
            "Epoch    6/20 Batch 1/3 Cost : 1.861884\n",
            "Epoch    6/20 Batch 2/3 Cost : 1.541057\n",
            "Epoch    6/20 Batch 3/3 Cost : 7.456126\n",
            "Epoch    7/20 Batch 1/3 Cost : 5.314179\n",
            "Epoch    7/20 Batch 2/3 Cost : 0.976302\n",
            "Epoch    7/20 Batch 3/3 Cost : 6.428255\n",
            "Epoch    8/20 Batch 1/3 Cost : 2.886560\n",
            "Epoch    8/20 Batch 2/3 Cost : 5.271167\n",
            "Epoch    8/20 Batch 3/3 Cost : 1.376905\n",
            "Epoch    9/20 Batch 1/3 Cost : 3.929838\n",
            "Epoch    9/20 Batch 2/3 Cost : 4.259972\n",
            "Epoch    9/20 Batch 3/3 Cost : 0.930923\n",
            "Epoch   10/20 Batch 1/3 Cost : 5.828866\n",
            "Epoch   10/20 Batch 2/3 Cost : 0.507130\n",
            "Epoch   10/20 Batch 3/3 Cost : 1.257672\n",
            "Epoch   11/20 Batch 1/3 Cost : 0.395154\n",
            "Epoch   11/20 Batch 2/3 Cost : 5.723997\n",
            "Epoch   11/20 Batch 3/3 Cost : 0.694283\n",
            "Epoch   12/20 Batch 1/3 Cost : 3.719972\n",
            "Epoch   12/20 Batch 2/3 Cost : 0.461001\n",
            "Epoch   12/20 Batch 3/3 Cost : 5.859789\n",
            "Epoch   13/20 Batch 1/3 Cost : 2.586578\n",
            "Epoch   13/20 Batch 2/3 Cost : 4.819951\n",
            "Epoch   13/20 Batch 3/3 Cost : 0.028956\n",
            "Epoch   14/20 Batch 1/3 Cost : 3.699579\n",
            "Epoch   14/20 Batch 2/3 Cost : 2.736520\n",
            "Epoch   14/20 Batch 3/3 Cost : 2.413686\n",
            "Epoch   15/20 Batch 1/3 Cost : 2.932187\n",
            "Epoch   15/20 Batch 2/3 Cost : 5.318634\n",
            "Epoch   15/20 Batch 3/3 Cost : 1.183473\n",
            "Epoch   16/20 Batch 1/3 Cost : 2.015409\n",
            "Epoch   16/20 Batch 2/3 Cost : 4.585769\n",
            "Epoch   16/20 Batch 3/3 Cost : 1.253876\n",
            "Epoch   17/20 Batch 1/3 Cost : 0.848581\n",
            "Epoch   17/20 Batch 2/3 Cost : 3.532758\n",
            "Epoch   17/20 Batch 3/3 Cost : 8.528439\n",
            "Epoch   18/20 Batch 1/3 Cost : 6.541494\n",
            "Epoch   18/20 Batch 2/3 Cost : 0.528112\n",
            "Epoch   18/20 Batch 3/3 Cost : 4.070375\n",
            "Epoch   19/20 Batch 1/3 Cost : 5.981168\n",
            "Epoch   19/20 Batch 2/3 Cost : 1.486371\n",
            "Epoch   19/20 Batch 3/3 Cost : 3.685338\n",
            "Epoch   20/20 Batch 1/3 Cost : 3.277760\n",
            "Epoch   20/20 Batch 2/3 Cost : 3.294969\n",
            "Epoch   20/20 Batch 3/3 Cost : 0.027994\n"
          ],
          "name": "stdout"
        }
      ]
    },
    {
      "cell_type": "code",
      "metadata": {
        "id": "xfwSHDknUZ3c"
      },
      "source": [
        "  "
      ],
      "execution_count": null,
      "outputs": []
    }
  ]
}